{
 "cells": [
  {
   "cell_type": "markdown",
   "id": "305d6ca8",
   "metadata": {},
   "source": [
    "# 2: MTC MNL Mode Choice, Motorized"
   ]
  },
  {
   "cell_type": "code",
   "execution_count": null,
   "id": "f2ac00a8",
   "metadata": {
    "tags": [
     "remove_cell"
    ]
   },
   "outputs": [],
   "source": [
    "# HIDDEN\n",
    "import larch.numba as lx\n",
    "import larch.examples\n",
    "import pandas as pd\n",
    "pd.set_option('display.max_columns',999)\n",
    "pd.set_option('expand_frame_repr',False)\n",
    "pd.set_option('display.precision',4)\n",
    "larch._doctest_mode_ = True\n",
    "from pytest import approx"
   ]
  },
  {
   "cell_type": "markdown",
   "id": "830dfc0a",
   "metadata": {},
   "source": [
    "Model 2 posits that the effect of income relative to drive alone is the same for both\n",
    "shared ride modes and transit but is different for the other modes.\n",
    "This is represented in the model by constraining the income coefficients in both\n",
    "shared ride modes and the transit mode to be equal. [pp. 108](http://www.caee.utexas.edu/prof/Bhat/COURSES/LM_Draft_060131Final-060630.pdf)\n",
    "\n",
    "To accomplish this, we give the income parameters for all three alternatives the same name."
   ]
  },
  {
   "cell_type": "code",
   "execution_count": null,
   "id": "832d93de",
   "metadata": {},
   "outputs": [],
   "source": [
    "import larch.numba as lx\n",
    "from larch import P, X, PX\n",
    "\n",
    "d = lx.examples.MTC(format='dataset')\n",
    "m = lx.Model(d)\n",
    "m.title = \"MTC Example 2, Motorized\"\n",
    "\n",
    "m.utility_co[2] = P(\"ASC_SR2\")  + P(\"hhinc#Moto\") * X(\"hhinc\") # ←\n",
    "m.utility_co[3] = P(\"ASC_SR3P\") + P(\"hhinc#Moto\") * X(\"hhinc\") # ← Note same P(\"hhinc#Moto\")\n",
    "m.utility_co[4] = P(\"ASC_TRAN\") + P(\"hhinc#Moto\") * X(\"hhinc\") # ←\n",
    "m.utility_co[5] = P(\"ASC_BIKE\") + P(\"hhinc#5\") * X(\"hhinc\")\n",
    "m.utility_co[6] = P(\"ASC_WALK\") + P(\"hhinc#6\") * X(\"hhinc\")\n",
    "\n",
    "m.utility_ca = PX(\"tottime\") + PX(\"totcost\")\n",
    "\n",
    "m.availability_var = 'avail'\n",
    "m.choice_ca_var = 'chose'\n",
    "\n",
    "m.ordering = (\n",
    "    (\"LOS\", \"totcost\", \"tottime\", ),\n",
    "    (\"Income\", \"hhinc.*\", ),\n",
    "    (\"ASCs\", \"ASC.*\", ),\n",
    ")"
   ]
  },
  {
   "cell_type": "code",
   "execution_count": null,
   "id": "d0bd2172",
   "metadata": {},
   "outputs": [],
   "source": [
    "m.maximize_loglike()"
   ]
  },
  {
   "cell_type": "code",
   "execution_count": null,
   "id": "50d71e8d",
   "metadata": {
    "tags": [
     "remove_cell"
    ]
   },
   "outputs": [],
   "source": [
    "# TEST\n",
    "r = _\n",
    "assert r.loglike == approx(-3628.2854897475563)\n",
    "assert r.method == 'bhhh'\n",
    "assert r.logloss == approx(0.7214725571182256)\n",
    "assert r.n_cases == 5029"
   ]
  },
  {
   "cell_type": "code",
   "execution_count": null,
   "id": "22b27dee",
   "metadata": {},
   "outputs": [],
   "source": [
    "m.calculate_parameter_covariance()"
   ]
  },
  {
   "cell_type": "code",
   "execution_count": null,
   "id": "3ae9b6d0",
   "metadata": {
    "tags": [
     "remove_cell"
    ]
   },
   "outputs": [],
   "source": [
    "# TEST\n",
    "assert m.loglike() == approx(-3628.2854897475563)"
   ]
  },
  {
   "cell_type": "code",
   "execution_count": null,
   "id": "e8488bb6",
   "metadata": {},
   "outputs": [],
   "source": [
    "m.parameter_summary()"
   ]
  },
  {
   "cell_type": "code",
   "execution_count": null,
   "id": "04d1b36f",
   "metadata": {
    "tags": [
     "remove_cell"
    ]
   },
   "outputs": [],
   "source": [
    "# TEST\n",
    "assert (m.parameter_summary().data.to_markdown()) == \"\"\"\n",
    "|                          |    Value |   Std Err |   t Stat | Signif   |   Null Value |\n",
    "|:-------------------------|---------:|----------:|---------:|:---------|-------------:|\n",
    "| ('LOS', 'totcost')       | -0.0049  |  0.000238 |   -20.57 | ***      |            0 |\n",
    "| ('LOS', 'tottime')       | -0.0514  |  0.0031   |   -16.61 | ***      |            0 |\n",
    "| ('Income', 'hhinc#5')    | -0.0125  |  0.00532  |    -2.35 | *        |            0 |\n",
    "| ('Income', 'hhinc#6')    | -0.00925 |  0.00302  |    -3.07 | **       |            0 |\n",
    "| ('Income', 'hhinc#Moto') | -0.00287 |  0.00122  |    -2.35 | *        |            0 |\n",
    "| ('ASCs', 'ASC_BIKE')     | -2.39    |  0.304    |    -7.85 | ***      |            0 |\n",
    "| ('ASCs', 'ASC_SR2')      | -2.14    |  0.0884   |   -24.18 | ***      |            0 |\n",
    "| ('ASCs', 'ASC_SR3P')     | -3.53    |  0.115    |   -30.64 | ***      |            0 |\n",
    "| ('ASCs', 'ASC_TRAN')     | -0.799   |  0.112    |    -7.11 | ***      |            0 |\n",
    "| ('ASCs', 'ASC_WALK')     | -0.23    |  0.193    |    -1.19 |          |            0 |\n",
    "\"\"\"[1:-1]"
   ]
  }
 ],
 "metadata": {
  "kernelspec": {
   "display_name": "Python 3 (ipykernel)",
   "language": "python",
   "name": "python3"
  },
  "language_info": {
   "codemirror_mode": {
    "name": "ipython",
    "version": 3
   },
   "file_extension": ".py",
   "mimetype": "text/x-python",
   "name": "python",
   "nbconvert_exporter": "python",
   "pygments_lexer": "ipython3",
   "version": "3.9.9"
  },
  "toc": {
   "base_numbering": 1,
   "nav_menu": {},
   "number_sections": false,
   "sideBar": true,
   "skip_h1_title": false,
   "title_cell": "Table of Contents",
   "title_sidebar": "Contents",
   "toc_cell": false,
   "toc_position": {},
   "toc_section_display": true,
   "toc_window_display": false
  }
 },
 "nbformat": 4,
 "nbformat_minor": 5
}
