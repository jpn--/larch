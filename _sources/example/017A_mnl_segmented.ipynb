{
 "cells": [
  {
   "cell_type": "markdown",
   "id": "5852f0e3",
   "metadata": {},
   "source": [
    "# 17a: Market Segmentatation"
   ]
  },
  {
   "cell_type": "code",
   "execution_count": null,
   "id": "f9fa7932",
   "metadata": {
    "tags": [
     "remove_cell"
    ]
   },
   "outputs": [],
   "source": [
    "# TEST\n",
    "import larch.numba as lx\n",
    "import larch\n",
    "import pandas as pd\n",
    "pd.set_option(\"display.max_columns\", 999)\n",
    "pd.set_option('expand_frame_repr', False)\n",
    "pd.set_option('display.precision', 3)\n",
    "larch._doctest_mode_ = True"
   ]
  },
  {
   "cell_type": "markdown",
   "id": "7d382537",
   "metadata": {},
   "source": [
    "For this example, we're going to re-create the market segmentation\n",
    "versions of model 17 from the\n",
    "[Self Instructing Manual](http://www.caee.utexas.edu/prof/Bhat/COURSES/LM_Draft_060131Final-060630.pdf). (pp. 133)\n",
    "\n",
    "Market segmentation can be used to determine whether the impact of other variables is different among population groups. The most common approach to market segmentation is for the analyst to consider sample segments which are mutually exclusive and collectively exhaustive (that is, each case is included in one and only one segment). Models are estimated for the sample associated with each segment and compared to the pooled model (all segments represented by a single model) to determine if there are statistically significant and important differences among the market segments.\n",
    "\n",
    "In these models, we will segment the market by automobile ownership for households that have one or fewer cars. It is appealing to include a distinct segment for households with no cars since the mode choice behavior of this segment is very different from the rest of the population due to their dependence on non-automobile modes. However, the size of this segment in the dataset is too small, so it is joined with the one car group."
   ]
  },
  {
   "cell_type": "code",
   "execution_count": null,
   "id": "afdbf9d2",
   "metadata": {},
   "outputs": [],
   "source": [
    "import larch.numba as lx\n",
    "d = lx.examples.MTC(format='dataset')"
   ]
  },
  {
   "cell_type": "markdown",
   "id": "92ef59a2",
   "metadata": {},
   "source": [
    "We can use the `query_cases` method to create two separate datasets for this work,\n",
    "and then attach these datasets to two models."
   ]
  },
  {
   "cell_type": "code",
   "execution_count": null,
   "id": "d95d4273",
   "metadata": {},
   "outputs": [],
   "source": [
    "d1 = d.query_cases(\"numveh <= 1\")\n",
    "d2 = d.query_cases(\"numveh > 1\")\n",
    "m1 = lx.Model(d1, title=\"Cars<=1\")\n",
    "m2 = lx.Model(d2, title=\"Cars>=2\")"
   ]
  },
  {
   "cell_type": "markdown",
   "id": "3eb1164f",
   "metadata": {},
   "source": [
    "We will then construct the same model stucture in each, using the \n",
    "design worked up for Model 17."
   ]
  },
  {
   "cell_type": "code",
   "execution_count": null,
   "id": "5bd6ddb2",
   "metadata": {},
   "outputs": [],
   "source": [
    "from larch import P, X\n",
    "\n",
    "for m in (m1,m2):\n",
    "    m.availability_var = 'avail'\n",
    "    m.choice_ca_var = 'chose'\n",
    "    m.utility_ca = (\n",
    "        + X(\"totcost/hhinc\") * P(\"costbyincome\")\n",
    "        + X(\"tottime * (altnum <= 4)\") * P(\"motorized_time\")\n",
    "        + X(\"tottime * (altnum >= 5)\") * P(\"nonmotorized_time\")\n",
    "        + X(\"ovtt/dist * (altnum <= 4)\") * P(\"motorized_ovtbydist\")\n",
    "    )\n",
    "    for a in [4,5,6]:\n",
    "        m.utility_co[a] += X(\"hhinc\") * P(\"hhinc#{}\".format(a))\n",
    "    for i in d['alt_names'][1:3]:\n",
    "        name = str(i.values)\n",
    "        a = int(i.altid)\n",
    "        m.utility_co[a] += (\n",
    "            + X(\"vehbywrk\") * P(\"vehbywrk_SR\")\n",
    "            + X(\"wkccbd+wknccbd\") * P(\"wkcbd_\"+name)\n",
    "            + X(\"wkempden\") * P(\"wkempden_\"+name)\n",
    "            + P(\"ASC_\"+name)\n",
    "        )\n",
    "    for i in d['alt_names'][3:]:\n",
    "        name = str(i.values)\n",
    "        a = int(i.altid)\n",
    "        m.utility_co[a] += (\n",
    "            + X(\"vehbywrk\") * P(\"vehbywrk_\"+name)\n",
    "            + X(\"wkccbd+wknccbd\") * P(\"wkcbd_\"+name)\n",
    "            + X(\"wkempden\") * P(\"wkempden_\"+name)\n",
    "            + P(\"ASC_\"+name)\n",
    "        ) \n",
    "    m.ordering = (\n",
    "        ('LOS', \".*cost.*\", \".*time.*\", \".*dist.*\",),\n",
    "        ('Zonal', \"wkcbd.*\", \"wkempden.*\",),\n",
    "        ('Household', \"hhinc.*\", \"vehbywrk.*\",),\n",
    "        ('ASCs', \"ASC.*\",),\n",
    "    )"
   ]
  },
  {
   "cell_type": "markdown",
   "id": "1bec5f2a",
   "metadata": {},
   "source": [
    "## Independent Estimation\n",
    "\n",
    "We can estimate these models completely independently."
   ]
  },
  {
   "cell_type": "code",
   "execution_count": null,
   "id": "6d54f34c",
   "metadata": {},
   "outputs": [],
   "source": [
    "r1 = m1.maximize_loglike()\n",
    "r2 = m2.maximize_loglike()"
   ]
  },
  {
   "cell_type": "code",
   "execution_count": null,
   "id": "1b943352",
   "metadata": {
    "tags": [
     "remove_cell"
    ]
   },
   "outputs": [],
   "source": [
    "# TEST\n",
    "from pytest import approx\n",
    "assert r1.loglike == approx(-1049.2796388550328)\n",
    "assert r2.loglike == approx(-2296.667143538367)\n",
    "assert r1.n_cases == 1221\n",
    "assert r2.n_cases == 3808\n",
    "assert 'success' in r1.message.lower()\n",
    "assert 'success' in r2.message.lower()"
   ]
  },
  {
   "cell_type": "markdown",
   "id": "ebd47f50",
   "metadata": {},
   "source": [
    "To have t-statistics and $\\rho^2_{\\oslash}$ values, we'll also need\n",
    "to prepare those for each model."
   ]
  },
  {
   "cell_type": "code",
   "execution_count": null,
   "id": "395f02e1",
   "metadata": {},
   "outputs": [],
   "source": [
    "for m in (m1,m2):\n",
    "    m.calculate_parameter_covariance()\n",
    "    m.loglike_null()"
   ]
  },
  {
   "cell_type": "markdown",
   "id": "e199a423",
   "metadata": {},
   "source": [
    "We can generate a side-by-side summary of the \n",
    "two models using the [`joint_parameter_summary`](larch.util.summary.joint_parameter_summary) function."
   ]
  },
  {
   "cell_type": "code",
   "execution_count": null,
   "id": "ba8a49f8",
   "metadata": {},
   "outputs": [],
   "source": [
    "from larch.util.summary import joint_parameter_summary\n",
    "joint_parameter_summary([m1,m2])"
   ]
  },
  {
   "cell_type": "markdown",
   "id": "2d849f70",
   "metadata": {},
   "source": [
    "## Joint Estimation\n",
    "\n",
    "Suppose we think completely independent estimation is \n",
    "inappropriate, and that while these two market segments behave\n",
    "differently with respect to some attributes of the choice, they\n",
    "are also the same on some attributes.  In that case, we'll need\n",
    "to use joint estimation -- that is, estimating all the parameters\n",
    "of both models simultaneously.\n",
    "\n",
    "We'll assume that any parameter that appears in both models with \n",
    "the same name is actually the same parameter (with the same value).\n",
    "As configured so far, that's all the parameters.  But we can edit\n",
    "one of the models so that the parameter names differ where we\n",
    "want them to, using `reformat_param`.\n",
    "\n",
    "Suppose we want different parameters for all the `ca` level of\n",
    "service variables.  We can change every parameter in the entire\n",
    "`utility_ca` linear function with a simple formatted replacement."
   ]
  },
  {
   "cell_type": "code",
   "execution_count": null,
   "id": "74d6b490",
   "metadata": {},
   "outputs": [],
   "source": [
    "m2.utility_ca = m2.utility_ca.reformat_param('{}_2Cars')"
   ]
  },
  {
   "cell_type": "markdown",
   "id": "8ea037bb",
   "metadata": {},
   "source": [
    "To change just a selection of parameters, there's a regular\n",
    "expression approach using different arguments to `reformat_param`. \n",
    "Here, we'll replace all the parameters with 'ASC' in them to\n",
    "be a segment-specific value."
   ]
  },
  {
   "cell_type": "code",
   "execution_count": null,
   "id": "1293c515",
   "metadata": {},
   "outputs": [],
   "source": [
    "for a in m2.utility_co:\n",
    "    m2.utility_co[a] = m2.utility_co[a].reformat_param(\n",
    "        pattern='(ASC)', repl='ASC_2Cars'\n",
    "    )"
   ]
  },
  {
   "cell_type": "markdown",
   "id": "b715bdc8",
   "metadata": {},
   "source": [
    "Then, we can put our models together into a `ModelGroup` for\n",
    "joint estimation."
   ]
  },
  {
   "cell_type": "code",
   "execution_count": null,
   "id": "fb2c18a3",
   "metadata": {},
   "outputs": [],
   "source": [
    "mg = lx.ModelGroup([m1,m2])"
   ]
  },
  {
   "cell_type": "code",
   "execution_count": null,
   "id": "8aec3d88",
   "metadata": {
    "tags": [
     "remove_cell"
    ]
   },
   "outputs": [],
   "source": [
    "# TEST\n",
    "assert mg.loglike('null') == approx(-7309.600971749634)"
   ]
  },
  {
   "cell_type": "markdown",
   "id": "11300bab",
   "metadata": {},
   "source": [
    "The estimation interface for a `ModelGroup` is the \n",
    "same as that for a regular model: first `maximize_loglike`,\n",
    "then `calculate_parameter_covariance` if desired. We can also\n",
    "use many other Model commands, e.g. `set_cap` to bound our \n",
    "parameters to finite values."
   ]
  },
  {
   "cell_type": "code",
   "execution_count": null,
   "id": "25df900f",
   "metadata": {},
   "outputs": [],
   "source": [
    "mg.set_cap()\n",
    "rg = mg.maximize_loglike()\n",
    "mg.calculate_parameter_covariance()"
   ]
  },
  {
   "cell_type": "code",
   "execution_count": null,
   "id": "095c6d58",
   "metadata": {},
   "outputs": [],
   "source": [
    "rg"
   ]
  },
  {
   "cell_type": "code",
   "execution_count": null,
   "id": "157e18c6",
   "metadata": {
    "tags": [
     "remove_cell"
    ]
   },
   "outputs": [],
   "source": [
    "# TEST\n",
    "assert rg.loglike == approx(-3406.7232213364787)\n",
    "assert rg.n_cases == 5029"
   ]
  },
  {
   "cell_type": "markdown",
   "id": "263f51e3",
   "metadata": {},
   "source": [
    "To review the estimation results, we can use `ordering`,\n",
    "`parameter_summary`, and `estimation_statistics` as usual."
   ]
  },
  {
   "cell_type": "code",
   "execution_count": null,
   "id": "b1d16543",
   "metadata": {},
   "outputs": [],
   "source": [
    "mg.ordering = (\n",
    "    ('LOS', \".*cost.*\", \".*time.*\", \".*dist.*\",),\n",
    "    ('Zonal', \"wkcbd.*\", \"wkempden.*\",),\n",
    "    ('Household', \"hhinc.*\", \"vehbywrk.*\",),\n",
    "    ('ASCs', \"ASC.*\",),\n",
    ")\n",
    "mg.parameter_summary()"
   ]
  },
  {
   "cell_type": "code",
   "execution_count": null,
   "id": "a308716f",
   "metadata": {
    "tags": [
     "remove_cell"
    ]
   },
   "outputs": [],
   "source": [
    "# TEST\n",
    "import re\n",
    "mash = lambda x: re.sub('\\\\s+', ' ', str(x)).strip()\n",
    "assert mash(mg.parameter_summary().data) == mash('''\n",
    "                                        Value    Std Err  t Stat Signif  Null Value\n",
    "Category  Parameter                                                                \n",
    "LOS       costbyincome                -0.0174     0.0117   -1.49                0.0\n",
    "          costbyincome_2Cars           -0.102     0.0154   -6.60    ***         0.0\n",
    "          motorized_time              -0.0196    0.00567   -3.46    ***         0.0\n",
    "          motorized_time_2Cars        -0.0195    0.00496   -3.94    ***         0.0\n",
    "          nonmotorized_time           -0.0442    0.00776   -5.69    ***         0.0\n",
    "          nonmotorized_time_2Cars     -0.0471    0.00868   -5.43    ***         0.0\n",
    "          motorized_ovtbydist          -0.100     0.0237   -4.23    ***         0.0\n",
    "          motorized_ovtbydist_2Cars    -0.187     0.0309   -6.05    ***         0.0\n",
    "Zonal     wkcbd_Bike                    0.460      0.364    1.27                0.0\n",
    "          wkcbd_SR2                     0.233      0.124    1.88                0.0\n",
    "          wkcbd_SR3+                     1.04      0.192    5.42    ***         0.0\n",
    "          wkcbd_Transit                  1.27      0.168    7.53    ***         0.0\n",
    "          wkcbd_Walk                    0.100      0.250    0.40                0.0\n",
    "          wkempden_Bike               0.00137    0.00124    1.11                0.0\n",
    "          wkempden_SR2                0.00132   0.000392    3.36    ***         0.0\n",
    "          wkempden_SR3+               0.00184   0.000461    3.99    ***         0.0\n",
    "          wkempden_Transit            0.00274   0.000358    7.64    ***         0.0\n",
    "          wkempden_Walk               0.00248   0.000730    3.39    ***         0.0\n",
    "Household hhinc#4                    -0.00101    0.00208   -0.48                0.0\n",
    "          hhinc#5                    -0.00366    0.00527   -0.70                0.0\n",
    "          hhinc#6                    -0.00232    0.00331   -0.70                0.0\n",
    "          vehbywrk_Bike                -0.255      0.290   -0.88                0.0\n",
    "          vehbywrk_SR                  -0.314     0.0740   -4.24    ***         0.0\n",
    "          vehbywrk_Transit             -0.638      0.132   -4.82    ***         0.0\n",
    "          vehbywrk_Walk                -0.395      0.198   -1.99      *         0.0\n",
    "ASCs      ASC_2Cars_Bike                -2.94      0.629   -4.67    ***         0.0\n",
    "          ASC_2Cars_SR2                 -1.91      0.127  -15.06    ***         0.0\n",
    "          ASC_2Cars_SR3+                -3.53      0.173  -20.43    ***         0.0\n",
    "          ASC_2Cars_Transit             -1.47      0.320   -4.60    ***         0.0\n",
    "          ASC_2Cars_Walk                -1.00      0.517   -1.94                0.0\n",
    "          ASC_Bike                      -1.39      0.439   -3.17     **         0.0\n",
    "          ASC_SR2                       -1.58      0.126  -12.57    ***         0.0\n",
    "          ASC_SR3+                      -3.26      0.206  -15.84    ***         0.0\n",
    "          ASC_Transit                  -0.747      0.271   -2.76     **         0.0\n",
    "          ASC_Walk                      0.314      0.416    0.75                0.0\n",
    "''')"
   ]
  },
  {
   "cell_type": "code",
   "execution_count": null,
   "id": "d998d62b",
   "metadata": {},
   "outputs": [],
   "source": [
    "mg.estimation_statistics()"
   ]
  }
 ],
 "metadata": {
  "kernelspec": {
   "display_name": "Python 3 (ipykernel)",
   "language": "python",
   "name": "python3"
  },
  "language_info": {
   "codemirror_mode": {
    "name": "ipython",
    "version": 3
   },
   "file_extension": ".py",
   "mimetype": "text/x-python",
   "name": "python",
   "nbconvert_exporter": "python",
   "pygments_lexer": "ipython3",
   "version": "3.9.9"
  },
  "toc": {
   "base_numbering": 1,
   "nav_menu": {},
   "number_sections": false,
   "sideBar": true,
   "skip_h1_title": false,
   "title_cell": "Table of Contents",
   "title_sidebar": "Contents",
   "toc_cell": false,
   "toc_position": {},
   "toc_section_display": true,
   "toc_window_display": false
  }
 },
 "nbformat": 4,
 "nbformat_minor": 5
}
