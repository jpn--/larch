{
 "cells": [
  {
   "cell_type": "markdown",
   "id": "25dfc0ea",
   "metadata": {},
   "source": [
    "# 22: MTC Motorized and Non-Motorized Nested Mode Choice"
   ]
  },
  {
   "cell_type": "code",
   "execution_count": null,
   "id": "8447f6d1",
   "metadata": {
    "tags": [
     "remove_cell"
    ]
   },
   "outputs": [],
   "source": [
    "# TEST\n",
    "import larch.numba as lx\n",
    "import larch\n",
    "import pandas as pd\n",
    "pd.set_option(\"display.max_columns\", 999)\n",
    "pd.set_option('expand_frame_repr', False)\n",
    "pd.set_option('display.precision', 3)\n",
    "larch._doctest_mode_ = True"
   ]
  },
  {
   "cell_type": "code",
   "execution_count": null,
   "id": "ef24ae7c",
   "metadata": {},
   "outputs": [],
   "source": [
    "import larch.numba as lx\n",
    "m = lx.example(17)"
   ]
  },
  {
   "cell_type": "markdown",
   "id": "142cc945",
   "metadata": {},
   "source": [
    "For this example, we're going to re-create model 22 from the\n",
    "[Self Instructing Manual](http://www.caee.utexas.edu/prof/Bhat/COURSES/LM_Draft_060131Final-060630.pdf).\n",
    "(pp. 179)"
   ]
  },
  {
   "cell_type": "code",
   "execution_count": null,
   "id": "b98cfa74",
   "metadata": {},
   "outputs": [],
   "source": [
    "motorized = m.graph.new_node(parameter='mu_motor', children=[1,2,3,4], name='Motorized')\n",
    "nonmotorized = m.graph.new_node(parameter='mu_nonmotor', children=[5,6], name='Nonmotorized')"
   ]
  },
  {
   "cell_type": "code",
   "execution_count": null,
   "id": "d261bced",
   "metadata": {},
   "outputs": [],
   "source": [
    "m.ordering = (\n",
    "    (\"CostbyInc\",\"costbyincome\",),\n",
    "    (\"TravelTime\",\".*time.*\",\".*dist.*\", ),\n",
    "    (\"Household\",\"hhinc.*\",\"vehbywrk.*\",),\n",
    "    (\"Zonal\",\"wkcbd.*\",\"wkempden.*\",),\n",
    "    (\"ASCs\",\"ASC.*\",),\n",
    ")"
   ]
  },
  {
   "cell_type": "code",
   "execution_count": null,
   "id": "53c594d3",
   "metadata": {},
   "outputs": [],
   "source": [
    "m.loglike()"
   ]
  },
  {
   "cell_type": "code",
   "execution_count": null,
   "id": "a6385cca",
   "metadata": {},
   "outputs": [],
   "source": [
    "m.maximize_loglike()"
   ]
  },
  {
   "cell_type": "code",
   "execution_count": null,
   "id": "86797532",
   "metadata": {
    "tags": [
     "remove_cell"
    ]
   },
   "outputs": [],
   "source": [
    "# TEST\n",
    "r = _\n",
    "from pytest import approx\n",
    "assert r.loglike == approx(-3441.6725273276093)\n",
    "assert r.x.to_dict() == approx({\n",
    "    'ASC_Bike': -1.20121377368776,\n",
    "    'ASC_SR2': -1.3249994772436486,\n",
    "    'ASC_SR3+': -2.5054851027492253,\n",
    "    'ASC_Transit': -0.40353084533082045,\n",
    "    'ASC_Walk': 0.34551113625325786,\n",
    "    'costbyincome': -0.03861360194755318,\n",
    "    'hhinc#4': -0.003931362675191974,\n",
    "    'hhinc#5': -0.010046234675501432,\n",
    "    'hhinc#6': -0.006207796718518586,\n",
    "    'motorized_ovtbydist': -0.11379548394180466,\n",
    "    'motorized_time': -0.014523234366809905,\n",
    "    'mu_motor': 0.72576816727894,\n",
    "    'mu_nonmotor': 0.7689450326718575,\n",
    "    'nonmotorized_time': -0.04621547925833897,\n",
    "    'vehbywrk_Bike': -0.7347742417604239,\n",
    "    'vehbywrk_SR': -0.22565621131703487,\n",
    "    'vehbywrk_Transit': -0.7070594259833456,\n",
    "    'vehbywrk_Walk': -0.7639044919565389,\n",
    "    'wkcbd_Bike': 0.4076763174327375,\n",
    "    'wkcbd_SR2': 0.19312777803415748,\n",
    "    'wkcbd_SR3+': 0.7809292100705522,\n",
    "    'wkcbd_Transit': 0.9213136464564823,\n",
    "    'wkcbd_Walk': 0.11415414788788253,\n",
    "    'wkempden_Bike': 0.0016745202255747994,\n",
    "    'wkempden_SR2': 0.0011489805446366777,\n",
    "    'wkempden_SR3+': 0.0016377373877722236,\n",
    "    'wkempden_Transit': 0.0022365960915132523,\n",
    "    'wkempden_Walk': 0.0021703617647683077,\n",
    "})"
   ]
  },
  {
   "cell_type": "code",
   "execution_count": null,
   "id": "78506ed5",
   "metadata": {},
   "outputs": [],
   "source": [
    "m.calculate_parameter_covariance()\n",
    "m.parameter_summary()"
   ]
  },
  {
   "cell_type": "code",
   "execution_count": null,
   "id": "f2000fd0",
   "metadata": {
    "tags": [
     "remove_cell"
    ]
   },
   "outputs": [],
   "source": [
    "# TEST\n",
    "expected_t = pd.Series({\n",
    "    'ASC_Bike': -2.881569443409477,\n",
    "    'ASC_SR2': -5.204425602708685,\n",
    "    'ASC_SR3+': -5.275842513099268,\n",
    "    'ASC_Transit': -1.8243904163392237,\n",
    "    'ASC_Walk': 0.9656434233286435,\n",
    "    'costbyincome': -3.7243563589444535,\n",
    "    'hhinc#4': -2.4383027129079897,\n",
    "    'hhinc#5': -2.1601014088138006,\n",
    "    'hhinc#6': -2.054554130876547,\n",
    "    'motorized_ovtbydist': -5.392579484990406,\n",
    "    'motorized_time': -3.756598288003745,\n",
    "    'mu_motor': -2.032666931781664,\n",
    "    'mu_nonmotor': -1.2943376487686051,\n",
    "    'nonmotorized_time': -8.563409701860495,\n",
    "    'vehbywrk_Bike': -3.211491831176134,\n",
    "    'vehbywrk_SR': -3.4688548789195424,\n",
    "    'vehbywrk_Transit': -4.718863374996957,\n",
    "    'vehbywrk_Walk': -4.675427161909606,\n",
    "    'wkcbd_Bike': 1.244223796284792,\n",
    "    'wkcbd_SR2': 2.007757422121489,\n",
    "    'wkcbd_SR3+': 3.907963772087721,\n",
    "    'wkcbd_Transit': 4.1528097832925575,\n",
    "    'wkcbd_Walk': 0.48281154652725755,\n",
    "    'wkempden_Bike': 1.5400453448104852,\n",
    "    'wkempden_SR2': 3.2432618482177604,\n",
    "    'wkempden_SR3+': 3.6494060537658353,\n",
    "    'wkempden_Transit': 4.408676458615664,\n",
    "    'wkempden_Walk': 2.8469911145512783\n",
    "}, name='t_stat')\n",
    "pd.testing.assert_series_equal(m.pf.t_stat, expected_t)"
   ]
  }
 ],
 "metadata": {
  "kernelspec": {
   "display_name": "Python 3 (ipykernel)",
   "language": "python",
   "name": "python3"
  },
  "language_info": {
   "codemirror_mode": {
    "name": "ipython",
    "version": 3
   },
   "file_extension": ".py",
   "mimetype": "text/x-python",
   "name": "python",
   "nbconvert_exporter": "python",
   "pygments_lexer": "ipython3",
   "version": "3.9.9"
  },
  "toc": {
   "base_numbering": 1,
   "nav_menu": {},
   "number_sections": false,
   "sideBar": true,
   "skip_h1_title": false,
   "title_cell": "Table of Contents",
   "title_sidebar": "Contents",
   "toc_cell": false,
   "toc_position": {},
   "toc_section_display": true,
   "toc_window_display": false
  }
 },
 "nbformat": 4,
 "nbformat_minor": 5
}
