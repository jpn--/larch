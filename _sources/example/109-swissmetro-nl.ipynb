{
 "cells": [
  {
   "cell_type": "markdown",
   "id": "85e2b068",
   "metadata": {},
   "source": [
    "# 109: Swissmetro Nested Logit Mode Choice"
   ]
  },
  {
   "cell_type": "code",
   "execution_count": null,
   "id": "2c734ca6",
   "metadata": {
    "tags": [
     "remove_cell"
    ]
   },
   "outputs": [],
   "source": [
    "# TEST\n",
    "import larch\n",
    "import os\n",
    "import pandas as pd\n",
    "pd.set_option(\"display.max_columns\", 999)\n",
    "pd.set_option('expand_frame_repr', False)\n",
    "pd.set_option('display.precision', 3)\n",
    "larch._doctest_mode_ = True\n",
    "import larch.numba as lx"
   ]
  },
  {
   "cell_type": "code",
   "execution_count": null,
   "id": "2d1bdce3",
   "metadata": {},
   "outputs": [],
   "source": [
    "import pandas as pd\n",
    "import larch.numba as lx"
   ]
  },
  {
   "cell_type": "markdown",
   "id": "aade76fb",
   "metadata": {},
   "source": [
    "This example is a mode choice model built using the Swissmetro example dataset.\n",
    "First we create the Dataset and Model objects. "
   ]
  },
  {
   "cell_type": "code",
   "execution_count": null,
   "id": "7f4eda8a",
   "metadata": {},
   "outputs": [],
   "source": [
    "raw_data = pd.read_csv(lx.example_file('swissmetro.csv.gz')).rename_axis(index='CASEID')\n",
    "data = lx.Dataset.from_idco(raw_data, alts={1:'Train', 2:'SM', 3:'Car'})\n",
    "m = lx.Model(data.query_cases(\"PURPOSE in (1,3) and CHOICE != 0\"))"
   ]
  },
  {
   "cell_type": "markdown",
   "id": "944ae5d5",
   "metadata": {},
   "source": [
    "We can attach a title to the model. The title does not affect the calculations\n",
    "as all; it is merely used in various output report styles."
   ]
  },
  {
   "cell_type": "code",
   "execution_count": null,
   "id": "62fc7588",
   "metadata": {},
   "outputs": [],
   "source": [
    "m.title = \"swissmetro example 09 (nested logit)\""
   ]
  },
  {
   "cell_type": "markdown",
   "id": "363fa45f",
   "metadata": {},
   "source": [
    "We need to identify the availability and choice variables."
   ]
  },
  {
   "cell_type": "code",
   "execution_count": null,
   "id": "4cbeb27e",
   "metadata": {},
   "outputs": [],
   "source": [
    "m.availability_co_vars = {\n",
    "    1: \"TRAIN_AV * (SP!=0)\",\n",
    "    2: \"SM_AV\",\n",
    "    3: \"CAR_AV * (SP!=0)\",\n",
    "}\n",
    "m.choice_co_code = 'CHOICE'"
   ]
  },
  {
   "cell_type": "markdown",
   "id": "923f77b4",
   "metadata": {},
   "source": [
    "The swissmetro dataset, as with all Biogeme data, is only in `co` format."
   ]
  },
  {
   "cell_type": "code",
   "execution_count": null,
   "id": "87c02a16",
   "metadata": {},
   "outputs": [],
   "source": [
    "from larch.roles import P,X\n",
    "m.utility_co[1] = ( P.ASC_TRAIN\n",
    "                  + P.B_TIME * X.TRAIN_TT\n",
    "                  + P.B_COST * X(\"TRAIN_CO*(GA==0)\") )\n",
    "m.utility_co[2] = ( P.B_TIME * X.SM_TT\n",
    "                  + P.B_COST * X(\"SM_CO*(GA==0)\") )\n",
    "m.utility_co[3] = ( P.ASC_CAR\n",
    "                  + P.B_TIME * X.CAR_TT\n",
    "                  + P.B_COST * X(\"CAR_CO\") )"
   ]
  },
  {
   "cell_type": "markdown",
   "id": "a08162f6",
   "metadata": {},
   "source": [
    "To create a new nest, we can use the `graph.new_node` command.\n",
    "For this example, we want to nest together the Train and Car modes into a \"existing\" modes nest.\n",
    "Those are modes 1 and 3, so we can use the `graph.new_node` command like this:"
   ]
  },
  {
   "cell_type": "code",
   "execution_count": null,
   "id": "67305cef",
   "metadata": {},
   "outputs": [],
   "source": [
    "m.graph.new_node(parameter=\"existing\", children=[1,3], name='Existing')"
   ]
  },
  {
   "cell_type": "markdown",
   "id": "56fa6578",
   "metadata": {},
   "source": [
    "In a Jupyter notebook, we can verify the nesting structure visually if we like."
   ]
  },
  {
   "cell_type": "code",
   "execution_count": null,
   "id": "0fb8d36f",
   "metadata": {},
   "outputs": [],
   "source": [
    "m.graph"
   ]
  },
  {
   "cell_type": "markdown",
   "id": "5d1562fb",
   "metadata": {},
   "source": [
    "Larch will find all the parameters in the model, but we'd like to output them in\n",
    "a rational order.  We can use the ordering method to do this:"
   ]
  },
  {
   "cell_type": "code",
   "execution_count": null,
   "id": "ddfbbec0",
   "metadata": {},
   "outputs": [],
   "source": [
    "m.ordering = [\n",
    "    (\"ASCs\", 'ASC.*',),\n",
    "    (\"LOS\", 'B_.*',),\n",
    "    (\"LogSums\", 'existing'),\n",
    "]"
   ]
  },
  {
   "cell_type": "code",
   "execution_count": null,
   "id": "7e8649b5",
   "metadata": {
    "tags": [
     "remove_cell"
    ]
   },
   "outputs": [],
   "source": [
    "# TEST\n",
    "from pytest import approx\n",
    "assert m.loglike() == approx(-6964.662979192185)"
   ]
  },
  {
   "cell_type": "markdown",
   "id": "a37f5b85",
   "metadata": {},
   "source": [
    "We can estimate the models and check the results match up with those given by Biogeme:"
   ]
  },
  {
   "cell_type": "code",
   "execution_count": null,
   "id": "d98ddb05",
   "metadata": {},
   "outputs": [],
   "source": [
    "m.set_cap(15)\n",
    "m.maximize_loglike()"
   ]
  },
  {
   "cell_type": "code",
   "execution_count": null,
   "id": "025ba5f9",
   "metadata": {
    "tags": [
     "remove_cell"
    ]
   },
   "outputs": [],
   "source": [
    "# TEST\n",
    "r = _\n",
    "assert r.loglike == approx(-5236.900013608126)\n",
    "assert r.logloss == approx(0.7737736426725954)\n",
    "assert r.x.to_dict() == approx({\n",
    "    'ASC_CAR': -0.16715395674702274,\n",
    "    'ASC_TRAIN': -0.5119486070573562,\n",
    "    'B_COST': -0.008566724901779925,\n",
    "    'B_TIME': -0.00898662581404941,\n",
    "    'existing': 0.4868411287532135,\n",
    "})"
   ]
  },
  {
   "cell_type": "code",
   "execution_count": null,
   "id": "8b96f0dd",
   "metadata": {},
   "outputs": [],
   "source": [
    "m.calculate_parameter_covariance()\n",
    "m.parameter_summary()"
   ]
  },
  {
   "cell_type": "markdown",
   "id": "5d7759b8",
   "metadata": {},
   "source": [
    "The `pfo` (parameter frame, ordered) has other useful information,\n",
    "including things like the robust standard errors and t statistics."
   ]
  },
  {
   "cell_type": "code",
   "execution_count": null,
   "id": "555998c8",
   "metadata": {},
   "outputs": [],
   "source": [
    "print(m.pfo()[['value','std_err','t_stat','robust_std_err','robust_t_stat']])"
   ]
  },
  {
   "cell_type": "code",
   "execution_count": null,
   "id": "7133fda4",
   "metadata": {
    "tags": [
     "remove_cell"
    ]
   },
   "outputs": [],
   "source": [
    "# TEST\n",
    "assert str(m.pfo()[['value','std_err','t_stat','robust_std_err','robust_t_stat']]) == '''\n",
    "                    value    std_err  t_stat  robust_std_err  robust_t_stat\n",
    "Category Parameter                                                         \n",
    "ASCs     ASC_CAR   -0.167  3.714e-02  -4.501       5.453e-02         -3.065\n",
    "         ASC_TRAIN -0.512  4.518e-02 -11.331       7.911e-02         -6.471\n",
    "LOS      B_COST    -0.009  4.627e-04 -18.513       6.004e-04        -14.269\n",
    "         B_TIME    -0.009  5.699e-04 -15.769       1.071e-03         -8.390\n",
    "LogSums  existing   0.487  2.790e-02 -18.394       3.892e-02        -13.186\n",
    "'''[1:-1]"
   ]
  }
 ],
 "metadata": {
  "kernelspec": {
   "display_name": "Python 3 (ipykernel)",
   "language": "python",
   "name": "python3"
  },
  "language_info": {
   "codemirror_mode": {
    "name": "ipython",
    "version": 3
   },
   "file_extension": ".py",
   "mimetype": "text/x-python",
   "name": "python",
   "nbconvert_exporter": "python",
   "pygments_lexer": "ipython3",
   "version": "3.9.9"
  },
  "toc": {
   "base_numbering": 1,
   "nav_menu": {},
   "number_sections": false,
   "sideBar": true,
   "skip_h1_title": false,
   "title_cell": "Table of Contents",
   "title_sidebar": "Contents",
   "toc_cell": false,
   "toc_position": {},
   "toc_section_display": true,
   "toc_window_display": false
  }
 },
 "nbformat": 4,
 "nbformat_minor": 5
}
