{
 "cells": [
  {
   "cell_type": "markdown",
   "metadata": {},
   "source": [
    "# 201: Exampville Mode Choice\n",
    "\n",
    "Welcome to Exampville, the best simulated town in this here part of the internet!\n",
    "\n",
    "Exampville is a demonstration provided with Larch that walks through some of the \n",
    "data and tools that a transportation planner might use when building a travel model. "
   ]
  },
  {
   "cell_type": "code",
   "execution_count": null,
   "metadata": {
    "tags": [
     "remove_cell"
    ]
   },
   "outputs": [],
   "source": [
    "# HIDDEN\n",
    "import larch.numba as lx\n",
    "from pytest import approx"
   ]
  },
  {
   "cell_type": "code",
   "execution_count": null,
   "metadata": {},
   "outputs": [],
   "source": [
    "import os\n",
    "import numpy as np\n",
    "import pandas as pd \n",
    "import larch.numba as lx\n",
    "from larch import P, X"
   ]
  },
  {
   "cell_type": "markdown",
   "metadata": {},
   "source": [
    "In this example notebook, we will walk through the creation of a tour mode choice model."
   ]
  },
  {
   "cell_type": "markdown",
   "metadata": {},
   "source": [
    "To begin, we'll re-load the tours and skims data from the \n",
    "data setup example."
   ]
  },
  {
   "cell_type": "code",
   "execution_count": null,
   "metadata": {},
   "outputs": [],
   "source": [
    "hh, pp, tour, skims = lx.example(200, ['hh', 'pp', 'tour', 'skims'])"
   ]
  },
  {
   "cell_type": "markdown",
   "metadata": {},
   "source": [
    "## Preprocessing"
   ]
  },
  {
   "cell_type": "markdown",
   "metadata": {},
   "source": [
    "The Exampville data output contains a set of files similar to what we might\n",
    "find for a real travel survey: network skims, and tables of households, persons,\n",
    "and tours.  We'll need to connect these tables together to create a composite dataset\n",
    "for mode choice model estimation, using the DataTree structure."
   ]
  },
  {
   "cell_type": "code",
   "execution_count": null,
   "metadata": {},
   "outputs": [],
   "source": [
    "from addicty import Dict\n",
    "\n",
    "Mode = Dict(\n",
    "    DA = 1,\n",
    "    SR = 2,\n",
    "    Walk = 3,\n",
    "    Bike = 4,\n",
    "    Transit = 5,\n",
    ").freeze()"
   ]
  },
  {
   "cell_type": "code",
   "execution_count": null,
   "metadata": {},
   "outputs": [],
   "source": [
    "tour_dataset = lx.Dataset.from_idco(tour.set_index('TOURID'), alts=Mode)\n",
    "od_skims = lx.Dataset.from_omx(skims)\n",
    "\n",
    "dt = lx.DataTree(\n",
    "    tour=tour_dataset,\n",
    "    hh=hh.set_index('HHID'),\n",
    "    person=pp.set_index('PERSONID'),\n",
    "    od=od_skims,\n",
    "    do=od_skims,\n",
    "    relationships=(\n",
    "        \"tours.HHID @ hh.HHID\",\n",
    "        \"tours.PERSONID @ person.PERSONID\",\n",
    "        \"hh.HOMETAZ @ od.otaz\",\n",
    "        \"tours.DTAZ @ od.dtaz\",\n",
    "        \"hh.HOMETAZ @ do.dtaz\",\n",
    "        \"tours.DTAZ @ do.otaz\",\n",
    "    ),\n",
    ")"
   ]
  },
  {
   "cell_type": "markdown",
   "metadata": {},
   "source": [
    "In Exampville, there are only two kinds of trips: \n",
    "\n",
    "- work (purpose=1) and \n",
    "- non-work (purpose=2). \n",
    "\n",
    "We want to estimate a mode choice model for work trips, \n",
    "so we’ll begin by excluding all the other trips:"
   ]
  },
  {
   "cell_type": "code",
   "execution_count": null,
   "metadata": {},
   "outputs": [],
   "source": [
    "dt_work = dt.query_cases(\"TOURPURP == 1\")"
   ]
  },
  {
   "cell_type": "markdown",
   "metadata": {},
   "source": [
    "## Model Definition"
   ]
  },
  {
   "cell_type": "markdown",
   "metadata": {},
   "source": [
    "And then we are ready to create our model."
   ]
  },
  {
   "cell_type": "code",
   "execution_count": null,
   "metadata": {},
   "outputs": [],
   "source": [
    "m = lx.Model(datatree = dt_work)\n",
    "m.title = \"Exampville Work Tour Mode Choice v1\""
   ]
  },
  {
   "cell_type": "markdown",
   "metadata": {},
   "source": [
    "We will explicitly define the set of utility functions \n",
    "we want to use.  Because the DataFrames we are using to \n",
    "serve data to this model contains exclusively `idco` format\n",
    "data, we'll use only the `utility_co` mapping to define\n",
    "a unique utility function for each alternative."
   ]
  },
  {
   "cell_type": "code",
   "execution_count": null,
   "metadata": {},
   "outputs": [],
   "source": [
    "m.utility_co[Mode.DA] = (\n",
    "        + P.InVehTime * X.AUTO_TIME\n",
    "        + P.Cost * X.AUTO_COST # dollars per mile\n",
    ")\n",
    "\n",
    "m.utility_co[Mode.SR] = (\n",
    "        + P.ASC_SR\n",
    "        + P.InVehTime * X.AUTO_TIME\n",
    "        + P.Cost * (X.AUTO_COST * 0.5) # dollars per mile, half share\n",
    "        + P(\"LogIncome:SR\") * X(\"log(INCOME)\")\n",
    ")\n",
    "\n",
    "m.utility_co[Mode.Walk] = (\n",
    "        + P.ASC_Walk\n",
    "        + P.NonMotorTime * X.WALK_TIME\n",
    "        + P(\"LogIncome:Walk\") * X(\"log(INCOME)\")\n",
    ")\n",
    "\n",
    "m.utility_co[Mode.Bike] = (\n",
    "        + P.ASC_Bike\n",
    "        + P.NonMotorTime * X.BIKE_TIME\n",
    "        + P(\"LogIncome:Bike\") * X(\"log(INCOME)\")\n",
    ")\n",
    "\n",
    "m.utility_co[Mode.Transit] = (\n",
    "        + P.ASC_Transit\n",
    "        + P.InVehTime * X.TRANSIT_IVTT\n",
    "        + P.OutVehTime * X.TRANSIT_OVTT\n",
    "        + P.Cost * X.TRANSIT_FARE\n",
    "        + P(\"LogIncome:Transit\") * X('log(INCOME)')\n",
    ")"
   ]
  },
  {
   "cell_type": "markdown",
   "metadata": {},
   "source": [
    "To write a nested logit mode, we'll attach some nesting nodes to the \n",
    "model's `graph`.  Each `new_node` allows us to define the set of \n",
    "codes for the child nodes (elemental alternatives, or lower level nests)\n",
    "as well as giving the new nest a name and assigning a logsum parameter.\n",
    "The return value of this method is the node code for the newly created \n",
    "nest, which then can potenially be used as a child code when creating\n",
    "a higher level nest.  We do this below, adding the 'Car' nest into the \n",
    "'Motor' nest."
   ]
  },
  {
   "cell_type": "code",
   "execution_count": null,
   "metadata": {},
   "outputs": [],
   "source": [
    "Car = m.graph.new_node(parameter='Mu:Car', children=[Mode.DA, Mode.SR], name='Car')\n",
    "NonMotor = m.graph.new_node(parameter='Mu:NonMotor', children=[Mode.Walk, Mode.Bike], name='NonMotor')\n",
    "Motor = m.graph.new_node(parameter='Mu:Motor', children=[Car, Mode.Transit], name='Motor')"
   ]
  },
  {
   "cell_type": "markdown",
   "metadata": {},
   "source": [
    "Let's visually check on the nesting structure."
   ]
  },
  {
   "cell_type": "code",
   "execution_count": null,
   "metadata": {},
   "outputs": [],
   "source": [
    "m.graph"
   ]
  },
  {
   "cell_type": "markdown",
   "metadata": {},
   "source": [
    "The tour mode choice model's choice variable is indicated by \n",
    "the code value in 'TOURMODE', and this can be \n",
    "defined for the model using `choice_co_code`."
   ]
  },
  {
   "cell_type": "code",
   "execution_count": null,
   "metadata": {},
   "outputs": [],
   "source": [
    "m.choice_co_code = 'TOURMODE'"
   ]
  },
  {
   "cell_type": "markdown",
   "metadata": {},
   "source": [
    "We can also give a dictionary of availability conditions based \n",
    "on values in the `idco` data, using the `availability_co_vars`\n",
    "attribute.  Alternatives that are always available can be indicated\n",
    "by setting the criterion to 1."
   ]
  },
  {
   "cell_type": "code",
   "execution_count": null,
   "metadata": {},
   "outputs": [],
   "source": [
    "m.availability_co_vars = {\n",
    "    Mode.DA: 'AGE >= 16',\n",
    "    Mode.SR: 1,\n",
    "    Mode.Walk: 'WALK_TIME < 60',\n",
    "    Mode.Bike: 'BIKE_TIME < 60',\n",
    "    Mode.Transit: 'TRANSIT_FARE>0',\n",
    "}"
   ]
  },
  {
   "cell_type": "markdown",
   "metadata": {},
   "source": [
    "Then let's prepare this data for estimation.  Even though the\n",
    "data is already in memory, the `load_data` method is used to \n",
    "pre-process the data, extracting the required values, pre-computing \n",
    "the values of fixed expressions, and assembling the results into\n",
    "contiguous arrays suitable for computing the log likelihood values\n",
    "efficiently."
   ]
  },
  {
   "cell_type": "markdown",
   "metadata": {},
   "source": [
    "## Model Estimation"
   ]
  },
  {
   "cell_type": "markdown",
   "metadata": {},
   "source": [
    "We can check on some important statistics of this loaded data even\n",
    "before we estimate the model."
   ]
  },
  {
   "cell_type": "code",
   "execution_count": null,
   "metadata": {},
   "outputs": [],
   "source": [
    "m.choice_avail_summary()"
   ]
  },
  {
   "cell_type": "code",
   "execution_count": null,
   "metadata": {
    "tags": [
     "remove_cell"
    ]
   },
   "outputs": [],
   "source": [
    "# TEST\n",
    "summary = m.choice_avail_summary()\n",
    "assert (summary.to_markdown()) == '''\n",
    "|                            | name     |   chosen | available   | availability condition   |\n",
    "|:---------------------------|:---------|---------:|:------------|:-------------------------|\n",
    "| 1                          | DA       |     6052 | 7564        | AGE >= 16                |\n",
    "| 2                          | SR       |      810 | 7564        | 1                        |\n",
    "| 3                          | Walk     |      196 | 4179        | WALK_TIME < 60           |\n",
    "| 4                          | Bike     |       72 | 7564        | BIKE_TIME < 60           |\n",
    "| 5                          | Transit  |      434 | 4199        | TRANSIT_FARE>0           |\n",
    "| 6                          | Car      |     6862 | 7564        |                          |\n",
    "| 7                          | NonMotor |      268 | 7564        |                          |\n",
    "| 8                          | Motor    |     7296 | 7564        |                          |\n",
    "| < Total All Alternatives > |          |     7564 |             |                          |\n",
    "'''[1:-1]"
   ]
  },
  {
   "cell_type": "markdown",
   "metadata": {},
   "source": [
    "If we are satisfied with the statistics we see above, we\n",
    "can go ahead and estimate the model."
   ]
  },
  {
   "cell_type": "code",
   "execution_count": null,
   "metadata": {},
   "outputs": [],
   "source": [
    "m.set_cap(20) # improves optimization stability\n",
    "result = m.maximize_loglike()"
   ]
  },
  {
   "cell_type": "code",
   "execution_count": null,
   "metadata": {
    "tags": [
     "remove_cell"
    ]
   },
   "outputs": [],
   "source": [
    "# TEST\n",
    "assert result.loglike == approx(-3493.0397298749467)"
   ]
  },
  {
   "cell_type": "markdown",
   "metadata": {},
   "source": [
    "After we find the best fitting parameters, we can compute\n",
    "some variance-covariance statistics, incuding standard errors of\n",
    "the estimates and t statistics, using `calculate_parameter_covariance`."
   ]
  },
  {
   "cell_type": "code",
   "execution_count": null,
   "metadata": {},
   "outputs": [],
   "source": [
    "m.calculate_parameter_covariance()"
   ]
  },
  {
   "cell_type": "markdown",
   "metadata": {},
   "source": [
    "Then we can review the results in a variety of report tables."
   ]
  },
  {
   "cell_type": "code",
   "execution_count": null,
   "metadata": {},
   "outputs": [],
   "source": [
    "m.parameter_summary()"
   ]
  },
  {
   "cell_type": "code",
   "execution_count": null,
   "metadata": {
    "tags": [
     "remove_cell"
    ]
   },
   "outputs": [],
   "source": [
    "# TEST\n",
    "assert (m.parameter_summary().data.to_markdown()) == '''\n",
    "|                   |   Value |   Std Err |   t Stat | Signif   |   Null Value |\n",
    "|:------------------|--------:|----------:|---------:|:---------|-------------:|\n",
    "| ASC_Bike          |  -0.258 |    1.34   |    -0.19 |          |            0 |\n",
    "| ASC_SR            |   1.42  |    1      |     1.42 |          |            0 |\n",
    "| ASC_Transit       |   6.75  |    2.06   |     3.27 | **       |            0 |\n",
    "| ASC_Walk          |   8.62  |    1.14   |     7.57 | ***      |            0 |\n",
    "| Cost              |  -0.176 |    0.12   |    -1.47 |          |            0 |\n",
    "| InVehTime         |  -0.124 |    0.0292 |    -4.24 | ***      |            0 |\n",
    "| LogIncome:Bike    |  -0.197 |    0.124  |    -1.59 |          |            0 |\n",
    "| LogIncome:SR      |  -0.194 |    0.135  |    -1.43 |          |            0 |\n",
    "| LogIncome:Transit |  -0.557 |    0.169  |    -3.29 | ***      |            0 |\n",
    "| LogIncome:Walk    |  -0.523 |    0.1    |    -5.21 | ***      |            0 |\n",
    "| Mu:Car            |   0.259 |    0.181  |    -4.1  | ***      |            1 |\n",
    "| Mu:Motor          |   0.802 |    0.201  |    -0.99 |          |            1 |\n",
    "| Mu:NonMotor       |   0.854 |    0.112  |    -1.3  |          |            1 |\n",
    "| NonMotorTime      |  -0.266 |    0.0163 |   -16.29 | ***      |            0 |\n",
    "| OutVehTime        |  -0.255 |    0.0646 |    -3.95 | ***      |            0 |\n",
    "'''[1:-1]"
   ]
  },
  {
   "cell_type": "code",
   "execution_count": null,
   "metadata": {},
   "outputs": [],
   "source": [
    "m.estimation_statistics()"
   ]
  },
  {
   "cell_type": "markdown",
   "metadata": {},
   "source": [
    "## Save and Report Model"
   ]
  },
  {
   "cell_type": "code",
   "execution_count": null,
   "metadata": {},
   "outputs": [],
   "source": [
    "report = lx.Reporter(title=m.title)"
   ]
  },
  {
   "cell_type": "code",
   "execution_count": null,
   "metadata": {},
   "outputs": [],
   "source": [
    "report.append('# Parameter Summary')\n",
    "report.append(m.parameter_summary())\n",
    "report"
   ]
  },
  {
   "cell_type": "code",
   "execution_count": null,
   "metadata": {},
   "outputs": [],
   "source": [
    "report << \"# Estimation Statistics\" << m.estimation_statistics()"
   ]
  },
  {
   "cell_type": "code",
   "execution_count": null,
   "metadata": {},
   "outputs": [],
   "source": [
    "report << \"# Utility Functions\" << m.utility_functions()"
   ]
  },
  {
   "cell_type": "code",
   "execution_count": null,
   "metadata": {},
   "outputs": [],
   "source": [
    "report.save(\n",
    "    '/tmp/exampville_mode_choice.html', \n",
    "    overwrite=True, \n",
    "    metadata=m,\n",
    ")"
   ]
  }
 ],
 "metadata": {
  "kernelspec": {
   "display_name": "Python 3 (ipykernel)",
   "language": "python",
   "name": "python3"
  },
  "language_info": {
   "codemirror_mode": {
    "name": "ipython",
    "version": 3
   },
   "file_extension": ".py",
   "mimetype": "text/x-python",
   "name": "python",
   "nbconvert_exporter": "python",
   "pygments_lexer": "ipython3",
   "version": "3.9.9"
  },
  "toc": {
   "base_numbering": 1,
   "nav_menu": {},
   "number_sections": true,
   "sideBar": true,
   "skip_h1_title": false,
   "title_cell": "Table of Contents",
   "title_sidebar": "Contents",
   "toc_cell": false,
   "toc_position": {},
   "toc_section_display": true,
   "toc_window_display": false
  }
 },
 "nbformat": 4,
 "nbformat_minor": 4
}
