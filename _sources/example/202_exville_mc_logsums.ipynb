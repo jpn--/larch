{
 "cells": [
  {
   "cell_type": "markdown",
   "metadata": {
    "pycharm": {}
   },
   "source": [
    "# 202: Exampville Mode Choice Logsums\n",
    "\n",
    "Welcome to Exampville, the best simulated town in this here part of the internet!\n",
    "\n",
    "Exampville is a demonstration provided with Larch that walks through some of the \n",
    "data and tools that a transportation planner might use when building a travel model. "
   ]
  },
  {
   "cell_type": "code",
   "execution_count": null,
   "metadata": {
    "tags": [
     "remove_cell"
    ]
   },
   "outputs": [],
   "source": [
    "# TEST\n",
    "import larch.numba as lx\n",
    "from pytest import approx"
   ]
  },
  {
   "cell_type": "code",
   "execution_count": null,
   "metadata": {
    "pycharm": {}
   },
   "outputs": [],
   "source": [
    "import os\n",
    "import numpy as np\n",
    "import xarray as xr\n",
    "from addicty import Dict\n",
    "from larch import P, X\n",
    "import larch.numba as lx"
   ]
  },
  {
   "cell_type": "markdown",
   "metadata": {
    "pycharm": {}
   },
   "source": [
    "In this example notebook, we will walk through the creation of logsums from\n",
    "an existing tour mode choice model.  First, let's load the data files from\n",
    "our example."
   ]
  },
  {
   "cell_type": "code",
   "execution_count": null,
   "metadata": {
    "pycharm": {}
   },
   "outputs": [],
   "source": [
    "hh, pp, tour, skims = lx.example(200, ['hh', 'pp', 'tour', 'skims'])"
   ]
  },
  {
   "cell_type": "markdown",
   "metadata": {
    "pycharm": {}
   },
   "source": [
    "We'll also load the saved model from the mode choice estimation."
   ]
  },
  {
   "cell_type": "code",
   "execution_count": null,
   "metadata": {
    "pycharm": {}
   },
   "outputs": [],
   "source": [
    "exampville_mode_choice_file = lx.example(201, output_file='/tmp/exampville_mode_choice.html')\n",
    "m = lx.read_metadata(exampville_mode_choice_file)"
   ]
  },
  {
   "cell_type": "markdown",
   "metadata": {
    "pycharm": {}
   },
   "source": [
    "We'll replicate the pre-processing used in the mode choice estimation,\n",
    "to merge the household and person characteristics into the tours data,\n",
    "add the index values for the home TAZ's, filter to include only \n",
    "work tours, and merge with the level of service skims.  (If this \n",
    "pre-processing was computationally expensive, it would probably have\n",
    "been better to save the results to disk and reload them as needed,\n",
    "but for this model these commands will run almost instantaneously.)"
   ]
  },
  {
   "cell_type": "code",
   "execution_count": null,
   "metadata": {
    "pycharm": {}
   },
   "outputs": [],
   "source": [
    "Mode = Dict(\n",
    "    DA = 1,\n",
    "    SR = 2,\n",
    "    Walk = 3,\n",
    "    Bike = 4,\n",
    "    Transit = 5,\n",
    ").freeze()\n",
    "\n",
    "tour_dataset = lx.Dataset.from_idco(tour.set_index('TOURID'), alts=Mode)\n",
    "od_skims = lx.Dataset.from_omx(skims)\n",
    "\n",
    "dt = lx.DataTree(\n",
    "    tour=tour_dataset.query_cases(\"TOURPURP == 1\"),\n",
    "    hh=hh.set_index('HHID'),\n",
    "    person=pp.set_index('PERSONID'),\n",
    "    od=od_skims,\n",
    "    do=od_skims,\n",
    "    relationships=(\n",
    "        \"tours.HHID @ hh.HHID\",\n",
    "        \"tours.PERSONID @ person.PERSONID\",\n",
    "        \"hh.HOMETAZ @ od.otaz\",\n",
    "        \"tours.DTAZ @ od.dtaz\",\n",
    "        \"hh.HOMETAZ @ do.dtaz\",\n",
    "        \"tours.DTAZ @ do.otaz\",\n",
    "    ),\n",
    ")"
   ]
  },
  {
   "cell_type": "markdown",
   "metadata": {
    "pycharm": {}
   },
   "source": [
    "Then we bundle the raw data into the `larch.DataFrames` structure,\n",
    "as we did for estimation, and attach this structure to the model\n",
    "as its `dataservice`."
   ]
  },
  {
   "cell_type": "markdown",
   "metadata": {
    "pycharm": {}
   },
   "source": [
    "We'll also initialize a DataArray to hold the computed logsums.\n",
    "This data will have one row for each case in our source data,\n",
    "and a column for each possible destination zone."
   ]
  },
  {
   "cell_type": "code",
   "execution_count": null,
   "metadata": {
    "pycharm": {}
   },
   "outputs": [],
   "source": [
    "logsums = lx.DataArray.zeros(\n",
    "    dt.caseids(),\n",
    "    skims.TAZ_ID,\n",
    "    name='logsums',\n",
    ")"
   ]
  },
  {
   "cell_type": "markdown",
   "metadata": {
    "pycharm": {}
   },
   "source": [
    "The logsums from a Model can be computed using the `Model.logsums` method.\n",
    "However, if we want the logsums for each possible destination, we'll need\n",
    "to replace the part of our data that depends on the destination zone, \n",
    "writing in the appropriate values for each.  We can simply iterate over the\n",
    "zones, dropping in the zone as the destination and computing the logsums."
   ]
  },
  {
   "cell_type": "code",
   "execution_count": null,
   "metadata": {},
   "outputs": [],
   "source": [
    "for i,dtaz in enumerate(logsums.TAZ_ID):\n",
    "    m.datatree = dt.replace_datasets(\n",
    "        tour=dt.root_dataset.assign(\n",
    "            DTAZ=xr.full_like(dt['DTAZ'], dtaz)\n",
    "        ),\n",
    "    )\n",
    "    logsums.loc[dict(TAZ_ID=dtaz)] = m.logsums()"
   ]
  },
  {
   "cell_type": "code",
   "execution_count": null,
   "metadata": {
    "tags": [
     "remove_cell"
    ]
   },
   "outputs": [],
   "source": [
    "# TEST\n",
    "assert logsums[:4, :5].values == approx(np.array([\n",
    "    [-2.935642, -2.660468, -1.745647, -2.229293, -2.403132],\n",
    "    [-2.935642, -2.660468, -1.745647, -2.229293, -2.403132],\n",
    "    [-2.935642, -2.660468, -1.745647, -2.229293, -2.403132],\n",
    "    [-3.046127, -2.770006, -1.823385, -2.320373, -2.4941  ],\n",
    "]), rel=1e-5)\n",
    "assert logsums.shape == (7564, 40)\n",
    "assert logsums[-4:, -5:].values == approx(np.array([\n",
    "    [-0.353981, -0.729011, -1.163964, -0.421501, -0.912948],\n",
    "    [-0.353981, -0.729011, -1.163964, -0.421501, -0.912948],\n",
    "    [-0.246663, -0.721656, -1.156654, -0.354325, -0.89051 ],\n",
    "    [-0.391211, -0.731383, -1.166312, -0.444022, -0.920203],\n",
    "]), rel=1e-5)"
   ]
  },
  {
   "cell_type": "markdown",
   "metadata": {
    "pycharm": {}
   },
   "source": [
    "Then we can persist the logsums dataframe to disk, for use in the next\n",
    "example, where we will estimate a destination choice model."
   ]
  },
  {
   "cell_type": "code",
   "execution_count": null,
   "metadata": {
    "pycharm": {}
   },
   "outputs": [],
   "source": [
    "logsums.to_zarr('/tmp/logsums.zarr.zip')"
   ]
  },
  {
   "cell_type": "markdown",
   "metadata": {},
   "source": [
    "To recover the DataArray later, we can read it using the `DataArray.from_zarr` method."
   ]
  },
  {
   "cell_type": "code",
   "execution_count": null,
   "metadata": {},
   "outputs": [],
   "source": [
    "lx.DataArray.from_zarr('/tmp/logsums.zarr.zip')"
   ]
  },
  {
   "cell_type": "code",
   "execution_count": null,
   "metadata": {
    "tags": [
     "remove_cell"
    ]
   },
   "outputs": [],
   "source": [
    "# TEST\n",
    "reloaded = _\n",
    "assert reloaded[:4, :5].values == approx(np.array([\n",
    "    [-2.935642, -2.660468, -1.745647, -2.229293, -2.403132],\n",
    "    [-2.935642, -2.660468, -1.745647, -2.229293, -2.403132],\n",
    "    [-2.935642, -2.660468, -1.745647, -2.229293, -2.403132],\n",
    "    [-3.046127, -2.770006, -1.823385, -2.320373, -2.4941  ],\n",
    "]), rel=1e-5)\n",
    "assert reloaded.shape == (7564, 40)\n",
    "assert reloaded[-4:, -5:].values == approx(np.array([\n",
    "    [-0.353981, -0.729011, -1.163964, -0.421501, -0.912948],\n",
    "    [-0.353981, -0.729011, -1.163964, -0.421501, -0.912948],\n",
    "    [-0.246663, -0.721656, -1.156654, -0.354325, -0.89051 ],\n",
    "    [-0.391211, -0.731383, -1.166312, -0.444022, -0.920203],\n",
    "]), rel=1e-5)"
   ]
  }
 ],
 "metadata": {
  "kernelspec": {
   "display_name": "Python 3 (ipykernel)",
   "language": "python",
   "name": "python3"
  },
  "language_info": {
   "codemirror_mode": {
    "name": "ipython",
    "version": 3
   },
   "file_extension": ".py",
   "mimetype": "text/x-python",
   "name": "python",
   "nbconvert_exporter": "python",
   "pygments_lexer": "ipython3",
   "version": "3.9.9"
  },
  "toc": {
   "base_numbering": 1,
   "nav_menu": {},
   "number_sections": true,
   "sideBar": true,
   "skip_h1_title": false,
   "title_cell": "Table of Contents",
   "title_sidebar": "Contents",
   "toc_cell": false,
   "toc_position": {},
   "toc_section_display": true,
   "toc_window_display": false
  }
 },
 "nbformat": 4,
 "nbformat_minor": 4
}
