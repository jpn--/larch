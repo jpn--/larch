{
 "cells": [
  {
   "cell_type": "markdown",
   "metadata": {},
   "source": [
    "# 301: Itinerary Choice using MNL"
   ]
  },
  {
   "cell_type": "code",
   "execution_count": null,
   "metadata": {},
   "outputs": [],
   "source": [
    "import larch.numba as lx"
   ]
  },
  {
   "cell_type": "markdown",
   "metadata": {},
   "source": [
    "This example is an itinerary choice model built using the example\n",
    "itinerary choice dataset included with Larch.  We'll begin by loading\n",
    "that example data."
   ]
  },
  {
   "cell_type": "code",
   "execution_count": null,
   "metadata": {},
   "outputs": [],
   "source": [
    "d = lx.Dataset.from_idce(\n",
    "    pd.read_csv(lx.example_file(\"arc\"), index_col=['id_case','id_alt']),\n",
    ")"
   ]
  },
  {
   "cell_type": "code",
   "execution_count": null,
   "metadata": {
    "tags": [
     "remove_cell"
    ]
   },
   "outputs": [],
   "source": [
    "# TEST\n",
    "assert d['choice'].min() == 0"
   ]
  },
  {
   "cell_type": "markdown",
   "metadata": {},
   "source": [
    "Now let's make our model.  We'll use a few variables to define our\n",
    "linear-in-parameters utility function."
   ]
  },
  {
   "cell_type": "code",
   "execution_count": null,
   "metadata": {},
   "outputs": [],
   "source": [
    "m = lx.Model(datatree=d)\n",
    "\n",
    "v = [\n",
    "    \"timeperiod==2\",\n",
    "    \"timeperiod==3\",\n",
    "    \"timeperiod==4\",\n",
    "    \"timeperiod==5\",\n",
    "    \"timeperiod==6\",\n",
    "    \"timeperiod==7\",\n",
    "    \"timeperiod==8\",\n",
    "    \"timeperiod==9\",\n",
    "    \"carrier==2\",\n",
    "    \"carrier==3\",\n",
    "    \"carrier==4\",\n",
    "    \"carrier==5\",\n",
    "    \"equipment==2\",\n",
    "    \"fare_hy\",    \n",
    "    \"fare_ly\",    \n",
    "    \"elapsed_time\",  \n",
    "    \"nb_cnxs\",       \n",
    "]\n"
   ]
  },
  {
   "cell_type": "markdown",
   "metadata": {},
   "source": [
    "The `larch.roles` module defines a few convenient classes for declaring data and parameter.\n",
    "One we will use here is `PX` which creates a linear-in-parameter term that represents one data\n",
    "element (a column from our data, or an expression that can be evaluated on the data alone) multiplied\n",
    "by a parameter with the same name.\n"
   ]
  },
  {
   "cell_type": "code",
   "execution_count": null,
   "metadata": {},
   "outputs": [],
   "source": [
    "from larch.roles import PX\n",
    "m.utility_ca = sum(PX(i) for i in v)\n",
    "m.choice_ca_var = 'choice'\n",
    "m.availability_var = 1"
   ]
  },
  {
   "cell_type": "code",
   "execution_count": null,
   "metadata": {
    "tags": [
     "remove_cell"
    ]
   },
   "outputs": [],
   "source": [
    "# TEST\n",
    "from pytest import approx\n",
    "assert m.loglike() == approx(-953940.4411159059)"
   ]
  },
  {
   "cell_type": "markdown",
   "metadata": {},
   "source": [
    "Since we are estimating just an MNL model in this example, this is all we need to do to build\n",
    "our model, and we're ready to go.  To estimate the likelihood maximizing parameters, we give:\n"
   ]
  },
  {
   "cell_type": "code",
   "execution_count": null,
   "metadata": {},
   "outputs": [],
   "source": [
    "m.maximize_loglike()"
   ]
  },
  {
   "cell_type": "code",
   "execution_count": null,
   "metadata": {
    "tags": [
     "remove_cell"
    ]
   },
   "outputs": [],
   "source": [
    "# TEST\n",
    "r = _\n",
    "assert r.loglike == approx(-777770.0688722524)\n",
    "assert r.method == 'bhhh'\n",
    "assert r.x.to_dict() == approx({\n",
    "    'carrier==2': 0.117200479172321,\n",
    "    'carrier==3': 0.638554248463955,\n",
    "    'carrier==4': 0.5652518834386212,\n",
    "    'carrier==5': -0.6240216384597791,\n",
    "    'elapsed_time': -0.006086926416874131,\n",
    "    'equipment==2': 0.46630452724649335,\n",
    "    'fare_hy': -0.0011750130617308708,\n",
    "    'fare_ly': -0.0011772411112551142,\n",
    "    'nb_cnxs': -2.9471531121829315,\n",
    "    'timeperiod==2': 0.09594946765414832,\n",
    "    'timeperiod==3': 0.12653314846972896,\n",
    "    'timeperiod==4': 0.06055186075075148,\n",
    "    'timeperiod==5': 0.14096321358526923,\n",
    "    'timeperiod==6': 0.23825430881925683,\n",
    "    'timeperiod==7': 0.3513907859210803,\n",
    "    'timeperiod==8': 0.3533021391793547,\n",
    "    'timeperiod==9': -0.010309386019381033,\n",
    "})"
   ]
  }
 ],
 "metadata": {
  "kernelspec": {
   "display_name": "Python 3 (ipykernel)",
   "language": "python",
   "name": "python3"
  },
  "language_info": {
   "codemirror_mode": {
    "name": "ipython",
    "version": 3
   },
   "file_extension": ".py",
   "mimetype": "text/x-python",
   "name": "python",
   "nbconvert_exporter": "python",
   "pygments_lexer": "ipython3",
   "version": "3.9.9"
  },
  "toc": {
   "base_numbering": 1,
   "nav_menu": {},
   "number_sections": false,
   "sideBar": true,
   "skip_h1_title": false,
   "title_cell": "Table of Contents",
   "title_sidebar": "Contents",
   "toc_cell": false,
   "toc_position": {},
   "toc_section_display": true,
   "toc_window_display": false
  }
 },
 "nbformat": 4,
 "nbformat_minor": 4
}
