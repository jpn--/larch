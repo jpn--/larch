{
 "cells": [
  {
   "cell_type": "markdown",
   "metadata": {},
   "source": [
    "# 302: Itinerary Choice using Simple Nested Logit"
   ]
  },
  {
   "cell_type": "code",
   "execution_count": null,
   "metadata": {},
   "outputs": [],
   "source": [
    "import larch\n",
    "larch.__version__"
   ]
  },
  {
   "cell_type": "markdown",
   "metadata": {},
   "source": [
    "This example is an itinerary choice model built using the example\n",
    "itinerary choice dataset included with Larch.  See example 300 for details.\n"
   ]
  },
  {
   "cell_type": "code",
   "execution_count": null,
   "metadata": {},
   "outputs": [],
   "source": [
    "from larch.data_warehouse import example_file\n",
    "itin = pd.read_csv(example_file(\"arc\"), index_col=['id_case','id_alt'])\n",
    "d = larch.DataFrames(itin, ch='choice', crack=True, autoscale_weights=True)"
   ]
  },
  {
   "cell_type": "markdown",
   "metadata": {},
   "source": [
    "We will be building a nested logit model, but in order to do so we need to rationalize the alternative\n",
    "numbers.  As given, our raw itinerary choice data has a lot of alternatives, but they are not\n",
    "ordered or numbered in a regular way; each elemental alternative has\n",
    "an arbitrary code number assigned to it, and the code numbers for one case\n",
    "are not comparable to another case. We need to renumber the alternatives in\n",
    "a manner that is more suited for our application, such that based on the code\n",
    "number we can programatically extract a the relevant features of the alternative\n",
    "that we will want to use in building our nested logit model.  In this example\n",
    "we want to test a model which has nests based on level of service.\n",
    "To renumber, first we will define the relevant categories and values, and establish a numbering\n",
    "system using a special object:\n"
   ]
  },
  {
   "cell_type": "code",
   "execution_count": null,
   "metadata": {},
   "outputs": [],
   "source": [
    "d1 = d.new_systematic_alternatives(\n",
    "    groupby='nb_cnxs',\n",
    "    name='alternative_code',\n",
    "    padding_levels=4,\n",
    "    groupby_prefixes=['Cnx'],\n",
    "    overwrite=False,\n",
    "    complete_features_list={'nb_cnxs':[0,1,2]},\n",
    ")"
   ]
  },
  {
   "cell_type": "markdown",
   "metadata": {},
   "source": [
    "If we compare the new data with the old data, we'll see that we have created a few more alternative."
   ]
  },
  {
   "cell_type": "code",
   "execution_count": null,
   "metadata": {},
   "outputs": [],
   "source": [
    "d.info()"
   ]
  },
  {
   "cell_type": "code",
   "execution_count": null,
   "metadata": {},
   "outputs": [],
   "source": [
    "d1.info()"
   ]
  },
  {
   "cell_type": "markdown",
   "metadata": {},
   "source": [
    "Now let's make our model.  The utility function we will use is the same as the one we used for\n",
    "the MNL version of the model.\n"
   ]
  },
  {
   "cell_type": "code",
   "execution_count": null,
   "metadata": {},
   "outputs": [],
   "source": [
    "m = larch.Model(dataservice=d1)\n",
    "\n",
    "v = [\n",
    "    \"timeperiod==2\",\n",
    "    \"timeperiod==3\",\n",
    "    \"timeperiod==4\",\n",
    "    \"timeperiod==5\",\n",
    "    \"timeperiod==6\",\n",
    "    \"timeperiod==7\",\n",
    "    \"timeperiod==8\",\n",
    "    \"timeperiod==9\",\n",
    "    \"carrier==2\",\n",
    "    \"carrier==3\",\n",
    "    \"carrier==4\",\n",
    "    \"carrier==5\",\n",
    "    \"equipment==2\",\n",
    "    \"fare_hy\",\n",
    "    \"fare_ly\",    \n",
    "    \"elapsed_time\",  \n",
    "    \"nb_cnxs\",       \n",
    "]\n",
    "from larch.roles import PX\n",
    "m.utility_ca = sum(PX(i) for i in v)\n",
    "\n",
    "m.choice_ca_var = 'choice'"
   ]
  },
  {
   "cell_type": "markdown",
   "metadata": {},
   "source": [
    "If we just end our model specification here, we will have a plain MNL model.  To change to\n",
    "a nested logit model, all we need to do is add the nests.  We can do this easily, using the \n",
    "special `magic_nesting` method, that uses the structure of the data that we defined above."
   ]
  },
  {
   "cell_type": "code",
   "execution_count": null,
   "metadata": {},
   "outputs": [],
   "source": [
    "m.magic_nesting()"
   ]
  },
  {
   "cell_type": "code",
   "execution_count": null,
   "metadata": {},
   "outputs": [],
   "source": [
    "m.load_data()"
   ]
  },
  {
   "cell_type": "code",
   "execution_count": null,
   "metadata": {},
   "outputs": [],
   "source": [
    "m.maximize_loglike()"
   ]
  }
 ],
 "metadata": {
  "kernelspec": {
   "display_name": "Python 3 (ipykernel)",
   "language": "python",
   "name": "python3"
  },
  "language_info": {
   "codemirror_mode": {
    "name": "ipython",
    "version": 3
   },
   "file_extension": ".py",
   "mimetype": "text/x-python",
   "name": "python",
   "nbconvert_exporter": "python",
   "pygments_lexer": "ipython3",
   "version": "3.9.9"
  },
  "toc": {
   "base_numbering": 1,
   "nav_menu": {},
   "number_sections": false,
   "sideBar": true,
   "skip_h1_title": false,
   "title_cell": "Table of Contents",
   "title_sidebar": "Contents",
   "toc_cell": false,
   "toc_position": {},
   "toc_section_display": true,
   "toc_window_display": false
  }
 },
 "nbformat": 4,
 "nbformat_minor": 4
}
