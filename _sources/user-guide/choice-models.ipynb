{
 "cells": [
  {
   "cell_type": "markdown",
   "id": "17cb82a6",
   "metadata": {},
   "source": [
    "# Choice Models"
   ]
  },
  {
   "cell_type": "code",
   "execution_count": null,
   "id": "c751bd4e",
   "metadata": {
    "tags": [
     "remove_cell"
    ]
   },
   "outputs": [],
   "source": [
    "# TEST\n",
    "import larch.numba as lx\n",
    "from pytest import approx"
   ]
  },
  {
   "cell_type": "code",
   "execution_count": null,
   "id": "ddabad1f",
   "metadata": {},
   "outputs": [],
   "source": [
    "import larch.numba as lx"
   ]
  },
  {
   "cell_type": "markdown",
   "id": "6915fed2",
   "metadata": {},
   "source": [
    "In this guide, we'll take a look at building a discrete choice model using Larch.\n",
    "We assume you have a decent grasp of the fundamentals of choice modeling -- if not,\n",
    "we suggest reading the \n",
    "[Discrete Choice Modeling](https://pytransport.github.io/course-content/choice-modeling/_index.html)\n",
    "section of the [Python for Transportation Modeling](https://pytransport.github.io) course.\n",
    "\n",
    "Some addition advanced or detailed topics are broken out into seperate guides:\n",
    "\n",
    "- [Data Fundamentals for Choice Models](data-fundamentals)\n",
    "- [Working with Linear Functions](linear-funcs)\n",
    "- [Machine Learning Integration](machine-learning)\n",
    "\n",
    "The examples below work with the tiny dataset introduced in the \n",
    "[Data Fundamentals](data-fundamentals) section."
   ]
  },
  {
   "cell_type": "code",
   "execution_count": null,
   "id": "f0b1a65f",
   "metadata": {
    "tags": [
     "remove_cell"
    ]
   },
   "outputs": [],
   "source": [
    "# HIDDEN\n",
    "df_ca = pd.read_csv(\"example-data/tiny_idca.csv\")\n",
    "cats = df_ca['altid'].astype(pd.CategoricalDtype(['Car', 'Bus', 'Walk'])).cat\n",
    "df_ca['altnum'] = cats.codes + 1\n",
    "df_ca = df_ca.set_index(['caseid', 'altnum'])\n",
    "data = lx.Dataset.from_idca(df_ca.sort_index(), fill_missing=0)\n",
    "data = data.drop_vars(\"_avail_\")\n",
    "data['ChosenCode'] = (data['Chosen'] * data['Chosen'].altnum).sum('altnum')\n",
    "data.coords['alt_names'] = lx.DataArray(cats.categories, dims=('altnum'), coords={'altnum': data.altnum})\n",
    "alts = dict(zip(data['altnum'].values, data['alt_names'].values))\n",
    "for i, k in alts.items():\n",
    "    data[f'{k}Time'] = data['Time'].sel(altnum=i)"
   ]
  },
  {
   "cell_type": "code",
   "execution_count": null,
   "id": "06a4b62f",
   "metadata": {},
   "outputs": [],
   "source": [
    "data"
   ]
  },
  {
   "cell_type": "markdown",
   "id": "2b1c7f63",
   "metadata": {},
   "source": [
    "The basic structure of a choice model in Larch is contained in the \n",
    "[`Model`](larch.numba.Model) object."
   ]
  },
  {
   "cell_type": "code",
   "execution_count": null,
   "id": "a5cb0de3",
   "metadata": {},
   "outputs": [],
   "source": [
    "m = lx.Model(data)"
   ]
  },
  {
   "cell_type": "markdown",
   "id": "779576b1",
   "metadata": {},
   "source": [
    "## Choices\n",
    "\n",
    "The dependent variable for a discrete choice model is an array that describes the choices.\n",
    "In Larch, there are three different ways to indicate choices, by assigning to different\n",
    "attributes:\n",
    "\n",
    "[`m.choice_ca_var`](larch.numba.Model.choice_ca_var)\n",
    ": The choices are given by indicator values (typically but not \n",
    "neccessarily dummy variables) in an [idca](idca) variable.\n",
    "\n",
    "[`m.choice_co_code`](larch.numba.Model.choice_co_code)\n",
    ": The choices are given by altid values in an [idco](idco) variable. \n",
    "These choice codes are then converted to binary indicators\n",
    "by Larch.\n",
    "\n",
    "[`m.choice_co_vars`](larch.numba.Model.choice_co_code)\n",
    ": The choices are given by indicator values (typically but not \n",
    "neccessarily dummy variables) in multiple [idco](idco) variables,\n",
    "one for each alternative.\n",
    "\n",
    "Given the dataset (which has all these formats defined), all \n",
    "the following choice definitions result in the same choice\n",
    "representation:"
   ]
  },
  {
   "cell_type": "code",
   "execution_count": null,
   "id": "83b67f90",
   "metadata": {},
   "outputs": [],
   "source": [
    "m.choice_co_code = 'ChosenCode'"
   ]
  },
  {
   "cell_type": "code",
   "execution_count": null,
   "id": "e247b4d5",
   "metadata": {
    "tags": [
     "remove_cell"
    ]
   },
   "outputs": [],
   "source": [
    "# TEST\n",
    "ch = np.array([ \n",
    "    [ 1.,  0.,  0.,  1.],\n",
    "    [ 0.,  1.,  0.,  1.],\n",
    "    [ 0.,  0.,  1.,  1.],\n",
    "    [ 0.,  0.,  1.,  1.],\n",
    "])\n",
    "assert m.loglike() == approx(np.log(1/3) * 4) \n",
    "np.testing.assert_array_almost_equal(m._data_arrays.ch, ch)"
   ]
  },
  {
   "cell_type": "code",
   "execution_count": null,
   "id": "dbc999f3",
   "metadata": {},
   "outputs": [],
   "source": [
    "m.choice_co_vars = {\n",
    "    1: 'ChosenCode == 1',\n",
    "    2: 'ChosenCode == 2',\n",
    "    3: 'ChosenCode == 3',\n",
    "}"
   ]
  },
  {
   "cell_type": "code",
   "execution_count": null,
   "id": "69c17812",
   "metadata": {
    "tags": [
     "remove_cell"
    ]
   },
   "outputs": [],
   "source": [
    "# TEST\n",
    "assert m.loglike() == approx(np.log(1/3) * 4) \n",
    "np.testing.assert_array_almost_equal(m._data_arrays.ch, ch)"
   ]
  },
  {
   "cell_type": "code",
   "execution_count": null,
   "id": "62b71765",
   "metadata": {},
   "outputs": [],
   "source": [
    "m.choice_ca_var = 'Chosen'"
   ]
  },
  {
   "cell_type": "code",
   "execution_count": null,
   "id": "08f138ba",
   "metadata": {
    "tags": [
     "remove_cell"
    ]
   },
   "outputs": [],
   "source": [
    "# TEST\n",
    "assert m.loglike() == approx(np.log(1/3) * 4) \n",
    "np.testing.assert_array_almost_equal(m._data_arrays.ch, ch)"
   ]
  },
  {
   "cell_type": "markdown",
   "id": "c5517296",
   "metadata": {},
   "source": [
    "After setting the choice definition, the loaded or computed choice array\n",
    "should be available as the `'ch'` DataArray in the model's \n",
    "[`dataset`](larch.numba.Model.dataset)."
   ]
  },
  {
   "cell_type": "code",
   "execution_count": null,
   "id": "66496251",
   "metadata": {},
   "outputs": [],
   "source": [
    "m.dataset['ch']"
   ]
  },
  {
   "cell_type": "markdown",
   "id": "bfb916d0",
   "metadata": {},
   "source": [
    "## Availability\n",
    "\n",
    "In addition to the choices, we can also define an array that describes\n",
    "the availability of the various alternatives. Unlike the choices, for\n",
    "the availability factors we expect that we'll need to toggle the \n",
    "availability on or off for potentially every alternative in each case,\n",
    "so there's only two ways to define availability, by assigning to\n",
    "attributes:\n",
    "\n",
    "[`m.availability_ca_var`](larch.numba.Model.availability_ca_var)\n",
    ": The availability of alternatives is given by binary values \n",
    "(booleans, or equivalent integers) in an [idca](idca) variable.\n",
    "\n",
    "[`m.availability_co_vars`](larch.numba.Model.availability_co_vars)\n",
    ": The availability of alternatives is given by binary values \n",
    "(booleans, or equivalent integers) in multiple [idco](idco) variables,\n",
    "one for each alternative.\n",
    "\n",
    "Given the dataset, both of the following availability definitions \n",
    "result in the same availability representation:"
   ]
  },
  {
   "cell_type": "code",
   "execution_count": null,
   "id": "6bd0eebe",
   "metadata": {},
   "outputs": [],
   "source": [
    "m.availability_ca_var = \"Time > 0\""
   ]
  },
  {
   "cell_type": "code",
   "execution_count": null,
   "id": "92bae0a0",
   "metadata": {
    "tags": [
     "remove_cell"
    ]
   },
   "outputs": [],
   "source": [
    "# TEST\n",
    "assert m.loglike_casewise() == approx([-1.098612, -0.693147, -1.098612, -1.098612])"
   ]
  },
  {
   "cell_type": "code",
   "execution_count": null,
   "id": "68a01d35",
   "metadata": {},
   "outputs": [],
   "source": [
    "m.availability_co_vars = {\n",
    "    1: True,\n",
    "    2: 'BusTime > 0',\n",
    "    3: 'WalkTime > 0',\n",
    "}"
   ]
  },
  {
   "cell_type": "code",
   "execution_count": null,
   "id": "11d64b23",
   "metadata": {
    "tags": [
     "remove_cell"
    ]
   },
   "outputs": [],
   "source": [
    "# TEST\n",
    "assert m.availability_var is None\n",
    "assert m.loglike_casewise() == approx([-1.098612, -0.693147, -1.098612, -1.098612])"
   ]
  },
  {
   "cell_type": "markdown",
   "id": "2b9730f6",
   "metadata": {},
   "source": [
    "After setting the availability definition, the loaded or computed availability array\n",
    "should be available as the `'av'` DataArray in the model's \n",
    "[`dataset`](larch.numba.Model.dataset)."
   ]
  },
  {
   "cell_type": "code",
   "execution_count": null,
   "id": "c8744b30",
   "metadata": {},
   "outputs": [],
   "source": [
    "m.dataset['av']"
   ]
  },
  {
   "cell_type": "markdown",
   "id": "cb29cf0b",
   "metadata": {},
   "source": [
    "## Utility Functions\n",
    "\n",
    "Choice models in Larch rely on utility expressions that are \n",
    "[linear-in-parameters functions](linear-funcs), which combine \n",
    "parameters [`P`](larch.model.linear.ParameterRef_C) and data \n",
    "[`X`](larch.model.linear.DataRef_C). You can attach these function\n",
    "expressions to the model in two ways:\n",
    "\n",
    "[`m.utility_ca`](larch.numba.Model.utility_ca)\n",
    ": A linear function containing generic expressions \n",
    "that are evaluated against the [idca](idca) portion of the dataset. \n",
    "These expression can technically also reference [idco](idco) variables,\n",
    "but to define a well-specified choice model with identifiable\n",
    "parameters, each data term will need at least one [idca](idca)\n",
    "component.\n",
    "\n",
    "[`m.utility_co`](larch.numba.Model.utility_co)\n",
    ": A mapping of alternative-specific expressions that are evaluated \n",
    "against only the [idco](idco) portion of the dataset. Each key gives\n",
    "an alternative id, and the values are linear functions. \n",
    "\n",
    "These two utility function definitions are not mutually\n",
    "exclusive, and you can mix both types of functions in the same\n",
    "model."
   ]
  },
  {
   "cell_type": "code",
   "execution_count": null,
   "id": "6b04e407",
   "metadata": {},
   "outputs": [],
   "source": [
    "from larch import P, X\n",
    "\n",
    "m.utility_ca = P.Time * X.Time + P.Cost * X.Cost"
   ]
  },
  {
   "cell_type": "code",
   "execution_count": null,
   "id": "64eb5dce",
   "metadata": {
    "tags": [
     "remove_cell"
    ]
   },
   "outputs": [],
   "source": [
    "# TEST\n",
    "assert m.loglike({'Time': -0.01, 'Cost': -0.02}) == approx(-4.040671968970389)\n",
    "assert m.utility() == approx(np.array([\n",
    "    [-3.3     , -2.4     , -0.2     , -0.055162],\n",
    "    [-2.75    , -2.35    ,   -np.inf, -1.836985],\n",
    "    [-2.9     , -2.      , -0.3     , -0.071306],\n",
    "    [-4.65    , -3.2     , -0.1     , -0.045875],\n",
    "]), rel=1e-5)"
   ]
  },
  {
   "cell_type": "code",
   "execution_count": null,
   "id": "1502018f",
   "metadata": {},
   "outputs": [],
   "source": [
    "m.utility_co = {\n",
    "    1: P.Income_Car * X.Income / 1000,\n",
    "    2: P.Income_Bus * X.Income / 1000,\n",
    "}"
   ]
  },
  {
   "cell_type": "code",
   "execution_count": null,
   "id": "a9c6578c",
   "metadata": {
    "tags": [
     "remove_cell"
    ]
   },
   "outputs": [],
   "source": [
    "# TEST\n",
    "assert m.loglike({'Time': -0.01, 'Cost': -0.02, 'Income_Car': 0.1}) == approx(-6.089136524348358)\n",
    "assert m.utility({\n",
    "    'Time': -0.01, 'Cost': -0.02, 'Income_Car': 0.1\n",
    "}) == approx(np.array([\n",
    "    [-0.3     , -2.4     , -0.2     ,  0.500937],\n",
    "    [ 0.25    , -2.35    , -np.inf  ,  0.321645],\n",
    "    [ 1.1     , -2.      , -0.3     ,  1.355918],\n",
    "    [ 0.35    , -3.2     , -0.1     ,  0.860637],\n",
    "]))"
   ]
  },
  {
   "cell_type": "markdown",
   "id": "f9e6beb2",
   "metadata": {},
   "source": [
    "The computed values for the utility function can be accessed using \n",
    "the [`utility`](larch.numba.Model.utility) method, which also permits\n",
    "the user to set new values for various model parameters."
   ]
  },
  {
   "cell_type": "code",
   "execution_count": null,
   "id": "970c1bff",
   "metadata": {},
   "outputs": [],
   "source": [
    "m.utility(\n",
    "    {'Time': -0.01, 'Cost': -0.02, 'Income_Car': 0.1},\n",
    "    return_format='dataarray',\n",
    ")"
   ]
  },
  {
   "cell_type": "markdown",
   "id": "440e18f2",
   "metadata": {},
   "source": [
    "## Data Preparation\n",
    "\n",
    "Larch works with two \"tiers\" of data:\n",
    "\n",
    "[`m.datatree`](larch.numba.Model.datatree) \n",
    ": A `DataTree` that holds the raw data used for the model. This can\n",
    "consist of just a single `Dataset`, (which is automatically converted\n",
    "into a one-node tree when you assign it to this attribute) or multiple  \n",
    "related datasets linked together using the `sharrow` library. \n",
    "\n",
    "[`m.dataset`](larch.numba.Model.dataset) \n",
    ": The assembled arrays actually used in calculation, stored\n",
    "as a `Dataset` that has variables for various required data elements\n",
    "and dimensions structured to support the model design.\n",
    "The dataset is wiped out when any aspect of the model structure is\n",
    "changed, and rebuilt as needed for computation. For \n",
    "particular applications that require specialized\n",
    "optimization, the dataset can be provided exogenously after the\n",
    "model stucture is finalized, but generally \n",
    "it will be convenient for users to let Larch build the dataset \n",
    "automatically from a [datatree](larch.numba.Model.datatree)."
   ]
  },
  {
   "cell_type": "code",
   "execution_count": null,
   "id": "c3401b61",
   "metadata": {},
   "outputs": [],
   "source": [
    "m.datatree"
   ]
  },
  {
   "cell_type": "code",
   "execution_count": null,
   "id": "9a4af672",
   "metadata": {},
   "outputs": [],
   "source": [
    "m.dataset"
   ]
  },
  {
   "cell_type": "markdown",
   "id": "8568735b",
   "metadata": {},
   "source": [
    "## Nesting Structures\n",
    "\n",
    "By default, a model in Larch is assumed to be a simple multinomial \n",
    "logit model, unless a nesting structure is defined. That structure\n",
    "is defined in a model's [`graph`](larch.numba.Model.graph)."
   ]
  },
  {
   "cell_type": "code",
   "execution_count": null,
   "id": "25ec7446",
   "metadata": {},
   "outputs": [],
   "source": [
    "m.graph"
   ]
  },
  {
   "cell_type": "code",
   "execution_count": null,
   "id": "ad6b2350",
   "metadata": {
    "tags": [
     "remove_cell"
    ]
   },
   "outputs": [],
   "source": [
    "# TEST\n",
    "assert sorted(m.graph.nodes) == [0, 1, 2, 3]\n",
    "assert sorted(m.graph.edges) == [(0, 1), (0, 2), (0, 3)]\n",
    "assert m.graph.standard_sort_names == ['Car', 'Bus', 'Walk', '_root_']\n",
    "assert m.graph.standard_sort == (1, 2, 3, 0)"
   ]
  },
  {
   "cell_type": "markdown",
   "id": "0ce31f75",
   "metadata": {},
   "source": [
    "Adding a nest can be accomplished the the [`new_node`](larch.model.tree.NestingTree.new_node) method,\n",
    "which allows you to give a nesting node's child codes, a name, and attach a logsum parameter."
   ]
  },
  {
   "cell_type": "code",
   "execution_count": null,
   "id": "836fc0d3",
   "metadata": {},
   "outputs": [],
   "source": [
    "z = m.graph.new_node(parameter='Mu_Motorized', children=[1,2], name='Motorized')\n",
    "m.graph"
   ]
  },
  {
   "cell_type": "code",
   "execution_count": null,
   "id": "1bf7f1b2",
   "metadata": {
    "tags": [
     "remove_cell"
    ]
   },
   "outputs": [],
   "source": [
    "# TEST\n",
    "assert sorted(m.graph.nodes) == [0, 1, 2, 3, 4]\n",
    "assert sorted(m.graph.edges) == [(0, 3), (0, 4), (4, 1), (4, 2)]\n",
    "assert m.graph.standard_sort_names == ['Car', 'Bus', 'Walk', 'Motorized', '_root_']\n",
    "assert m.graph.standard_sort == (1, 2, 3, 4, 0)"
   ]
  },
  {
   "cell_type": "markdown",
   "id": "f94b23ad",
   "metadata": {},
   "source": [
    "The return value of [`new_node`](larch.model.tree.NestingTree.new_node)\n",
    "is the code number of the new nest. This is assigned automatically so \n",
    "as to not overlap with any other alternatives or nests.  We can use this\n",
    "to develop multi-level nesting structures, by putting that new code \n",
    "number as the child for yet another new nest."
   ]
  },
  {
   "cell_type": "code",
   "execution_count": null,
   "id": "637439d3",
   "metadata": {},
   "outputs": [],
   "source": [
    "m.graph.new_node(parameter='Mu_Omni', children=[z, 3], name='Omni')\n",
    "m.graph"
   ]
  },
  {
   "cell_type": "code",
   "execution_count": null,
   "id": "90a41d3c",
   "metadata": {
    "tags": [
     "remove_cell"
    ]
   },
   "outputs": [],
   "source": [
    "# TEST\n",
    "assert sorted(m.graph.nodes) == [0, 1, 2, 3, 4, 5]\n",
    "assert sorted(m.graph.edges) == [(0, 5), (4, 1), (4, 2), (5, 3), (5, 4)]\n",
    "assert m.graph.standard_sort_names == [\n",
    "    'Car', 'Bus', 'Walk', 'Motorized', 'Omni', '_root_'\n",
    "]\n",
    "assert m.graph.standard_sort == (1, 2, 3, 4, 5, 0)"
   ]
  },
  {
   "cell_type": "markdown",
   "id": "9824be61",
   "metadata": {},
   "source": [
    "Nothing in Larch prevents you from overloading the nesting structure with\n",
    "degenerate nests, as shown above.  You may have difficult with estimating\n",
    "parameters if you are not careful with such complex structures.  If you\n",
    "need to [`remove_node`](larch.model.tree.NestingTree.remove_node), you \n",
    "can do so by giving its code--but you'll likely find you'll be much better off\n",
    "just fixing your code and starting over, as node removal can have some odd\n",
    "side effects for complex structures."
   ]
  },
  {
   "cell_type": "code",
   "execution_count": null,
   "id": "435b99b3",
   "metadata": {},
   "outputs": [],
   "source": [
    "m.graph.remove_node(5)\n",
    "m.graph"
   ]
  },
  {
   "cell_type": "code",
   "execution_count": null,
   "id": "ac114d76",
   "metadata": {
    "tags": [
     "remove_cell"
    ]
   },
   "outputs": [],
   "source": [
    "# TEST\n",
    "assert sorted(m.graph.nodes) == [0, 1, 2, 3, 4]\n",
    "assert sorted(m.graph.edges) == [(0, 3), (0, 4), (4, 1), (4, 2)]\n",
    "assert m.graph.standard_sort_names == ['Car', 'Bus', 'Walk', 'Motorized', '_root_']\n",
    "assert m.graph.standard_sort == (1, 2, 3, 4, 0)"
   ]
  },
  {
   "cell_type": "markdown",
   "id": "1910c935",
   "metadata": {},
   "source": [
    "## Parameter Estimation\n",
    "\n",
    "Larch can automatically find all the model parameters contained in the model\n",
    "specification, so we don't need to address them separately unless we want\n",
    "to modify any defaults.\n",
    "\n",
    "We can review the parameters Larch has found, as well as the current values\n",
    "set for them, in the parameter frame, or [`pf`](larch.numba.Model.pf)."
   ]
  },
  {
   "cell_type": "code",
   "execution_count": null,
   "id": "9faa23a2",
   "metadata": {},
   "outputs": [],
   "source": [
    "m.pf"
   ]
  },
  {
   "cell_type": "markdown",
   "id": "cd81f02f",
   "metadata": {},
   "source": [
    "If we want to set certain parameters to be constrained to be certain values,\n",
    "that can be accomplished with the [`lock_value`](larch.numba.Model.lock_value) method.\n",
    "Because our sample data has so few observations, it won't be possible to estimate\n",
    "values for all four parameters, so we can assert values for two of them."
   ]
  },
  {
   "cell_type": "code",
   "execution_count": null,
   "id": "320730ff",
   "metadata": {},
   "outputs": [],
   "source": [
    "m.lock_value('Time', -0.01)\n",
    "m.lock_value('Cost', -0.02)\n",
    "m.pf"
   ]
  },
  {
   "cell_type": "markdown",
   "id": "7f3ca518",
   "metadata": {},
   "source": [
    "The default infinite bounds on the remaining parameters can be problematic\n",
    "for some optimization algorithms, so it's usually good practice to set large\n",
    "but finite limits for those values.  The [`set_cap`](larch.numba.Model.set_cap) method\n",
    "can do just that, setting a minimum and maximum value for all the parameters\n",
    "that otherwise have bounds outside the cap."
   ]
  },
  {
   "cell_type": "code",
   "execution_count": null,
   "id": "f2afd336",
   "metadata": {},
   "outputs": [],
   "source": [
    "m.set_cap(100)\n",
    "m.pf"
   ]
  },
  {
   "cell_type": "markdown",
   "id": "9befb487",
   "metadata": {},
   "source": [
    "To actually develop maximum likelihood estimates for the remaining\n",
    "unconstrained parameters, use the \n",
    "[`maximize_loglike`](larch.numba.Model.maximize_loglike) method."
   ]
  },
  {
   "cell_type": "code",
   "execution_count": null,
   "id": "40aeb3bd",
   "metadata": {},
   "outputs": [],
   "source": [
    "m.maximize_loglike()"
   ]
  },
  {
   "cell_type": "markdown",
   "id": "fa7ca41b",
   "metadata": {},
   "source": [
    "In a Jupyter notebook, this method displays a live-updating view of the\n",
    "progress of the optmization algorithm, so that the analyst can interrupt\n",
    "if something looks wrong.\n",
    "\n",
    "The [`maximize_loglike`](larch.numba.Model.maximize_loglike) method does \n",
    "not include the calculation of parameter covariance matrixes, standard\n",
    "errors, or t-statistics.  For large models, this can be a computationally \n",
    "expensive process, and it is often but not *always* necessary. Those\n",
    "computatations are made in the\n",
    "[`calculate_parameter_covariance`](larch.numba.Model.calculate_parameter_covariance)\n",
    "method instead.  Once completed, things like t-statistics and standard\n",
    "errors are available in the parameter frame."
   ]
  },
  {
   "cell_type": "code",
   "execution_count": null,
   "id": "d6dc5077",
   "metadata": {},
   "outputs": [],
   "source": [
    "m.calculate_parameter_covariance()\n",
    "m.pf"
   ]
  },
  {
   "cell_type": "markdown",
   "id": "abc20303",
   "metadata": {},
   "source": [
    "## Reporting\n",
    "\n",
    "Larch includes a variety of pre-packaged and *a la carte* reporting options.\n",
    "\n",
    "Commonly used report tables are available directly in a Jupyter notebook\n",
    "through a selection of reporting functions."
   ]
  },
  {
   "cell_type": "code",
   "execution_count": null,
   "id": "b3729afc",
   "metadata": {},
   "outputs": [],
   "source": [
    "m.parameter_summary()"
   ]
  },
  {
   "cell_type": "code",
   "execution_count": null,
   "id": "c59b4b5a",
   "metadata": {},
   "outputs": [],
   "source": [
    "m.estimation_statistics()"
   ]
  },
  {
   "cell_type": "code",
   "execution_count": null,
   "id": "3516a861",
   "metadata": {},
   "outputs": [],
   "source": [
    "m.most_recent_estimation_result"
   ]
  },
  {
   "cell_type": "markdown",
   "id": "877e45f2",
   "metadata": {},
   "source": [
    "To save a model report to an Excel file, use the [`to_xlsx`](larch.numba.Model.to_xlsx) method."
   ]
  },
  {
   "cell_type": "code",
   "execution_count": null,
   "id": "db867667",
   "metadata": {},
   "outputs": [],
   "source": [
    "m.to_xlsx(\"/tmp/larch-demo.xlsx\")"
   ]
  },
  {
   "cell_type": "markdown",
   "id": "b4ad7159",
   "metadata": {},
   "source": [
    "![](larch-demo-xlsx.jpg)"
   ]
  }
 ],
 "metadata": {
  "kernelspec": {
   "display_name": "Python 3 (ipykernel)",
   "language": "python",
   "name": "python3"
  },
  "language_info": {
   "codemirror_mode": {
    "name": "ipython",
    "version": 3
   },
   "file_extension": ".py",
   "mimetype": "text/x-python",
   "name": "python",
   "nbconvert_exporter": "python",
   "pygments_lexer": "ipython3",
   "version": "3.9.9"
  },
  "toc": {
   "base_numbering": 1,
   "nav_menu": {},
   "number_sections": false,
   "sideBar": true,
   "skip_h1_title": false,
   "title_cell": "Table of Contents",
   "title_sidebar": "Contents",
   "toc_cell": false,
   "toc_position": {
    "height": "calc(100% - 180px)",
    "left": "10px",
    "top": "150px",
    "width": "299.2px"
   },
   "toc_section_display": true,
   "toc_window_display": true
  }
 },
 "nbformat": 4,
 "nbformat_minor": 5
}
