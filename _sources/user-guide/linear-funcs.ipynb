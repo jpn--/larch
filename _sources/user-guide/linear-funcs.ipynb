{
 "cells": [
  {
   "cell_type": "code",
   "execution_count": null,
   "id": "5a9ccf89-ece7-4140-b1c8-9b9a5f7501ce",
   "metadata": {
    "tags": [
     "remove_cell"
    ]
   },
   "outputs": [],
   "source": [
    "import larch\n",
    "larch.__version__"
   ]
  },
  {
   "cell_type": "markdown",
   "id": "e8186a84-8796-4384-99de-59a5a286eb8c",
   "metadata": {
    "tags": []
   },
   "source": [
    "(linear-funcs)=\n",
    "# Linear Functions"
   ]
  },
  {
   "cell_type": "markdown",
   "id": "e41e76ab-185f-4b31-996a-4dab8f06cfd5",
   "metadata": {},
   "source": [
    "In many discrete choice models, the \n",
    "probability of selecting any particular alternative is represented as\n",
    "some function based on the utility of the various alternatives. \n",
    "\n",
    "In Larch, the utility is created based on one or more linear-in-parameters\n",
    "functions, which combine raw or pre-computed data values with \n",
    "named model parameters.  To facilitate writing these functions,\n",
    "Larch provides two special classes: parameter references (`P`) and\n",
    "data references (`X`)."
   ]
  },
  {
   "cell_type": "code",
   "execution_count": null,
   "id": "61782fe5-11ef-4d78-a8d4-a75525254e2c",
   "metadata": {},
   "outputs": [],
   "source": [
    "from larch import P, X"
   ]
  },
  {
   "cell_type": "markdown",
   "id": "a01bb3b7-f9b6-4666-8730-10c1f4090943",
   "metadata": {},
   "source": [
    "Parameter and data references can be defined using either a function-like notation,\n",
    "or a attribute-like notation."
   ]
  },
  {
   "cell_type": "code",
   "execution_count": null,
   "id": "88948fa3-fc64-4219-8ed9-632b88e5dd2f",
   "metadata": {},
   "outputs": [],
   "source": [
    "P('NamedParameter')"
   ]
  },
  {
   "cell_type": "code",
   "execution_count": null,
   "id": "b749d920",
   "metadata": {
    "tags": [
     "remove_cell"
    ]
   },
   "outputs": [],
   "source": [
    "# TEST\n",
    "named_param = P('NamedParameter')\n",
    "assert isinstance(named_param, larch.model.linear.ParameterRef_C)\n",
    "assert named_param == 'NamedParameter'"
   ]
  },
  {
   "cell_type": "code",
   "execution_count": null,
   "id": "af5d8bcf-5980-46a8-ac55-93c496875d0e",
   "metadata": {},
   "outputs": [],
   "source": [
    "X.NamedDataValue"
   ]
  },
  {
   "cell_type": "code",
   "execution_count": null,
   "id": "aa0e7e96",
   "metadata": {
    "tags": [
     "remove_cell"
    ]
   },
   "outputs": [],
   "source": [
    "# TEST\n",
    "named_data = X.NamedDataValue\n",
    "assert isinstance(named_data, larch.model.linear.DataRef_C)\n",
    "assert named_data == 'NamedDataValue'"
   ]
  },
  {
   "cell_type": "markdown",
   "id": "cf2538b3-77e4-4cb8-b9e3-fe65d22ee572",
   "metadata": {},
   "source": [
    "In either case, if the named value contains any spaces or non-alphanumeric characters,\n",
    "it must be given in function-like notation only, as Python will not accept\n",
    "those characters in the attribute-like form."
   ]
  },
  {
   "cell_type": "code",
   "execution_count": null,
   "id": "bf59473f-885b-4e20-823e-4c934890c58c",
   "metadata": {},
   "outputs": [],
   "source": [
    "P('Named Parameter')"
   ]
  },
  {
   "cell_type": "code",
   "execution_count": null,
   "id": "4847f84a",
   "metadata": {
    "tags": [
     "remove_cell"
    ]
   },
   "outputs": [],
   "source": [
    "# TEST\n",
    "named_param = P('Named Parameter')\n",
    "assert isinstance(named_param, larch.model.linear.ParameterRef_C)\n",
    "assert named_param == 'Named Parameter'"
   ]
  },
  {
   "cell_type": "markdown",
   "id": "40b5d7a1-ecd8-403d-9949-880bd00b0d87",
   "metadata": {},
   "source": [
    "Data references can name an exact data element that appears in the data used for \n",
    "model estimation or application, or can include simple transformations of that data, so long\n",
    "as these transformations can be done without regard to any estimated parameter.\n",
    "For example, we can use the log of income:"
   ]
  },
  {
   "cell_type": "code",
   "execution_count": null,
   "id": "8b01ee8e-eb79-4027-9235-b627f15d12a2",
   "metadata": {},
   "outputs": [],
   "source": [
    "X(\"log(INCOME)\")"
   ]
  },
  {
   "cell_type": "markdown",
   "id": "440792f6-c9fd-4f75-aea8-1ef68c89a2e6",
   "metadata": {},
   "source": [
    "To write a linear-in-parameters utility function, we simply multiply together\n",
    "a parameter reference and a data reference, and then optionally add that\n",
    "to one or more similar terms."
   ]
  },
  {
   "cell_type": "code",
   "execution_count": null,
   "id": "2b825a32-6511-41ca-8048-1cbebfea7e24",
   "metadata": {},
   "outputs": [],
   "source": [
    "P.InVehTime * X.AUTO_TIME + P.Cost * X.AUTO_COST"
   ]
  },
  {
   "cell_type": "markdown",
   "id": "df70ee39-60fe-4422-9f4f-278bb0099c38",
   "metadata": {},
   "source": [
    "It is permissible to omit the data reference on a term \n",
    "(in which case it is implicitly set to 1.0)."
   ]
  },
  {
   "cell_type": "code",
   "execution_count": null,
   "id": "5b92793b-df73-47c9-a8d3-fb673f649f13",
   "metadata": {},
   "outputs": [],
   "source": [
    "P.ASC + P.InVehTime * X.AUTO_TIME + P.Cost * X.AUTO_COST"
   ]
  },
  {
   "cell_type": "markdown",
   "id": "dba995a2-c019-4b97-affe-1ac25b84b410",
   "metadata": {},
   "source": [
    "On the other hand, Larch does not currently permit you to omit the parameter \n",
    "reference from a term.  "
   ]
  },
  {
   "cell_type": "code",
   "execution_count": null,
   "id": "7332074c-d380-414d-bc16-f5ff4a54d8ad",
   "metadata": {
    "tags": [
     "raises-exception"
    ]
   },
   "outputs": [],
   "source": [
    "P.InVehTime * X.AUTO_TIME + P.Cost * X.AUTO_COST + X.GEN_COST"
   ]
  },
  {
   "cell_type": "markdown",
   "id": "a2c20184-93cb-43ae-a8f6-652e8727f021",
   "metadata": {},
   "source": [
    "Although you cannot include a term with an implicit parameter set to 1,\n",
    "you can achieve the same model structure by including that parameter *explicitly*.\n",
    "Later in the model setup process you can explicitly lock any parameter to\n",
    "have a specific fixed value."
   ]
  },
  {
   "cell_type": "code",
   "execution_count": null,
   "id": "f921ceb3-20eb-465e-8a35-71d4bddb220b",
   "metadata": {},
   "outputs": [],
   "source": [
    "P.InVehTime * X.AUTO_TIME + P.Cost * X.AUTO_COST + X.GEN_COST * P.One"
   ]
  },
  {
   "cell_type": "code",
   "execution_count": null,
   "id": "9184893d",
   "metadata": {
    "tags": [
     "remove_cell"
    ]
   },
   "outputs": [],
   "source": [
    "# TEST\n",
    "f = _\n",
    "assert len(f) == 3"
   ]
  },
  {
   "cell_type": "markdown",
   "id": "ce279393-fd41-436c-868e-0825eda2a0a6",
   "metadata": {},
   "source": [
    "In addition to writing out a linear function as a single command, you can also compose\n",
    "such functions over several Python commands, using both in-place and regular addition."
   ]
  },
  {
   "cell_type": "code",
   "execution_count": null,
   "id": "4fb85fcb-6ed4-4dfa-8ce7-e8bf5e61e5fd",
   "metadata": {},
   "outputs": [],
   "source": [
    "f = P.ASC + P.InVehTime * X.AUTO_TIME\n",
    "f += P.Cost * X.AUTO_COST\n",
    "f"
   ]
  },
  {
   "cell_type": "code",
   "execution_count": null,
   "id": "dbd54ffa-aba9-467c-ab29-05db7789499b",
   "metadata": {},
   "outputs": [],
   "source": [
    "f + P.Cost * X.AUTO_TOLL"
   ]
  },
  {
   "cell_type": "markdown",
   "id": "d8ea1919-746f-48e8-9f15-4cdfed15728b",
   "metadata": {},
   "source": [
    "Functional simplification is not automatic.  Thus, while you can subtract term from\n",
    "a linear function, it does not cancel out existing terms from the function."
   ]
  },
  {
   "cell_type": "code",
   "execution_count": null,
   "id": "d46da149-8fae-4143-accc-510460cedcbd",
   "metadata": {},
   "outputs": [],
   "source": [
    "f = P.ASC + P.InVehTime * X.AUTO_TIME\n",
    "f - P.InVehTime * X.AUTO_TIME"
   ]
  },
  {
   "cell_type": "markdown",
   "id": "9cf0453e",
   "metadata": {},
   "source": [
    "Instead, to actually remove terms from a linear function, use the `remove_param` or `remove_data` methods."
   ]
  },
  {
   "cell_type": "code",
   "execution_count": null,
   "id": "af8887fa",
   "metadata": {},
   "outputs": [],
   "source": [
    "f = P.ASC + P.InVehTime * X.AUTO_TIME + P.Cost * X.AUTO_TOLL\n",
    "f.remove_param(P.InVehTime)"
   ]
  },
  {
   "cell_type": "code",
   "execution_count": null,
   "id": "17ea1ded",
   "metadata": {
    "tags": [
     "remove_cell"
    ]
   },
   "outputs": [],
   "source": [
    "# TEST\n",
    "assert len(f) == 2\n",
    "assert f[0].param == 'ASC'\n",
    "assert f[1].param == 'Cost'"
   ]
  },
  {
   "cell_type": "code",
   "execution_count": null,
   "id": "aacb8280",
   "metadata": {},
   "outputs": [],
   "source": [
    "f = P.ASC + P.InVehTime * X.AUTO_TIME + P.Cost * X.AUTO_TOLL\n",
    "f.remove_data('AUTO_TOLL')"
   ]
  },
  {
   "cell_type": "code",
   "execution_count": null,
   "id": "d2de048e",
   "metadata": {
    "tags": [
     "remove_cell"
    ]
   },
   "outputs": [],
   "source": [
    "# TEST\n",
    "assert len(f) == 2\n",
    "assert f[0].param == 'ASC'\n",
    "assert f[1].param == 'InVehTime'"
   ]
  }
 ],
 "metadata": {
  "celltoolbar": "Tags",
  "kernelspec": {
   "display_name": "Python 3 (ipykernel)",
   "language": "python",
   "name": "python3"
  },
  "language_info": {
   "codemirror_mode": {
    "name": "ipython",
    "version": 3
   },
   "file_extension": ".py",
   "mimetype": "text/x-python",
   "name": "python",
   "nbconvert_exporter": "python",
   "pygments_lexer": "ipython3",
   "version": "3.9.9"
  },
  "toc": {
   "base_numbering": 1,
   "nav_menu": {},
   "number_sections": false,
   "sideBar": true,
   "skip_h1_title": false,
   "title_cell": "Table of Contents",
   "title_sidebar": "Contents",
   "toc_cell": false,
   "toc_position": {},
   "toc_section_display": true,
   "toc_window_display": false
  }
 },
 "nbformat": 4,
 "nbformat_minor": 5
}
