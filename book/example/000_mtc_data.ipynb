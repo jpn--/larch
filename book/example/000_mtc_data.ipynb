{
 "cells": [
  {
   "cell_type": "markdown",
   "metadata": {},
   "source": [
    "# MTC Work Mode Choice Data"
   ]
  },
  {
   "cell_type": "code",
   "execution_count": null,
   "metadata": {},
   "outputs": [],
   "source": [
    "import os, gzip\n",
    "import numpy as np, pandas as pd, xarray as xr\n",
    "import larch.numba as lx"
   ]
  },
  {
   "cell_type": "markdown",
   "metadata": {},
   "source": [
    "The MTC sample dataset is the same data used in the Self Instructing Manual {cite:p}`koppelman2006self` for discrete choice modeling:\n",
    "\n",
    "> The San Francisco Bay Area work mode choice data set comprises 5029 home-to-work commute trips in the\n",
    "> San Francisco Bay Area. The data is drawn from the San Francisco Bay Area Household Travel Survey\n",
    "> conducted by the Metropolitan Transportation Commission (MTC) in the spring and fall of 1990. This\n",
    "> survey included a one day travel diary for each household member older than five years and detailed\n",
    "> individual and household socio-demographic information."
   ]
  },
  {
   "cell_type": "markdown",
   "metadata": {
    "raw_mimetype": "text/restructuredtext"
   },
   "source": [
    "In this example we will import the MTC example dataset, starting from a csv\n",
    "text file in [`idca`](idca) format.  Suppose that data file is gzipped, named \"MTCwork.csv.gz\" and\n",
    "is located in the current directory (use `os.getcwd` to see what is the\n",
    "current directory).  For this example, we'll use the `example_file` method to find\n",
    "the file that comes with Larch.\n",
    "\n",
    "We can take a peek at the contents of the file, examining the first 10 lines:"
   ]
  },
  {
   "cell_type": "code",
   "execution_count": null,
   "metadata": {
    "doc_only": true
   },
   "outputs": [],
   "source": [
    "with gzip.open(lx.example_file(\"MTCwork.csv.gz\"), 'rt') as previewfile:\n",
    "    print(*(next(previewfile) for x in range(10)))"
   ]
  },
  {
   "cell_type": "markdown",
   "metadata": {},
   "source": [
    "The first line of the file contains column headers. After that, each line represents\n",
    "an alternative available to a decision maker. In our sample data, we see the first 5\n",
    "lines of data share a ``caseid`` of 1, indicating that they are 5 different alternatives\n",
    "available to the first decision maker.  The identity of the alternatives is given by the\n",
    "number in the column ``altid``. The observed choice of the decision maker is\n",
    "indicated in the column ``chose`` with a 1 in the appropriate row. \n",
    "\n",
    "We can load this data easily using pandas.  We'll also set the index of the resulting DataFrame to\n",
    "be the case and alt identifiers.\n",
    "\n"
   ]
  },
  {
   "cell_type": "code",
   "execution_count": null,
   "metadata": {},
   "outputs": [],
   "source": [
    "df = pd.read_csv(lx.example_file(\"MTCwork.csv.gz\"), index_col=['casenum','altnum'])"
   ]
  },
  {
   "cell_type": "code",
   "execution_count": null,
   "metadata": {},
   "outputs": [],
   "source": [
    "df.head(15)"
   ]
  },
  {
   "cell_type": "markdown",
   "metadata": {},
   "source": [
    "To prepare this data for use with the latest version of Larch, we'll want\n",
    "to convert this DataFrame into a `larch.Dataset`.  For [`idca`](idca) format like this,\n",
    "we can use the `from_idca` constructor to do so easily."
   ]
  },
  {
   "cell_type": "code",
   "execution_count": null,
   "metadata": {},
   "outputs": [],
   "source": [
    "ds = lx.Dataset.from_idca(df)\n",
    "ds"
   ]
  },
  {
   "cell_type": "markdown",
   "metadata": {},
   "source": [
    "Larch can automatically analyze the data to find \n",
    "variables that do not vary across alternatives within\n",
    "cases, and transform those into [`idco`](idco) format variables.  If you would prefer that\n",
    "Larch not do this you can set the `crack` argument to `False`.  This is particularly\n",
    "important for larger datasets (the data sample included is only a tiny extract of the data\n",
    "that might be available for this kind of model), as breaking the data into \n",
    "separate [`idca`](idca) and [`idco`](idco) parts is\n",
    "a relatively expensive operation, and it is not actually required for most model structures."
   ]
  },
  {
   "cell_type": "code",
   "execution_count": null,
   "metadata": {
    "tags": [
     "remove_cell"
    ]
   },
   "outputs": [],
   "source": [
    "# TEST\n",
    "assert ds['femdum'].dims == ('casenum',)\n",
    "assert ds['femdum'].dtype.kind == 'i'\n",
    "assert ds['ivtt'].dims == ('casenum','altnum')\n",
    "assert ds['ivtt'].dtype.kind == 'f'\n",
    "assert ds.dims == {'casenum': 5029, 'altnum': 6}\n",
    "assert ds.CASEID == 'casenum'\n",
    "assert ds.ALTID == 'altnum'"
   ]
  },
  {
   "cell_type": "markdown",
   "metadata": {},
   "source": [
    "The set of all possible alternative codes is deduced automatically from all the values\n",
    "in the `altnum` column.  However, the alterative codes are not very descriptive when\n",
    "they are set automatically, as the csv data file does not have enough information to\n",
    "tell what each alternative code number means.  We can use the `set_altnames` method\n",
    "to attach more descriptive names."
   ]
  },
  {
   "cell_type": "code",
   "execution_count": null,
   "metadata": {},
   "outputs": [],
   "source": [
    "ds = ds.set_altnames({\n",
    "    1:'DA', 2:'SR2', 3:'SR3+', 4:'Transit', 5:'Bike', 6:'Walk',\n",
    "})\n",
    "ds"
   ]
  },
  {
   "cell_type": "code",
   "execution_count": null,
   "metadata": {
    "tags": [
     "remove_cell"
    ]
   },
   "outputs": [],
   "source": [
    "# TEST\n",
    "assert all(ds.coords['altnames'] == ['DA', 'SR2', 'SR3+', 'Transit', 'Bike', 'Walk'])"
   ]
  }
 ],
 "metadata": {
  "kernelspec": {
   "display_name": "Python 3 (ipykernel)",
   "language": "python",
   "name": "python3"
  },
  "language_info": {
   "codemirror_mode": {
    "name": "ipython",
    "version": 3
   },
   "file_extension": ".py",
   "mimetype": "text/x-python",
   "name": "python",
   "nbconvert_exporter": "python",
   "pygments_lexer": "ipython3",
   "version": "3.9.9"
  },
  "toc": {
   "base_numbering": 1,
   "nav_menu": {},
   "number_sections": true,
   "sideBar": true,
   "skip_h1_title": false,
   "title_cell": "Table of Contents",
   "title_sidebar": "Contents",
   "toc_cell": false,
   "toc_position": {},
   "toc_section_display": true,
   "toc_window_display": false
  }
 },
 "nbformat": 4,
 "nbformat_minor": 2
}
