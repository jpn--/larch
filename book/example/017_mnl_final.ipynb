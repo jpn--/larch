{
 "cells": [
  {
   "cell_type": "markdown",
   "id": "5852f0e3",
   "metadata": {},
   "source": [
    "# 17: MTC Expanded MNL Mode Choice"
   ]
  },
  {
   "cell_type": "code",
   "execution_count": null,
   "id": "f9fa7932",
   "metadata": {
    "tags": [
     "remove_cell"
    ]
   },
   "outputs": [],
   "source": [
    "# TEST\n",
    "import larch.numba as lx\n",
    "import larch\n",
    "import pandas as pd\n",
    "pd.set_option(\"display.max_columns\", 999)\n",
    "pd.set_option('expand_frame_repr', False)\n",
    "pd.set_option('display.precision', 3)\n",
    "larch._doctest_mode_ = True"
   ]
  },
  {
   "cell_type": "markdown",
   "id": "7d382537",
   "metadata": {},
   "source": [
    "For this example, we're going to re-create model 17 from the\n",
    "[Self Instructing Manual](http://www.caee.utexas.edu/prof/Bhat/COURSES/LM_Draft_060131Final-060630.pdf). (pp. 128)"
   ]
  },
  {
   "cell_type": "code",
   "execution_count": null,
   "id": "91e1a946",
   "metadata": {},
   "outputs": [],
   "source": [
    "import larch.numba as lx\n",
    "d = lx.examples.MTC(format='dataset')\n",
    "m = lx.Model(d)"
   ]
  },
  {
   "cell_type": "markdown",
   "id": "3eb1164f",
   "metadata": {},
   "source": [
    "We will use the usual choice and availability variables."
   ]
  },
  {
   "cell_type": "code",
   "execution_count": null,
   "id": "5bd6ddb2",
   "metadata": {},
   "outputs": [],
   "source": [
    "m.availability_var = 'avail'\n",
    "m.choice_ca_var = 'chose'"
   ]
  },
  {
   "cell_type": "code",
   "execution_count": null,
   "id": "1c030da6",
   "metadata": {},
   "outputs": [],
   "source": [
    "from larch.roles import P, X\n",
    "\n",
    "m.utility_ca = (\n",
    "    + X(\"totcost/hhinc\") * P(\"costbyincome\")\n",
    "    + X(\"tottime * (altnum <= 4)\") * P(\"motorized_time\")\n",
    "    + X(\"tottime * (altnum >= 5)\") * P(\"nonmotorized_time\")\n",
    "    + X(\"ovtt/dist * (altnum <= 4)\") * P(\"motorized_ovtbydist\")\n",
    ")"
   ]
  },
  {
   "cell_type": "markdown",
   "id": "730662d1",
   "metadata": {},
   "source": [
    "The \"totcost/hhinc\" data is computed once as a new variable when loading the model data.\n",
    "The same applies for tottime filtered by motorized modes (we harness the convenient fact\n",
    "that all the motorized modes have identifying numbers 4 or less), and \"ovtt/dist\"."
   ]
  },
  {
   "cell_type": "code",
   "execution_count": null,
   "id": "e125ebeb",
   "metadata": {},
   "outputs": [],
   "source": [
    "for a in [4,5,6]:\n",
    "    m.utility_co[a] += X(\"hhinc\") * P(\"hhinc#{}\".format(a))"
   ]
  },
  {
   "cell_type": "markdown",
   "id": "4c5eb8b2",
   "metadata": {},
   "source": [
    "Since the model we want to create groups together DA, SR2 and SR3+ jointly as\n",
    "reference alternatives with respect to income, we can simply omit all of these alternatives\n",
    "from the block that applies to **hhinc**.\n",
    "\n",
    "For vehicles per worker, the preferred model include a joint parameter on SR2 and SR3+,\n",
    "but not including DA and not fixed at zero.  Here we might use a shadow_parameter (also\n",
    "called an alias in some places), which allows\n",
    "us to specify one or more parameters that are simply a fixed proportion of another parameter.\n",
    "For example, we can say that vehbywrk_SR2 will be equal to vehbywrk_SR."
   ]
  },
  {
   "cell_type": "code",
   "execution_count": null,
   "id": "393b801b",
   "metadata": {},
   "outputs": [],
   "source": [
    "for i in d['alt_names'][1:3]:\n",
    "    name = str(i.values)\n",
    "    a = int(i.altid)\n",
    "    m.utility_co[a] += (\n",
    "        + X(\"vehbywrk\") * P(\"vehbywrk_SR\")\n",
    "        + X(\"wkccbd+wknccbd\") * P(\"wkcbd_\"+name)\n",
    "        + X(\"wkempden\") * P(\"wkempden_\"+name)\n",
    "        + P(\"ASC_\"+name)\n",
    "    )\n",
    "\n",
    "for i in d['alt_names'][3:]:\n",
    "    name = str(i.values)\n",
    "    a = int(i.altid)\n",
    "    m.utility_co[a] += (\n",
    "        + X(\"vehbywrk\") * P(\"vehbywrk_\"+name)\n",
    "        + X(\"wkccbd+wknccbd\") * P(\"wkcbd_\"+name)\n",
    "        + X(\"wkempden\") * P(\"wkempden_\"+name)\n",
    "        + P(\"ASC_\"+name)\n",
    "    )"
   ]
  },
  {
   "cell_type": "markdown",
   "id": "4cd9a4d4",
   "metadata": {},
   "source": [
    "We didn't explicitly define our parameters first, which is fine; Larch will\n",
    "find them in the utility functions (or elsewhere in more complex models).\n",
    "But they may be found in a weird order that is hard to read in reports.\n",
    "We can define an ordering scheme by assigning to the parameter_groups attribute,\n",
    "like this:"
   ]
  },
  {
   "cell_type": "code",
   "execution_count": null,
   "id": "3a2b26b9",
   "metadata": {},
   "outputs": [],
   "source": [
    "m.ordering = (\n",
    "    ('LOS', \".*cost.*\", \".*time.*\", \".*dist.*\",),\n",
    "    ('Zonal', \"wkcbd.*\", \"wkempden.*\",),\n",
    "    ('Household', \"hhinc.*\", \"vehbywrk.*\",),\n",
    "    ('ASCs', \"ASC.*\",),\n",
    ")"
   ]
  },
  {
   "cell_type": "markdown",
   "id": "1bec5f2a",
   "metadata": {},
   "source": [
    "Each item in parameter_ordering is a tuple, with a label and one or more regular expressions,\n",
    "which will be compared against\n",
    "all the parameter names.  Any names that match will be pulled out and put into the\n",
    "reporting order sequentially.  Thus if a parameter name would match more than one\n",
    "regex, it will appear in the ordering only for the first match.\n",
    "\n",
    "\n",
    "Having created this model, we can then estimate it:"
   ]
  },
  {
   "cell_type": "code",
   "execution_count": null,
   "id": "6d54f34c",
   "metadata": {},
   "outputs": [],
   "source": [
    "m.maximize_loglike()"
   ]
  },
  {
   "cell_type": "code",
   "execution_count": null,
   "id": "1b943352",
   "metadata": {
    "tags": [
     "remove_cell"
    ]
   },
   "outputs": [],
   "source": [
    "# TEST\n",
    "r = _\n",
    "from pytest import approx\n",
    "assert r.loglike == approx(-3444.185105027836)\n",
    "assert r.n_cases == 5029\n",
    "assert 'success' in r.message.lower()\n",
    "assert r.x.to_dict() == approx({\n",
    "    'ASC_Bike': -1.6288174781480145,\n",
    "    'ASC_SR2': -1.8077821796310174,\n",
    "    'ASC_SR3+': -3.4336998987834213,\n",
    "    'ASC_Transit': -0.6850205869302504,\n",
    "    'ASC_Walk': 0.06826615821030824,\n",
    "    'costbyincome': -0.05239236004239274,\n",
    "    'hhinc#4': -0.0053231144110710265,\n",
    "    'hhinc#5': -0.008643179890815506,\n",
    "    'hhinc#6': -0.005997795266774085,\n",
    "    'motorized_ovtbydist': -0.1328389672470942,\n",
    "    'motorized_time': -0.02018676908268187,\n",
    "    'nonmotorized_time': -0.04544467417768392,\n",
    "    'vehbywrk_Bike': -0.7021221804213855,\n",
    "    'vehbywrk_SR': -0.31664078667048384,\n",
    "    'vehbywrk_Transit': -0.9462364952409247,\n",
    "    'vehbywrk_Walk': -0.7218049107571212,\n",
    "    'wkcbd_Bike': 0.48936706067828845,\n",
    "    'wkcbd_SR2': 0.25986035009653136,\n",
    "    'wkcbd_SR3+': 1.069304378606234,\n",
    "    'wkcbd_Transit': 1.308896887615559,\n",
    "    'wkcbd_Walk': 0.10177663194876692,\n",
    "    'wkempden_Bike': 0.0019282498545339284,\n",
    "    'wkempden_SR2': 0.0015778182187284415,\n",
    "    'wkempden_SR3+': 0.002257039208670294,\n",
    "    'wkempden_Transit': 0.003132740135033535,\n",
    "    'wkempden_Walk': 0.0028906014986955593,\n",
    "})"
   ]
  },
  {
   "cell_type": "code",
   "execution_count": null,
   "id": "395f02e1",
   "metadata": {},
   "outputs": [],
   "source": [
    "m.calculate_parameter_covariance()\n",
    "m.parameter_summary()"
   ]
  },
  {
   "cell_type": "code",
   "execution_count": null,
   "id": "41c2c930",
   "metadata": {
    "tags": [
     "remove_cell"
    ]
   },
   "outputs": [],
   "source": [
    "# TEST\n",
    "assert m.pf.t_stat.to_dict() == approx({\n",
    "    'ASC_Bike': -3.8110051632761968,\n",
    "    'ASC_SR2': -17.03471916394958,\n",
    "    'ASC_SR3+': -22.610264384635116,\n",
    "    'ASC_Transit': -2.764269785206984,\n",
    "    'ASC_Walk': 0.19617043561070976,\n",
    "    'costbyincome': -5.0360570040949515,\n",
    "    'hhinc#4': -2.6923847354101915,\n",
    "    'hhinc#5': -1.676857732750138,\n",
    "    'hhinc#6': -1.9049215648409885,\n",
    "    'motorized_ovtbydist': -6.763234843764025,\n",
    "    'motorized_time': -5.291965825624687,\n",
    "    'nonmotorized_time': -7.878190061966541,\n",
    "    'vehbywrk_Bike': -2.7183965402594508,\n",
    "    'vehbywrk_SR': -4.751992210976383,\n",
    "    'vehbywrk_Transit': -7.999145737275119,\n",
    "    'vehbywrk_Walk': -4.261234830020787,\n",
    "    'wkcbd_Bike': 1.3552321494507682,\n",
    "    'wkcbd_SR2': 2.1066605695091867,\n",
    "    'wkcbd_SR3+': 5.590372196382326,\n",
    "    'wkcbd_Transit': 7.899400934474615,\n",
    "    'wkcbd_Walk': 0.40370690248331875,\n",
    "    'wkempden_Bike': 1.5864614051558108,\n",
    "    'wkempden_SR2': 4.042074989321517,\n",
    "    'wkempden_SR3+': 4.993778175062689,\n",
    "    'wkempden_Transit': 8.684498489531592,\n",
    "    'wkempden_Walk': 3.8952326996888065,\n",
    "})\n",
    "assert m.pf.robust_t_stat.to_dict() == approx({\n",
    "    'ASC_Bike': -3.350788895379893,\n",
    "    'ASC_SR2': -15.450849978191432,\n",
    "    'ASC_SR3+': -22.047875467016553,\n",
    "    'ASC_Transit': -2.546641253284614,\n",
    "    'ASC_Walk': 0.19546387137430002,\n",
    "    'costbyincome': -3.927312777634008,\n",
    "    'hhinc#4': -2.6000468880002883,\n",
    "    'hhinc#5': -1.448502844590286,\n",
    "    'hhinc#6': -1.7478834622063846,\n",
    "    'motorized_ovtbydist': -5.512721233692836,\n",
    "    'motorized_time': -5.1781560789822985,\n",
    "    'nonmotorized_time': -7.890366874224642,\n",
    "    'vehbywrk_Bike': -2.26956809717166,\n",
    "    'vehbywrk_SR': -4.1884543094363345,\n",
    "    'vehbywrk_Transit': -6.907359588761182,\n",
    "    'vehbywrk_Walk': -3.552049105845569,\n",
    "    'wkcbd_Bike': 1.3353508709464412,\n",
    "    'wkcbd_SR2': 2.1061572488997933,\n",
    "    'wkcbd_SR3+': 5.629597757231176,\n",
    "    'wkcbd_Transit': 8.258699769521979,\n",
    "    'wkcbd_Walk': 0.3932045643537346,\n",
    "    'wkempden_Bike': 1.640126229774069,\n",
    "    'wkempden_SR2': 3.8222350454916496,\n",
    "    'wkempden_SR3+': 4.974652568010134,\n",
    "    'wkempden_Transit': 8.178299823852544,\n",
    "    'wkempden_Walk': 4.06724937563278,\n",
    "})"
   ]
  },
  {
   "cell_type": "code",
   "execution_count": null,
   "id": "1463b17c",
   "metadata": {
    "tags": [
     "remove_cell"
    ]
   },
   "outputs": [],
   "source": [
    "# TEST\n",
    "# model also works for IDCE\n",
    "df = pd.read_csv(lx.example_file(\"MTCwork.csv.gz\"), index_col=['casenum','altnum'])\n",
    "df.index = df.index.rename('altid', level=1)\n",
    "df['altnum'] = df.index.get_level_values(1)\n",
    "m.datatree = lx.Dataset.from_idce(df)\n",
    "m.availability_var = '1'\n",
    "assert m.loglike() == approx(-3444.185105027836)\n",
    "assert m.n_cases == 5029\n",
    "assert 'ca' not in m.dataset\n",
    "assert m.dataset['ce_data'].shape == (22033,4)"
   ]
  }
 ],
 "metadata": {
  "kernelspec": {
   "display_name": "Python 3 (ipykernel)",
   "language": "python",
   "name": "python3"
  },
  "language_info": {
   "codemirror_mode": {
    "name": "ipython",
    "version": 3
   },
   "file_extension": ".py",
   "mimetype": "text/x-python",
   "name": "python",
   "nbconvert_exporter": "python",
   "pygments_lexer": "ipython3",
   "version": "3.9.9"
  },
  "toc": {
   "base_numbering": 1,
   "nav_menu": {},
   "number_sections": false,
   "sideBar": true,
   "skip_h1_title": false,
   "title_cell": "Table of Contents",
   "title_sidebar": "Contents",
   "toc_cell": false,
   "toc_position": {},
   "toc_section_display": true,
   "toc_window_display": false
  }
 },
 "nbformat": 4,
 "nbformat_minor": 5
}
