{
 "cells": [
  {
   "cell_type": "markdown",
   "id": "25dfc0ea",
   "metadata": {},
   "source": [
    "# 28: MTC Motorized - Shared Ride - Non-Motorized Nested Mode Choice"
   ]
  },
  {
   "cell_type": "code",
   "execution_count": null,
   "id": "8447f6d1",
   "metadata": {
    "tags": [
     "remove_cell"
    ]
   },
   "outputs": [],
   "source": [
    "# TEST\n",
    "import larch.numba as lx\n",
    "import larch\n",
    "import pandas as pd\n",
    "pd.set_option(\"display.max_columns\", 999)\n",
    "pd.set_option('expand_frame_repr', False)\n",
    "pd.set_option('display.precision', 3)\n",
    "larch._doctest_mode_ = True"
   ]
  },
  {
   "cell_type": "code",
   "execution_count": null,
   "id": "ef24ae7c",
   "metadata": {},
   "outputs": [],
   "source": [
    "import larch.numba as lx\n",
    "m = lx.example(17)"
   ]
  },
  {
   "cell_type": "markdown",
   "id": "142cc945",
   "metadata": {},
   "source": [
    "Model 28's nesting structure groups motorized, shared ride, and non-motorized. \n",
    "([pp. 185](http://www.caee.utexas.edu/prof/Bhat/COURSES/LM_Draft_060131Final-060630.pdf))\n"
   ]
  },
  {
   "cell_type": "code",
   "execution_count": null,
   "id": "b98cfa74",
   "metadata": {},
   "outputs": [],
   "source": [
    "shared = m.graph.new_node(parameter='mu_shared', children=[2,3], name='Shared')\n",
    "motorized = m.graph.new_node(parameter='mu_moto', children=[1,shared,4], name='Motorized')\n",
    "nonmotorized= m.graph.new_node(parameter='mu_nonmoto', children=[5,6], name='Nonmotorized')"
   ]
  },
  {
   "cell_type": "code",
   "execution_count": null,
   "id": "d261bced",
   "metadata": {},
   "outputs": [],
   "source": [
    "m.ordering = (\n",
    "    (\"CostbyInc\",\"costbyincome\",),\n",
    "    (\"TravelTime\",\".*time.*\",\".*dist.*\", ),\n",
    "    (\"Household\",\"hhinc.*\",\"vehbywrk.*\",),\n",
    "    (\"Zonal\",\"wkcbd.*\",\"wkempden.*\",),\n",
    "    (\"ASCs\",\"ASC.*\",),\n",
    ")"
   ]
  },
  {
   "cell_type": "code",
   "execution_count": null,
   "id": "a6385cca",
   "metadata": {},
   "outputs": [],
   "source": [
    "m.maximize_loglike()"
   ]
  },
  {
   "cell_type": "code",
   "execution_count": null,
   "id": "29b0d01a",
   "metadata": {
    "tags": [
     "remove_cell"
    ]
   },
   "outputs": [],
   "source": [
    "# TEST\n",
    "r = _\n",
    "from pytest import approx\n",
    "assert r.loglike == approx(-3439.9424748481597)\n",
    "assert r.x.to_dict() == approx({\n",
    "    'ASC_Bike': -1.1942392899418395,\n",
    "    'ASC_SR2': -1.239164162651749,\n",
    "    'ASC_SR3+': -1.6207087083613156,\n",
    "    'ASC_Transit': -0.400364035925597,\n",
    "    'ASC_Walk': 0.34674535049075883,\n",
    "    'costbyincome': -0.03342992403161219,\n",
    "    'hhinc#4': -0.004024788501195687,\n",
    "    'hhinc#5': -0.010236114721081898,\n",
    "    'hhinc#6': -0.006377258718397652,\n",
    "    'motorized_ovtbydist': -0.11480812935398205,\n",
    "    'motorized_time': -0.014853602690012372,\n",
    "    'mu_moto': 0.7280413768833618,\n",
    "    'mu_nonmoto': 0.7659558457927776,\n",
    "    'mu_shared': 0.24059290220106344,\n",
    "    'nonmotorized_time': -0.04603106967413983,\n",
    "    'vehbywrk_Bike': -0.7352956670004155,\n",
    "    'vehbywrk_SR': -0.22501875326294266,\n",
    "    'vehbywrk_Transit': -0.7030724851341503,\n",
    "    'vehbywrk_Walk': -0.7651569305248282,\n",
    "    'wkcbd_Bike': 0.41543159410210306,\n",
    "    'wkcbd_SR2': 0.29303057259233106,\n",
    "    'wkcbd_SR3+': 0.47229783810713644,\n",
    "    'wkcbd_Transit': 0.9306784164350212,\n",
    "    'wkcbd_Walk': 0.12318700133914434,\n",
    "    'wkempden_Bike': 0.0017499573330856002,\n",
    "    'wkempden_SR2': 0.001369569015808136,\n",
    "    'wkempden_SR3+': 0.0014014004179079879,\n",
    "    'wkempden_Transit': 0.002309868017949087,\n",
    "    'wkempden_Walk': 0.0022363349074798343\n",
    "})"
   ]
  },
  {
   "cell_type": "code",
   "execution_count": null,
   "id": "78506ed5",
   "metadata": {},
   "outputs": [],
   "source": [
    "m.calculate_parameter_covariance()\n",
    "m.parameter_summary()"
   ]
  },
  {
   "cell_type": "code",
   "execution_count": null,
   "id": "f2000fd0",
   "metadata": {
    "tags": [
     "remove_cell"
    ]
   },
   "outputs": [],
   "source": [
    "# TEST\n",
    "expected_t = pd.Series({\n",
    "    'ASC_Bike': -2.8708063143705704,\n",
    "    'ASC_SR2': -5.145581612006666,\n",
    "    'ASC_SR3+': -4.5678455586778135,\n",
    "    'ASC_Transit': -1.8152718466985056,\n",
    "    'ASC_Walk': 0.9691291816195207,\n",
    "    'costbyincome': -3.320306943815585,\n",
    "    'hhinc#4': -2.4813585130183773,\n",
    "    'hhinc#5': -2.2018951253434325,\n",
    "    'hhinc#6': -2.1092357554422407,\n",
    "    'motorized_ovtbydist': -5.407086049415482,\n",
    "    'motorized_time': -3.8752202147172747,\n",
    "    'mu_moto': -1.9980554699483475,\n",
    "    'mu_nonmoto': -1.3136317113016975,\n",
    "    'mu_shared': -7.232572160990268,\n",
    "    'nonmotorized_time': -8.531813547971128,\n",
    "    'vehbywrk_Bike': -3.2190917335189577,\n",
    "    'vehbywrk_SR': -3.44992592306152,\n",
    "    'vehbywrk_Transit': -4.6942093385435895,\n",
    "    'vehbywrk_Walk': -4.684925378031182,\n",
    "    'wkcbd_Bike': 1.2709313407798035,\n",
    "    'wkcbd_SR2': 2.963489613817413,\n",
    "    'wkcbd_SR3+': 3.476745734943837,\n",
    "    'wkcbd_Transit': 4.151267589993535,\n",
    "    'wkcbd_Walk': 0.5217554301653182,\n",
    "    'wkempden_Bike': 1.6073813337220129,\n",
    "    'wkempden_SR2': 3.786800289770099,\n",
    "    'wkempden_SR3+': 3.7956553695073443,\n",
    "    'wkempden_Transit': 4.423243628445124,\n",
    "    'wkempden_Walk': 2.912974554332499,\n",
    "}, name='t_stat')\n",
    "pd.testing.assert_series_equal(m.pf.t_stat, expected_t)"
   ]
  }
 ],
 "metadata": {
  "kernelspec": {
   "display_name": "Python 3 (ipykernel)",
   "language": "python",
   "name": "python3"
  },
  "language_info": {
   "codemirror_mode": {
    "name": "ipython",
    "version": 3
   },
   "file_extension": ".py",
   "mimetype": "text/x-python",
   "name": "python",
   "nbconvert_exporter": "python",
   "pygments_lexer": "ipython3",
   "version": "3.9.9"
  },
  "toc": {
   "base_numbering": 1,
   "nav_menu": {},
   "number_sections": false,
   "sideBar": true,
   "skip_h1_title": false,
   "title_cell": "Table of Contents",
   "title_sidebar": "Contents",
   "toc_cell": false,
   "toc_position": {},
   "toc_section_display": true,
   "toc_window_display": false
  }
 },
 "nbformat": 4,
 "nbformat_minor": 5
}
