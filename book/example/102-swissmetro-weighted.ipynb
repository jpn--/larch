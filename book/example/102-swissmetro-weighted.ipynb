{
 "cells": [
  {
   "cell_type": "markdown",
   "id": "3232f3c4",
   "metadata": {},
   "source": [
    "# 102: Swissmetro Weighted MNL Mode Choice"
   ]
  },
  {
   "cell_type": "code",
   "execution_count": null,
   "id": "faf59f97",
   "metadata": {
    "tags": [
     "remove_cell"
    ]
   },
   "outputs": [],
   "source": [
    "# TEST\n",
    "import larch\n",
    "import os\n",
    "import pandas as pd\n",
    "pd.set_option(\"display.max_columns\", 999)\n",
    "pd.set_option('expand_frame_repr', False)\n",
    "pd.set_option('display.precision', 3)\n",
    "larch._doctest_mode_ = True\n",
    "import larch.numba as lx"
   ]
  },
  {
   "cell_type": "code",
   "execution_count": null,
   "id": "31f9bbf8",
   "metadata": {},
   "outputs": [],
   "source": [
    "import pandas as pd\n",
    "import larch.numba as lx"
   ]
  },
  {
   "cell_type": "markdown",
   "id": "274083d5",
   "metadata": {},
   "source": [
    "This example is a mode choice model built using the Swissmetro example dataset.\n",
    "First we create the Dataset and Model objects:"
   ]
  },
  {
   "cell_type": "code",
   "execution_count": null,
   "id": "29687584",
   "metadata": {},
   "outputs": [],
   "source": [
    "raw_data = pd.read_csv(lx.example_file('swissmetro.csv.gz')).rename_axis(index='CASEID')\n",
    "data = lx.Dataset.from_idco(raw_data, alts={1:'Train', 2:'SM', 3:'Car'})\n",
    "data"
   ]
  },
  {
   "cell_type": "markdown",
   "id": "9f5c3772",
   "metadata": {},
   "source": [
    "The swissmetro example models exclude some observations.  We can use the \n",
    "`Dataset.query_cases` method to identify the observations we would like to keep."
   ]
  },
  {
   "cell_type": "code",
   "execution_count": null,
   "id": "a460aefa",
   "metadata": {},
   "outputs": [],
   "source": [
    "m = lx.Model(data.query_cases(\"PURPOSE in (1,3) and CHOICE != 0\"))"
   ]
  },
  {
   "cell_type": "markdown",
   "id": "fd898fdf",
   "metadata": {},
   "source": [
    "We can attach a title to the model. The title does not affect the calculations\n",
    "as all; it is merely used in various output report styles."
   ]
  },
  {
   "cell_type": "code",
   "execution_count": null,
   "id": "e31fb124",
   "metadata": {},
   "outputs": [],
   "source": [
    "m.title = \"swissmetro example 02 (weighted logit)\""
   ]
  },
  {
   "cell_type": "markdown",
   "id": "b029e07f",
   "metadata": {},
   "source": [
    "We need to identify the availability and choice variables."
   ]
  },
  {
   "cell_type": "code",
   "execution_count": null,
   "id": "36513ed1",
   "metadata": {},
   "outputs": [],
   "source": [
    "m.availability_co_vars = {\n",
    "    1: \"TRAIN_AV * (SP!=0)\",\n",
    "    2: \"SM_AV\",\n",
    "    3: \"CAR_AV * (SP!=0)\",\n",
    "}\n",
    "m.choice_co_code = 'CHOICE'"
   ]
  },
  {
   "cell_type": "markdown",
   "id": "f992897c",
   "metadata": {},
   "source": [
    "This model adds a weighting factor."
   ]
  },
  {
   "cell_type": "code",
   "execution_count": null,
   "id": "11849d56",
   "metadata": {},
   "outputs": [],
   "source": [
    "m.weight_co_var = \"1.0*(GROUP==2)+1.2*(GROUP==3)\""
   ]
  },
  {
   "cell_type": "markdown",
   "id": "0d524f86",
   "metadata": {},
   "source": [
    "The swissmetro dataset, as with all Biogeme data, is only in `co` format."
   ]
  },
  {
   "cell_type": "code",
   "execution_count": null,
   "id": "c7e5dd0a",
   "metadata": {},
   "outputs": [],
   "source": [
    "from larch.roles import P,X\n",
    "m.utility_co[1] = P(\"ASC_TRAIN\")\n",
    "m.utility_co[2] = 0\n",
    "m.utility_co[3] = P(\"ASC_CAR\")\n",
    "m.utility_co[1] += X(\"TRAIN_TT\") * P(\"B_TIME\")\n",
    "m.utility_co[2] += X(\"SM_TT\") * P(\"B_TIME\")\n",
    "m.utility_co[3] += X(\"CAR_TT\") * P(\"B_TIME\")\n",
    "m.utility_co[1] += X(\"TRAIN_CO*(GA==0)\") * P(\"B_COST\")\n",
    "m.utility_co[2] += X(\"SM_CO*(GA==0)\") * P(\"B_COST\")\n",
    "m.utility_co[3] += X(\"CAR_CO\") * P(\"B_COST\")"
   ]
  },
  {
   "cell_type": "markdown",
   "id": "60378611",
   "metadata": {},
   "source": [
    "Larch will find all the parameters in the model, but we'd like to output them in\n",
    "a rational order.  We can use the ordering method to do this:"
   ]
  },
  {
   "cell_type": "code",
   "execution_count": null,
   "id": "918601bf",
   "metadata": {},
   "outputs": [],
   "source": [
    "m.ordering = [\n",
    "    (\"ASCs\", 'ASC.*',),\n",
    "    (\"LOS\", 'B_.*',),\n",
    "]"
   ]
  },
  {
   "cell_type": "code",
   "execution_count": null,
   "id": "64f60ffb",
   "metadata": {
    "tags": [
     "remove_cell"
    ]
   },
   "outputs": [],
   "source": [
    "# TEST\n",
    "from pytest import approx\n",
    "assert m.loglike() == approx(-7892.111473285806)"
   ]
  },
  {
   "cell_type": "markdown",
   "id": "e6f853dc",
   "metadata": {},
   "source": [
    "We can estimate the models and check the results match up with those given by Biogeme:"
   ]
  },
  {
   "cell_type": "code",
   "execution_count": null,
   "id": "d7cf9f70",
   "metadata": {},
   "outputs": [],
   "source": [
    "m.set_cap(15)\n",
    "m.maximize_loglike(method='SLSQP')"
   ]
  },
  {
   "cell_type": "code",
   "execution_count": null,
   "id": "baf04617",
   "metadata": {
    "tags": [
     "remove_cell"
    ]
   },
   "outputs": [],
   "source": [
    "# TEST\n",
    "r = _\n",
    "from pytest import approx\n",
    "assert r.loglike == approx(-5931.557677709527)"
   ]
  },
  {
   "cell_type": "code",
   "execution_count": null,
   "id": "8a589e53",
   "metadata": {},
   "outputs": [],
   "source": [
    "m.calculate_parameter_covariance()\n",
    "m.parameter_summary()"
   ]
  },
  {
   "cell_type": "code",
   "execution_count": null,
   "id": "b4f540ea",
   "metadata": {},
   "outputs": [],
   "source": [
    "assert m.parameter_summary().data.to_markdown() == '''\n",
    "|                       |   Value |   Std Err |   t Stat | Signif   |   Null Value |\n",
    "|:----------------------|--------:|----------:|---------:|:---------|-------------:|\n",
    "| ('ASCs', 'ASC_CAR')   | -0.114  |  0.0407   |    -2.81 | **       |            0 |\n",
    "| ('ASCs', 'ASC_TRAIN') | -0.757  |  0.0528   |   -14.32 | ***      |            0 |\n",
    "| ('LOS', 'B_COST')     | -0.0112 |  0.00049  |   -22.83 | ***      |            0 |\n",
    "| ('LOS', 'B_TIME')     | -0.0132 |  0.000537 |   -24.62 | ***      |            0 |\n",
    "'''[1:-1]"
   ]
  },
  {
   "cell_type": "markdown",
   "id": "b4414b7c",
   "metadata": {},
   "source": [
    "Looks good!"
   ]
  }
 ],
 "metadata": {
  "kernelspec": {
   "display_name": "Python 3 (ipykernel)",
   "language": "python",
   "name": "python3"
  },
  "language_info": {
   "codemirror_mode": {
    "name": "ipython",
    "version": 3
   },
   "file_extension": ".py",
   "mimetype": "text/x-python",
   "name": "python",
   "nbconvert_exporter": "python",
   "pygments_lexer": "ipython3",
   "version": "3.9.9"
  },
  "toc": {
   "base_numbering": 1,
   "nav_menu": {},
   "number_sections": false,
   "sideBar": true,
   "skip_h1_title": false,
   "title_cell": "Table of Contents",
   "title_sidebar": "Contents",
   "toc_cell": false,
   "toc_position": {},
   "toc_section_display": true,
   "toc_window_display": false
  }
 },
 "nbformat": 4,
 "nbformat_minor": 5
}
