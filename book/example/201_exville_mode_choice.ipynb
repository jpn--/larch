{
 "cells": [
  {
   "cell_type": "markdown",
   "metadata": {},
   "source": [
    "# 201: Exampville Mode Choice\n",
    "\n",
    "Welcome to Exampville, the best simulated town in this here part of the internet!\n",
    "\n",
    "Exampville is a demonstration provided with Larch that walks through some of the \n",
    "data and tools that a transportation planner might use when building a travel model. "
   ]
  },
  {
   "cell_type": "code",
   "execution_count": null,
   "metadata": {},
   "outputs": [],
   "source": [
    "import larch, numpy, pandas, os\n",
    "from larch import P, X"
   ]
  },
  {
   "cell_type": "code",
   "execution_count": null,
   "metadata": {},
   "outputs": [],
   "source": [
    "larch.__version__"
   ]
  },
  {
   "cell_type": "markdown",
   "metadata": {},
   "source": [
    "In this example notebook, we will walk through the creation of a tour mode choice model."
   ]
  },
  {
   "cell_type": "markdown",
   "metadata": {},
   "source": [
    "To begin, we'll re-load the tours and skims data from the \n",
    "data setup example."
   ]
  },
  {
   "cell_type": "code",
   "execution_count": null,
   "metadata": {},
   "outputs": [],
   "source": [
    "hh, pp, tour, skims = larch.example(200, ['hh', 'pp', 'tour', 'skims'])"
   ]
  },
  {
   "cell_type": "markdown",
   "metadata": {},
   "source": [
    "## Preprocessing"
   ]
  },
  {
   "cell_type": "markdown",
   "metadata": {},
   "source": [
    "The Exampville data output contains a set of files similar to what we might\n",
    "find for a real travel survey: network skims, and tables of households, persons,\n",
    "and tours.  We'll need to merge these tables to create a composite dataset\n",
    "for mode choice model estimation.\n",
    "\n",
    "We can merge data from other tables using the usual pandas syntax for merging.\n"
   ]
  },
  {
   "cell_type": "code",
   "execution_count": null,
   "metadata": {},
   "outputs": [],
   "source": [
    "raw = tour.merge(hh, on='HHID').merge(pp, on=('HHID', 'PERSONID'))"
   ]
  },
  {
   "cell_type": "markdown",
   "metadata": {},
   "source": [
    "Our zone numbering system starts with zone 1, as is common for many TAZ numbering \n",
    "systems seen in practice.  But, for looking up data in the skims matrix, we'll need\n",
    "to use zero-based numbering that is standard in Python.  So we'll create two new \n",
    "TAZ-index columns to assist this process."
   ]
  },
  {
   "cell_type": "code",
   "execution_count": null,
   "metadata": {},
   "outputs": [],
   "source": [
    "raw[\"HOMETAZi\"] = raw[\"HOMETAZ\"] - 1\n",
    "raw[\"DTAZi\"] = raw[\"DTAZ\"] - 1"
   ]
  },
  {
   "cell_type": "code",
   "execution_count": null,
   "metadata": {},
   "outputs": [],
   "source": [
    "raw.info()"
   ]
  },
  {
   "cell_type": "markdown",
   "metadata": {},
   "source": [
    "In Exampville, there are only two kinds of trips: \n",
    "\n",
    "- work (purpose=1) and \n",
    "- non-work (purpose=2). \n",
    "\n",
    "We want to estimate a mode choice model for work trips, \n",
    "so we’ll begin by excluding all the other trips:"
   ]
  },
  {
   "cell_type": "code",
   "execution_count": null,
   "metadata": {},
   "outputs": [],
   "source": [
    "raw = raw[raw.TOURPURP == 1]"
   ]
  },
  {
   "cell_type": "code",
   "execution_count": null,
   "metadata": {},
   "outputs": [],
   "source": [
    "raw.info()"
   ]
  },
  {
   "cell_type": "code",
   "execution_count": null,
   "metadata": {},
   "outputs": [],
   "source": [
    "skims"
   ]
  },
  {
   "cell_type": "markdown",
   "metadata": {},
   "source": [
    "For this tour mode choice model, we can pick values \n",
    "out of the skims for the known O-D of the tour, so \n",
    "that we have access to the level-of-service data for\n",
    "each possible mode serving that O-D pair.  We'll \n",
    "use the `get_rc_dataframe` method of the `larch.OMX`\n",
    "object, which lets us give the a list of the index for the \n",
    "production and attraction (row and column) value we\n",
    "want to use.  "
   ]
  },
  {
   "cell_type": "code",
   "execution_count": null,
   "metadata": {},
   "outputs": [],
   "source": [
    "raw = raw.join(\n",
    "    skims.get_rc_dataframe(\n",
    "        raw.HOMETAZi, raw.DTAZi,\n",
    "    )\n",
    ")"
   ]
  },
  {
   "cell_type": "markdown",
   "metadata": {},
   "source": [
    "We can review the `raw` frame to see what variables are now included."
   ]
  },
  {
   "cell_type": "code",
   "execution_count": null,
   "metadata": {},
   "outputs": [],
   "source": [
    "raw.info()"
   ]
  },
  {
   "cell_type": "markdown",
   "metadata": {},
   "source": [
    "Now we can assemble this data, along with the definitions of the alternatives,\n",
    "into a `larch.DataFrames` object.  This object links information about the \n",
    "raw data and the choices into one data structure.  It can handle multiple data\n",
    "formats (including `idco` and `idca` data simultanously), but here we'll only\n",
    "be using a single `idco` format data table."
   ]
  },
  {
   "cell_type": "code",
   "execution_count": null,
   "metadata": {},
   "outputs": [],
   "source": [
    "# For clarity, we can define numbers as names for modes\n",
    "DA = 1\n",
    "SR = 2\n",
    "Walk = 3\n",
    "Bike = 4\n",
    "Transit = 5"
   ]
  },
  {
   "cell_type": "code",
   "execution_count": null,
   "metadata": {},
   "outputs": [],
   "source": [
    "dfs = larch.DataFrames(\n",
    "    co=raw, \n",
    "    alt_codes=[DA,SR,Walk,Bike,Transit], \n",
    "    alt_names=['DA','SR','Walk','Bike','Transit'],\n",
    "    ch_name='TOURMODE',\n",
    ")"
   ]
  },
  {
   "cell_type": "markdown",
   "metadata": {},
   "source": [
    "## Model Definition"
   ]
  },
  {
   "cell_type": "markdown",
   "metadata": {},
   "source": [
    "And then we are ready to create our model."
   ]
  },
  {
   "cell_type": "code",
   "execution_count": null,
   "metadata": {},
   "outputs": [],
   "source": [
    "m = larch.Model(dataservice=dfs)\n",
    "m.title = \"Exampville Work Tour Mode Choice v1\""
   ]
  },
  {
   "cell_type": "markdown",
   "metadata": {},
   "source": [
    "We will explicitly define the set of utility functions \n",
    "we want to use.  Because the DataFrames we are using to \n",
    "serve data to this model contains exclusively `idco` format\n",
    "data, we'll use only the `utility_co` mapping to define\n",
    "a unique utility function for each alternative."
   ]
  },
  {
   "cell_type": "code",
   "execution_count": null,
   "metadata": {},
   "outputs": [],
   "source": [
    "m.utility_co[DA] = (\n",
    "        + P.InVehTime * X.AUTO_TIME\n",
    "        + P.Cost * X.AUTO_COST # dollars per mile\n",
    ")\n",
    "\n",
    "m.utility_co[SR] = (\n",
    "        + P.ASC_SR\n",
    "        + P.InVehTime * X.AUTO_TIME\n",
    "        + P.Cost * (X.AUTO_COST * 0.5) # dollars per mile, half share\n",
    "        + P(\"LogIncome:SR\") * X(\"log(INCOME)\")\n",
    ")\n",
    "\n",
    "m.utility_co[Walk] = (\n",
    "        + P.ASC_Walk\n",
    "        + P.NonMotorTime * X.WALK_TIME\n",
    "        + P(\"LogIncome:Walk\") * X(\"log(INCOME)\")\n",
    ")\n",
    "\n",
    "m.utility_co[Bike] = (\n",
    "        + P.ASC_Bike\n",
    "        + P.NonMotorTime * X.BIKE_TIME\n",
    "        + P(\"LogIncome:Bike\") * X(\"log(INCOME)\")\n",
    ")\n",
    "\n",
    "m.utility_co[Transit] = (\n",
    "        + P.ASC_Transit\n",
    "        + P.InVehTime * X.TRANSIT_IVTT\n",
    "        + P.OutVehTime * X.TRANSIT_OVTT\n",
    "        + P.Cost * X.TRANSIT_FARE\n",
    "        + P(\"LogIncome:Transit\") * X('log(INCOME)')\n",
    ")"
   ]
  },
  {
   "cell_type": "markdown",
   "metadata": {},
   "source": [
    "To write a nested logit mode, we'll attach some nesting nodes to the \n",
    "model's `graph`.  Each `new_node` allows us to define the set of \n",
    "codes for the child nodes (elemental alternatives, or lower level nests)\n",
    "as well as giving the new nest a name and assigning a logsum parameter.\n",
    "The return value of this method is the node code for the newly created \n",
    "nest, which then can potenially be used as a child code when creating\n",
    "a higher level nest.  We do this below, adding the 'Car' nest into the \n",
    "'Motor' nest."
   ]
  },
  {
   "cell_type": "code",
   "execution_count": null,
   "metadata": {},
   "outputs": [],
   "source": [
    "Car = m.graph.new_node(parameter='Mu:Car', children=[DA,SR], name='Car')\n",
    "NonMotor = m.graph.new_node(parameter='Mu:NonMotor', children=[Walk,Bike], name='NonMotor')\n",
    "Motor = m.graph.new_node(parameter='Mu:Motor', children=[Car,Transit], name='Motor')"
   ]
  },
  {
   "cell_type": "markdown",
   "metadata": {},
   "source": [
    "Let's visually check on the nesting structure."
   ]
  },
  {
   "cell_type": "code",
   "execution_count": null,
   "metadata": {},
   "outputs": [],
   "source": [
    "m.graph"
   ]
  },
  {
   "cell_type": "markdown",
   "metadata": {},
   "source": [
    "The tour mode choice model's choice variable is indicated by \n",
    "the code value in 'TOURMODE', and this can be \n",
    "defined for the model using `choice_co_code`."
   ]
  },
  {
   "cell_type": "code",
   "execution_count": null,
   "metadata": {},
   "outputs": [],
   "source": [
    "m.choice_co_code = 'TOURMODE'"
   ]
  },
  {
   "cell_type": "markdown",
   "metadata": {},
   "source": [
    "We can also give a dictionary of availability conditions based \n",
    "on values in the `idco` data, using the `availability_co_vars`\n",
    "attribute.  Alternatives that are always available can be indicated\n",
    "by setting the criterion to 1."
   ]
  },
  {
   "cell_type": "code",
   "execution_count": null,
   "metadata": {},
   "outputs": [],
   "source": [
    "m.availability_co_vars = {\n",
    "    DA: 'AGE >= 16',\n",
    "    SR: 1,\n",
    "    Walk: 'WALK_TIME < 60',\n",
    "    Bike: 'BIKE_TIME < 60',\n",
    "    Transit: 'TRANSIT_FARE>0',\n",
    "}"
   ]
  },
  {
   "cell_type": "markdown",
   "metadata": {},
   "source": [
    "Then let's prepare this data for estimation.  Even though the\n",
    "data is already in memory, the `load_data` method is used to \n",
    "pre-process the data, extracting the required values, pre-computing \n",
    "the values of fixed expressions, and assembling the results into\n",
    "contiguous arrays suitable for computing the log likelihood values\n",
    "efficiently."
   ]
  },
  {
   "cell_type": "markdown",
   "metadata": {},
   "source": [
    "## Model Estimation"
   ]
  },
  {
   "cell_type": "code",
   "execution_count": null,
   "metadata": {},
   "outputs": [],
   "source": [
    "m.load_data()"
   ]
  },
  {
   "cell_type": "markdown",
   "metadata": {},
   "source": [
    "We can check on some important statistics of this loaded data even\n",
    "before we estimate the model."
   ]
  },
  {
   "cell_type": "code",
   "execution_count": null,
   "metadata": {},
   "outputs": [],
   "source": [
    "m.dataframes.choice_avail_summary()"
   ]
  },
  {
   "cell_type": "code",
   "execution_count": null,
   "metadata": {},
   "outputs": [],
   "source": [
    "m.dataframes.data_co.statistics()"
   ]
  },
  {
   "cell_type": "markdown",
   "metadata": {},
   "source": [
    "If we are satisfied with the statistics we see above, we\n",
    "can go ahead and estimate the model."
   ]
  },
  {
   "cell_type": "code",
   "execution_count": null,
   "metadata": {},
   "outputs": [],
   "source": [
    "result = m.maximize_loglike(method='slsqp')"
   ]
  },
  {
   "cell_type": "markdown",
   "metadata": {},
   "source": [
    "After we find the best fitting parameters, we can compute\n",
    "some variance-covariance statistics, incuding standard errors of\n",
    "the estimates and t statistics, using `calculate_parameter_covariance`."
   ]
  },
  {
   "cell_type": "code",
   "execution_count": null,
   "metadata": {},
   "outputs": [],
   "source": [
    "m.calculate_parameter_covariance()"
   ]
  },
  {
   "cell_type": "markdown",
   "metadata": {},
   "source": [
    "Then we can review the results in a variety of report tables."
   ]
  },
  {
   "cell_type": "code",
   "execution_count": null,
   "metadata": {},
   "outputs": [],
   "source": [
    "m.parameter_summary()"
   ]
  },
  {
   "cell_type": "code",
   "execution_count": null,
   "metadata": {},
   "outputs": [],
   "source": [
    "m.estimation_statistics()"
   ]
  },
  {
   "cell_type": "markdown",
   "metadata": {},
   "source": [
    "## Save and Report Model"
   ]
  },
  {
   "cell_type": "code",
   "execution_count": null,
   "metadata": {},
   "outputs": [],
   "source": [
    "report = larch.Reporter(title=m.title)"
   ]
  },
  {
   "cell_type": "code",
   "execution_count": null,
   "metadata": {},
   "outputs": [],
   "source": [
    "report << '# Parameter Summary' << m.parameter_summary()"
   ]
  },
  {
   "cell_type": "code",
   "execution_count": null,
   "metadata": {},
   "outputs": [],
   "source": [
    "report << \"# Estimation Statistics\" << m.estimation_statistics()"
   ]
  },
  {
   "cell_type": "code",
   "execution_count": null,
   "metadata": {},
   "outputs": [],
   "source": [
    "report << \"# Utility Functions\" << m.utility_functions()"
   ]
  },
  {
   "cell_type": "code",
   "execution_count": null,
   "metadata": {},
   "outputs": [],
   "source": [
    "report.save(\n",
    "    '/tmp/exampville_mode_choice.html', \n",
    "    overwrite=True, \n",
    "    metadata=m,\n",
    ")"
   ]
  }
 ],
 "metadata": {
  "kernelspec": {
   "display_name": "Python 3 (ipykernel)",
   "language": "python",
   "name": "python3"
  },
  "language_info": {
   "codemirror_mode": {
    "name": "ipython",
    "version": 3
   },
   "file_extension": ".py",
   "mimetype": "text/x-python",
   "name": "python",
   "nbconvert_exporter": "python",
   "pygments_lexer": "ipython3",
   "version": "3.9.6"
  },
  "toc": {
   "base_numbering": 1,
   "nav_menu": {},
   "number_sections": true,
   "sideBar": true,
   "skip_h1_title": false,
   "title_cell": "Table of Contents",
   "title_sidebar": "Contents",
   "toc_cell": false,
   "toc_position": {},
   "toc_section_display": true,
   "toc_window_display": false
  }
 },
 "nbformat": 4,
 "nbformat_minor": 4
}
