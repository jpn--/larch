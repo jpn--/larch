{
 "cells": [
  {
   "cell_type": "markdown",
   "metadata": {
    "pycharm": {}
   },
   "source": [
    "# 202: Exampville Mode Choice Logsums\n",
    "\n",
    "Welcome to Exampville, the best simulated town in this here part of the internet!\n",
    "\n",
    "Exampville is a demonstration provided with Larch that walks through some of the \n",
    "data and tools that a transportation planner might use when building a travel model. "
   ]
  },
  {
   "cell_type": "code",
   "execution_count": null,
   "metadata": {
    "pycharm": {}
   },
   "outputs": [],
   "source": [
    "import larch, numpy, pandas, os\n",
    "from larch import P, X"
   ]
  },
  {
   "cell_type": "code",
   "execution_count": null,
   "metadata": {
    "pycharm": {}
   },
   "outputs": [],
   "source": [
    "larch.__version__"
   ]
  },
  {
   "cell_type": "markdown",
   "metadata": {
    "pycharm": {}
   },
   "source": [
    "In this example notebook, we will walk through the creation of logsums from\n",
    "an existing tour mode choice model.  First, let's load the data files from\n",
    "our example."
   ]
  },
  {
   "cell_type": "code",
   "execution_count": null,
   "metadata": {
    "pycharm": {}
   },
   "outputs": [],
   "source": [
    "hh, pp, tour, skims = larch.example(200, ['hh', 'pp', 'tour', 'skims'])"
   ]
  },
  {
   "cell_type": "markdown",
   "metadata": {
    "pycharm": {}
   },
   "source": [
    "We'll also load the saved model from the mode choice estimation."
   ]
  },
  {
   "cell_type": "code",
   "execution_count": null,
   "metadata": {
    "pycharm": {}
   },
   "outputs": [],
   "source": [
    "exampville_mode_choice_file = larch.example(201, output_file='/tmp/exampville_mode_choice.html')\n",
    "m = larch.read_metadata(exampville_mode_choice_file)"
   ]
  },
  {
   "cell_type": "markdown",
   "metadata": {
    "pycharm": {}
   },
   "source": [
    "We'll replicate the pre-processing used in the mode choice estimation,\n",
    "to merge the household and person characteristics into the tours data,\n",
    "add the index values for the home TAZ's, filter to include only \n",
    "work tours, and merge with the level of service skims.  (If this \n",
    "pre-processing was computationally expensive, it would probably have\n",
    "been better to save the results to disk and reload them as needed,\n",
    "but for this model these commands will run almost instantaneously.)"
   ]
  },
  {
   "cell_type": "code",
   "execution_count": null,
   "metadata": {
    "pycharm": {}
   },
   "outputs": [],
   "source": [
    "raw = tour.merge(hh, on='HHID').merge(pp, on=('HHID', 'PERSONID'))\n",
    "raw[\"HOMETAZi\"] = raw[\"HOMETAZ\"] - 1\n",
    "raw[\"DTAZi\"] = raw[\"DTAZ\"] - 1\n",
    "raw = raw[raw.TOURPURP == 1]\n",
    "raw = raw.join(\n",
    "    skims.get_rc_dataframe(\n",
    "        raw.HOMETAZi, raw.DTAZi,\n",
    "    )\n",
    ")"
   ]
  },
  {
   "cell_type": "markdown",
   "metadata": {
    "pycharm": {}
   },
   "source": [
    "Then we bundle the raw data into the `larch.DataFrames` structure,\n",
    "as we did for estimation, and attach this structure to the model\n",
    "as its `dataservice`."
   ]
  },
  {
   "cell_type": "code",
   "execution_count": null,
   "metadata": {
    "pycharm": {}
   },
   "outputs": [],
   "source": [
    "# For clarity, we can define numbers as names for modes\n",
    "DA = 1\n",
    "SR = 2\n",
    "Walk = 3\n",
    "Bike = 4\n",
    "Transit = 5"
   ]
  },
  {
   "cell_type": "code",
   "execution_count": null,
   "metadata": {
    "pycharm": {}
   },
   "outputs": [],
   "source": [
    "dfs = larch.DataFrames(\n",
    "    co=raw, \n",
    "    alt_codes=[DA,SR,Walk,Bike,Transit], \n",
    "    alt_names=['DA','SR','Walk','Bike','Transit'],\n",
    "    ch_name='TOURMODE',\n",
    ")\n",
    "\n",
    "m.dataservice = dfs"
   ]
  },
  {
   "cell_type": "markdown",
   "metadata": {
    "pycharm": {}
   },
   "source": [
    "We'll also initialize a DataFrame to hold the computed logsums.\n",
    "This data will have one row for each case in our source data,\n",
    "and a column for each possible destination zone."
   ]
  },
  {
   "cell_type": "code",
   "execution_count": null,
   "metadata": {
    "pycharm": {}
   },
   "outputs": [],
   "source": [
    "logsums = pandas.DataFrame(\n",
    "    data=0.0,\n",
    "    index=raw.index, \n",
    "    columns=skims.TAZ_ID\n",
    ")"
   ]
  },
  {
   "cell_type": "markdown",
   "metadata": {
    "pycharm": {}
   },
   "source": [
    "The logsums from a Model can be computed using the `Model.logsums` method.\n",
    "However, if we want the logsums for each possible destination, we'll need\n",
    "to replace the part of our data that depends on the destination zone, \n",
    "writing in the appropriate values for each.  We can simply iterate over the\n",
    "zones, which is a little bit slow but easy to code.  This isn't a big \n",
    "deal, as generating the logsums only needs to be done once after the \n",
    "mode choice model is finalized."
   ]
  },
  {
   "cell_type": "code",
   "execution_count": null,
   "metadata": {
    "pycharm": {}
   },
   "outputs": [],
   "source": [
    "for destination_i, dtaz in enumerate(logsums.columns):\n",
    "    # Get the LOS data for this destination\n",
    "    new_data = skims.get_rc_dataframe(\n",
    "        raw.HOMETAZi, destination_i,\n",
    "    )\n",
    "    # Write this data into the model's dataservice.\n",
    "    dfs.data_co[new_data.columns] = new_data\n",
    "    # Loading this data runs the pre-processing on\n",
    "    # the dataservice, to create the arrays needed\n",
    "    # for computation.\n",
    "    m.load_data()\n",
    "    # Lastly, compute the logsums and save them\n",
    "    # to the new DataFrame.\n",
    "    logsums[dtaz] = m.logsums()\n"
   ]
  },
  {
   "cell_type": "code",
   "execution_count": null,
   "metadata": {
    "pycharm": {}
   },
   "outputs": [],
   "source": [
    "logsums.head()"
   ]
  },
  {
   "cell_type": "markdown",
   "metadata": {
    "pycharm": {}
   },
   "source": [
    "Then we can persist the logsums dataframe to disk, for use in the next\n",
    "example, where we will estimate a destination choice model."
   ]
  },
  {
   "cell_type": "code",
   "execution_count": null,
   "metadata": {
    "pycharm": {}
   },
   "outputs": [],
   "source": [
    "logsums.to_pickle('/tmp/logsums.pkl.gz')"
   ]
  }
 ],
 "metadata": {
  "kernelspec": {
   "display_name": "Python 3 (ipykernel)",
   "language": "python",
   "name": "python3"
  },
  "language_info": {
   "codemirror_mode": {
    "name": "ipython",
    "version": 3
   },
   "file_extension": ".py",
   "mimetype": "text/x-python",
   "name": "python",
   "nbconvert_exporter": "python",
   "pygments_lexer": "ipython3",
   "version": "3.9.6"
  },
  "toc": {
   "base_numbering": 1,
   "nav_menu": {},
   "number_sections": true,
   "sideBar": true,
   "skip_h1_title": false,
   "title_cell": "Table of Contents",
   "title_sidebar": "Contents",
   "toc_cell": false,
   "toc_position": {},
   "toc_section_display": true,
   "toc_window_display": false
  }
 },
 "nbformat": 4,
 "nbformat_minor": 4
}
