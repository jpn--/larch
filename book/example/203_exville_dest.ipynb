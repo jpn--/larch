{
 "cells": [
  {
   "cell_type": "markdown",
   "metadata": {},
   "source": [
    "# 203: Exampville Destination Choice\n",
    "\n",
    "Welcome to Exampville, the best simulated town in this here part of the internet!\n",
    "\n",
    "Exampville is a demonstration provided with Larch that walks through some of the \n",
    "data and tools that a transportation planner might use when building a travel model. "
   ]
  },
  {
   "cell_type": "code",
   "execution_count": null,
   "metadata": {
    "tags": [
     "remove_cell"
    ]
   },
   "outputs": [],
   "source": [
    "# TEST\n",
    "import larch.numba as lx\n",
    "from pytest import approx"
   ]
  },
  {
   "cell_type": "code",
   "execution_count": null,
   "metadata": {},
   "outputs": [],
   "source": [
    "import larch.numba as lx\n",
    "from larch import P, X"
   ]
  },
  {
   "cell_type": "markdown",
   "metadata": {},
   "source": [
    "In this example notebook, we will walk through the estimation of a tour \n",
    "destination choice model.  First, let's load the data files from\n",
    "our example."
   ]
  },
  {
   "cell_type": "code",
   "execution_count": null,
   "metadata": {},
   "outputs": [],
   "source": [
    "hh, pp, tour, skims, emp = lx.example(200, ['hh', 'pp', 'tour', 'skims', 'emp'])"
   ]
  },
  {
   "cell_type": "markdown",
   "metadata": {},
   "source": [
    "For this destination choice model, we'll want to use the mode choice\n",
    "logsums we calculated previously from the mode choice estimation,\n",
    "but we'll use these values as fixed input data instead of a modeled value.\n",
    "We can load these logsums from the file in which they were saved. \n",
    "For this example, we can indentify that file using the `larch.example` \n",
    "function, which will automatically rebuild the file if it doesn't exists.\n",
    "In typical applications, a user would generally just give the filename \n",
    "as a string and ensure manually that the file exists before loading it."
   ]
  },
  {
   "cell_type": "code",
   "execution_count": null,
   "metadata": {},
   "outputs": [],
   "source": [
    "logsums_file = lx.example(202, output_file='/tmp/logsums.zarr.zip')\n",
    "logsums = lx.DataArray.from_zarr('/tmp/logsums.zarr.zip')"
   ]
  },
  {
   "cell_type": "markdown",
   "metadata": {},
   "source": [
    "## Preprocessing"
   ]
  },
  {
   "cell_type": "markdown",
   "metadata": {},
   "source": [
    "The alternatives in\n",
    "the destinations model are much more regular than in the mode choice \n",
    "model, as every observation will have a similar set of alternatives\n",
    "and the utility function for each of those alternatives will share a \n",
    "common functional form.  We'll leverage this by using `idca` format \n",
    "arrays in our DataTree to make data management simpler.  \n",
    "\n",
    "The base array we'll start with will have two dimensions, cases and\n",
    "alternatives, anc be formed from the logsums we loaded above."
   ]
  },
  {
   "cell_type": "code",
   "execution_count": null,
   "metadata": {},
   "outputs": [],
   "source": [
    "ca = lx.Dataset(\n",
    "    {'logsum': logsums},\n",
    "    caseid='TOURID',\n",
    "    alts=skims.TAZ_ID,\n",
    ")\n",
    "ca"
   ]
  },
  {
   "cell_type": "markdown",
   "metadata": {},
   "source": [
    "For our destination choice model, we'll also want to use employment data.\n",
    "This data, as included in our example, has unique \n",
    "values only by alternative and not by caseid, so there are only\n",
    "40 unique rows.\n",
    "(This kind of structure is common for destination choice models.)"
   ]
  },
  {
   "cell_type": "code",
   "execution_count": null,
   "metadata": {},
   "outputs": [],
   "source": [
    "emp.info()"
   ]
  },
  {
   "cell_type": "markdown",
   "metadata": {},
   "source": [
    "Then we bundle all our raw data into a `DataTree` structure, \n",
    "which is used to collect the right data for estimation.  The\n",
    "Larch DataTree is a slightly augmented version of the regular\n",
    "`sharrow.DataTree`."
   ]
  },
  {
   "cell_type": "code",
   "execution_count": null,
   "metadata": {},
   "outputs": [],
   "source": [
    "tree = lx.DataTree(\n",
    "    base=ca,\n",
    "    tour=tour.rename_axis(index='TOUR_ID'),\n",
    "    hh=hh.set_index(\"HHID\"),\n",
    "    person=pp.set_index('PERSONID'),\n",
    "    emp=emp,\n",
    "    skims=lx.Dataset.from_omx(skims),\n",
    "    relationships=(\n",
    "        \"base.TAZ_ID @ emp.TAZ\",\n",
    "        \"base.TOURID -> tour.TOUR_ID\",\n",
    "        \"tour.HHID @ hh.HHID\",\n",
    "        \"tour.PERSONID @ person.PERSONID\",\n",
    "        \"hh.HOMETAZ @ skims.otaz\",\n",
    "        \"base.TAZ_ID @ skims.dtaz\"\n",
    "    ),\n",
    ")"
   ]
  },
  {
   "cell_type": "markdown",
   "metadata": {},
   "source": [
    "## Model Definition\n",
    "\n",
    "Now we can define our choice model, using data from the tree as appropriate."
   ]
  },
  {
   "cell_type": "code",
   "execution_count": null,
   "metadata": {},
   "outputs": [],
   "source": [
    "m = lx.Model(datatree=tree)\n",
    "m.title = \"Exampville Work Tour Destination Choice v1\""
   ]
  },
  {
   "cell_type": "code",
   "execution_count": null,
   "metadata": {},
   "outputs": [],
   "source": [
    "m.quantity_ca = (\n",
    "        + P.EmpRetail_HighInc * X('RETAIL_EMP * (INCOME>50000)')\n",
    "        + P.EmpNonRetail_HighInc * X('NONRETAIL_EMP') * X(\"INCOME>50000\")\n",
    "        + P.EmpRetail_LowInc * X('RETAIL_EMP') * X(\"INCOME<=50000\")\n",
    "        + P.EmpNonRetail_LowInc * X('NONRETAIL_EMP') * X(\"INCOME<=50000\")\n",
    ")\n",
    "\n",
    "m.quantity_scale = P.Theta\n"
   ]
  },
  {
   "cell_type": "code",
   "execution_count": null,
   "metadata": {},
   "outputs": [],
   "source": [
    "m.utility_ca = (\n",
    "    + P.logsum * X.logsum\n",
    "    + P.distance * X.AUTO_DIST\n",
    ")"
   ]
  },
  {
   "cell_type": "code",
   "execution_count": null,
   "metadata": {},
   "outputs": [],
   "source": [
    "m.choice_co_code = \"tour.DTAZ\""
   ]
  },
  {
   "cell_type": "code",
   "execution_count": null,
   "metadata": {},
   "outputs": [],
   "source": [
    "m.lock_values(\n",
    "    EmpRetail_HighInc=0,\n",
    "    EmpRetail_LowInc=0,\n",
    ")"
   ]
  },
  {
   "cell_type": "markdown",
   "metadata": {},
   "source": [
    "## Model Estimation"
   ]
  },
  {
   "cell_type": "code",
   "execution_count": null,
   "metadata": {},
   "outputs": [],
   "source": [
    "m.loglike()"
   ]
  },
  {
   "cell_type": "code",
   "execution_count": null,
   "metadata": {
    "tags": [
     "remove_cell"
    ]
   },
   "outputs": [],
   "source": [
    "# TEST\n",
    "assert m.loglike() == approx(-28238.336880999712)"
   ]
  },
  {
   "cell_type": "code",
   "execution_count": null,
   "metadata": {},
   "outputs": [],
   "source": [
    "m.maximize_loglike()"
   ]
  },
  {
   "cell_type": "code",
   "execution_count": null,
   "metadata": {
    "tags": [
     "remove_cell"
    ]
   },
   "outputs": [],
   "source": [
    "# TEST\n",
    "result = _\n",
    "assert result.loglike == approx(-25157.72676137825)\n",
    "assert result.success\n",
    "assert result.method == 'slsqp'\n",
    "assert result.n_cases == 7564\n",
    "assert result.iteration_number == 13\n",
    "assert result.logloss == approx(3.325981856342973)\n",
    "pd.testing.assert_series_equal(\n",
    "    result.x.sort_index(),\n",
    "    pd.Series({\n",
    "        'EmpNonRetail_HighInc': 1.3639677867685673,\n",
    "        'EmpNonRetail_LowInc': -0.8813930080108792,\n",
    "        'EmpRetail_HighInc': 0.0,\n",
    "        'EmpRetail_LowInc': 0.0,\n",
    "        'Theta': 0.7493698789904475,\n",
    "        'distance': -0.04182074282571401,\n",
    "        'logsum': 1.0208113241683572,\n",
    "    }).sort_index(),\n",
    "    rtol=1e-3,\n",
    ")"
   ]
  },
  {
   "cell_type": "code",
   "execution_count": null,
   "metadata": {},
   "outputs": [],
   "source": [
    "m.calculate_parameter_covariance()"
   ]
  },
  {
   "cell_type": "markdown",
   "metadata": {},
   "source": [
    "## Model Visualization\n",
    "\n",
    "For destination choice and similar type models, it might be beneficial to\n",
    "review the observed and modeled choices, and the relative distribution of\n",
    "these choices across different factors.  For example, we would probably want\n",
    "to see the distribution of travel distance.  The `Model` object includes\n",
    "a built-in method to create this kind of visualization."
   ]
  },
  {
   "cell_type": "code",
   "execution_count": null,
   "metadata": {},
   "outputs": [],
   "source": [
    "m.distribution_on_idca_variable('AUTO_DIST')"
   ]
  },
  {
   "cell_type": "markdown",
   "metadata": {},
   "source": [
    "The `distribution_on_idca_variable` has a variety of options,\n",
    "for example to control the number and range of the histogram bins:"
   ]
  },
  {
   "cell_type": "code",
   "execution_count": null,
   "metadata": {},
   "outputs": [],
   "source": [
    "m.distribution_on_idca_variable('AUTO_DIST', bins=40, range=(0,10))"
   ]
  },
  {
   "cell_type": "markdown",
   "metadata": {},
   "source": [
    "Alternatively, the histogram style can be swapped out for a smoothed kernel density\n",
    "function:"
   ]
  },
  {
   "cell_type": "code",
   "execution_count": null,
   "metadata": {},
   "outputs": [],
   "source": [
    "m.distribution_on_idca_variable(\n",
    "    'AUTO_DIST',\n",
    "    style='kde',\n",
    ")"
   ]
  },
  {
   "cell_type": "markdown",
   "metadata": {},
   "source": [
    "Subsets of the observations can be pulled out, to observe the \n",
    "distribution conditional on other `idco` factors, like income."
   ]
  },
  {
   "cell_type": "code",
   "execution_count": null,
   "metadata": {},
   "outputs": [],
   "source": [
    "m.distribution_on_idca_variable(\n",
    "    'AUTO_DIST',\n",
    "    xlabel=\"Distance (miles)\",\n",
    "    bins=26,\n",
    "    subselector='INCOME<10000',\n",
    "    range=(0,13),\n",
    "    header='Destination Distance, Very Low Income (<$10k) Households',\n",
    ")"
   ]
  },
  {
   "cell_type": "markdown",
   "metadata": {},
   "source": [
    "## Save and Report Model"
   ]
  },
  {
   "cell_type": "code",
   "execution_count": null,
   "metadata": {},
   "outputs": [],
   "source": [
    "report = lx.Reporter(title=m.title)"
   ]
  },
  {
   "cell_type": "code",
   "execution_count": null,
   "metadata": {},
   "outputs": [],
   "source": [
    "report << '# Parameter Summary' << m.parameter_summary()"
   ]
  },
  {
   "cell_type": "code",
   "execution_count": null,
   "metadata": {
    "tags": [
     "remove_cell"
    ]
   },
   "outputs": [],
   "source": [
    "# TEST\n",
    "assert m.parameter_summary().data.to_markdown() == '''\n",
    "|                      |   Value | Std Err   | t Stat   | Signif   |   Null Value | Constrained   |\n",
    "|:---------------------|--------:|:----------|:---------|:---------|-------------:|:--------------|\n",
    "| EmpNonRetail_HighInc |  1.36   | 0.256     | 5.32     | ***      |            0 |               |\n",
    "| EmpNonRetail_LowInc  | -0.881  | 0.0791    | -11.14   | ***      |            0 |               |\n",
    "| EmpRetail_HighInc    |  0      | NA        | NA       |          |            0 | fixed value   |\n",
    "| EmpRetail_LowInc     |  0      | NA        | NA       |          |            0 | fixed value   |\n",
    "| Theta                |  0.749  | 0.0152    | -16.45   | ***      |            1 |               |\n",
    "| distance             | -0.0418 | 0.0107    | -3.90    | ***      |            0 |               |\n",
    "| logsum               |  1.02   | 0.0317    | 32.16    | ***      |            0 |               |\n",
    "'''[1:-1]"
   ]
  },
  {
   "cell_type": "code",
   "execution_count": null,
   "metadata": {},
   "outputs": [],
   "source": [
    "report << \"# Estimation Statistics\" << m.estimation_statistics()"
   ]
  },
  {
   "cell_type": "code",
   "execution_count": null,
   "metadata": {},
   "outputs": [],
   "source": [
    "report << \"# Utility Functions\" << m.utility_functions()"
   ]
  },
  {
   "cell_type": "markdown",
   "metadata": {},
   "source": [
    "The figures shown above can also be inserted directly into reports."
   ]
  },
  {
   "cell_type": "code",
   "execution_count": null,
   "metadata": {},
   "outputs": [],
   "source": [
    "figure = m.distribution_on_idca_variable(\n",
    "    'AUTO_DIST', \n",
    "    xlabel=\"Distance (miles)\",\n",
    "    style='kde',\n",
    "    header='Destination Distance',\n",
    ")\n",
    "report << \"# Visualization\"\n",
    "report << figure"
   ]
  },
  {
   "cell_type": "code",
   "execution_count": null,
   "metadata": {},
   "outputs": [],
   "source": [
    "report.save(\n",
    "    '/tmp/exampville_dest_choice.html',\n",
    "    overwrite=True,\n",
    "    metadata=m,\n",
    ")"
   ]
  }
 ],
 "metadata": {
  "kernelspec": {
   "display_name": "Python 3 (ipykernel)",
   "language": "python",
   "name": "python3"
  },
  "language_info": {
   "codemirror_mode": {
    "name": "ipython",
    "version": 3
   },
   "file_extension": ".py",
   "mimetype": "text/x-python",
   "name": "python",
   "nbconvert_exporter": "python",
   "pygments_lexer": "ipython3",
   "version": "3.9.9"
  },
  "toc": {
   "base_numbering": 1,
   "nav_menu": {},
   "number_sections": true,
   "sideBar": true,
   "skip_h1_title": false,
   "title_cell": "Table of Contents",
   "title_sidebar": "Contents",
   "toc_cell": false,
   "toc_position": {},
   "toc_section_display": true,
   "toc_window_display": false
  }
 },
 "nbformat": 4,
 "nbformat_minor": 4
}
