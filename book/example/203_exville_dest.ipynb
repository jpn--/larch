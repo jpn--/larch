{
 "cells": [
  {
   "cell_type": "markdown",
   "metadata": {},
   "source": [
    "# 203: Exampville Destination Choice\n",
    "\n",
    "Welcome to Exampville, the best simulated town in this here part of the internet!\n",
    "\n",
    "Exampville is a demonstration provided with Larch that walks through some of the \n",
    "data and tools that a transportation planner might use when building a travel model. "
   ]
  },
  {
   "cell_type": "code",
   "execution_count": null,
   "metadata": {},
   "outputs": [],
   "source": [
    "import larch, numpy, pandas, os\n",
    "from larch import P, X\n",
    "import larch.numba as lx"
   ]
  },
  {
   "cell_type": "code",
   "execution_count": null,
   "metadata": {},
   "outputs": [],
   "source": [
    "larch.__version__"
   ]
  },
  {
   "cell_type": "markdown",
   "metadata": {},
   "source": [
    "In this example notebook, we will walk through the estimation of a tour \n",
    "destination choice model.  First, let's load the data files from\n",
    "our example."
   ]
  },
  {
   "cell_type": "code",
   "execution_count": null,
   "metadata": {},
   "outputs": [],
   "source": [
    "hh, pp, tour, skims, emp = larch.example(200, ['hh', 'pp', 'tour', 'skims', 'emp'])"
   ]
  },
  {
   "cell_type": "markdown",
   "metadata": {},
   "source": [
    "For this destination choice model, we'll want to use the mode choice\n",
    "logsums we calculated previously from the mode choice estimation,\n",
    "but we'll use these values as fixed input data instead of a modeled value.  \n",
    "We can load these logsums from the file in which they were saved. \n",
    "For this example, we can indentify that file using the `larch.example` \n",
    "function, which will automatically rebuild the file if it doesn't exists.\n",
    "In typical applications, a user would generally just give the filename \n",
    "as a string and ensure manually that the file exists before loading it."
   ]
  },
  {
   "cell_type": "code",
   "execution_count": null,
   "metadata": {},
   "outputs": [],
   "source": [
    "logsums_file = larch.example(202, output_file='/tmp/logsums.pkl.gz')\n",
    "logsums = pandas.read_pickle(logsums_file)"
   ]
  },
  {
   "cell_type": "markdown",
   "metadata": {},
   "source": [
    "## Preprocessing"
   ]
  },
  {
   "cell_type": "markdown",
   "metadata": {},
   "source": [
    "We'll replicate the pre-processing used in the mode choice estimation,\n",
    "to merge the household and person characteristics into the tours data,\n",
    "add the index values for the home TAZ's, filter to include only \n",
    "work tours, and merge with the level of service skims. (If this \n",
    "pre-processing was computationally expensive, it would probably have\n",
    "been better to save the results to disk and reload them as needed,\n",
    "but for this model these commands will run almost instantaneously.)"
   ]
  },
  {
   "cell_type": "code",
   "execution_count": null,
   "metadata": {},
   "outputs": [],
   "source": [
    "raw = tour.merge(hh, on='HHID').merge(pp, on=('HHID', 'PERSONID'))\n",
    "raw[\"HOMETAZi\"] = raw[\"HOMETAZ\"] - 1\n",
    "raw[\"DTAZi\"] = raw[\"DTAZ\"] - 1\n",
    "raw = raw[raw.TOURPURP == 1]\n",
    "raw.index.name = 'CASE_ID'\n",
    "raw"
   ]
  },
  {
   "cell_type": "markdown",
   "metadata": {},
   "source": [
    "The alternatives in\n",
    "the destinations model are much more regular than in the mode choice \n",
    "model, as every observation will have a similar set of alternatives\n",
    "and the utility function for each of those alternatives will share a \n",
    "common functional form.  We'll leverage this by using `idca` format \n",
    "to make data management simpler.  \n",
    "\n",
    "First, we'll assemble some individual variables that we'll want to use.\n",
    "We can build an array to represent the distance to each destination based\n",
    "on the `\"AUTO_DIST\"` matrix in the `skims` OMX file. "
   ]
  },
  {
   "cell_type": "code",
   "execution_count": null,
   "metadata": {},
   "outputs": [],
   "source": [
    "distance = pandas.DataFrame(\n",
    "    data=skims.AUTO_DIST[:][raw[\"HOMETAZi\"], :],\n",
    "    index=raw.index,\n",
    "    columns=skims.TAZ_ID,\n",
    ") "
   ]
  },
  {
   "cell_type": "markdown",
   "metadata": {},
   "source": [
    "This command pulls the relevant row, identified by the `\"HOMETAZi\"` column\n",
    "in the `raw` data, into each row of a new DataFrame, which has a row for each\n",
    "case and a column for each alterative. \n",
    "\n",
    "Note that the `[:]` \n",
    "inserted into the `data` argument is used to instruct the `pytables` module\n",
    "to load the entire matrix into memory, and then `numpy` indexing is used to \n",
    "actually select out the rows needed.  This is a technical limitation of\n",
    "the `pytables` module and could theoretically be a very computationally \n",
    "expensive step if the skims matrix is huge relative to the number of rows in\n",
    "the `raw` DataFrame. However, in practice a single matrix from the skims file\n",
    "is generally not that large compared to the number of observations, and this\n",
    "step can be processed quite efficiently.\n",
    "\n",
    "The logsums we previously loaded is in the same format as the `distance`, \n",
    "with a row for each case and a column for each alterative. To use the `idca` \n",
    "format, we'll reshape these data, so each is a single column \n",
    "(i.e., a `pandas.Series`), with a two-level `MultiIndex` giving case and \n",
    "alternative respectively, and then assemble these columns into a single \n",
    "DataFrame.  We can do the reshaping using the `stack` method, and we will\n",
    "make sure the resulting Series has an appropriate name using `rename`, before \n",
    "we combine them together using `pandas.concat`:"
   ]
  },
  {
   "cell_type": "code",
   "execution_count": null,
   "metadata": {},
   "outputs": [],
   "source": [
    "ca = pandas.concat([\n",
    "    distance.stack().rename(\"distance\"),\n",
    "    logsums.stack().rename(\"logsum\"), \n",
    "], axis=1)\n"
   ]
  },
  {
   "cell_type": "code",
   "execution_count": null,
   "metadata": {},
   "outputs": [],
   "source": [
    "ca = lx.Dataset(dict(\n",
    "    distance=distance.rename_axis(index='CASE_ID', columns=\"TAZ\"),\n",
    "    logsum=logsums.rename_axis(index='CASE_ID', columns=\"TAZ\"), \n",
    "    alt_names=pd.Series([f'TAZ{i}' for i in skims.TAZ_ID], index=skims.TAZ_ID).rename_axis(index='TAZ'),\n",
    "))\n",
    "ca"
   ]
  },
  {
   "cell_type": "markdown",
   "metadata": {},
   "source": [
    "For our destination choice model, we'll also want to use employment data.\n",
    "This data, as included in our example, has unique \n",
    "values only by alternative and not by caseid, so there are only\n",
    "40 unique rows.\n",
    "(This kind of structure is common for destination choice models.)"
   ]
  },
  {
   "cell_type": "code",
   "execution_count": null,
   "metadata": {},
   "outputs": [],
   "source": [
    "emp.info()"
   ]
  },
  {
   "cell_type": "markdown",
   "metadata": {},
   "source": [
    "To make this work with the computational \n",
    "arrays required for Larch, we'll need to join this to the other \n",
    "`idca` data.  Doing so is simple, because the index of the `emp` DataFrame\n",
    "is the same as the alternative id level of the `ca` MultiIndex.  You can see\n",
    "the names of the levels on the MultiIndex like this:"
   ]
  },
  {
   "cell_type": "markdown",
   "metadata": {},
   "source": [
    "Knowing the name on the alternatives portion of the `idca` data lets us \n",
    "join the employment data like this:"
   ]
  },
  {
   "cell_type": "markdown",
   "metadata": {},
   "source": [
    "Then we bundle the raw data along with this newly organized `idca` data,\n",
    "into the `larch.DataFrames` structure, which is used for estimation.\n",
    "This structure also identifies a vector of the alterative codes \n",
    "and optionally, names and choice identifiers.\n",
    "This structure can be attached to a model as its `dataservice`."
   ]
  },
  {
   "cell_type": "code",
   "execution_count": null,
   "metadata": {},
   "outputs": [],
   "source": [
    "tree = lx.DataTree(\n",
    "    base=ca.rename({'CASE_ID': '_caseid_', 'TAZ':'_altid_'}),\n",
    "    tour=tour.query(\"TOURPURP == 1\"),\n",
    "    hh=hh.set_index(\"HHID\"),\n",
    "    person=pp.set_index('PERSONID'),\n",
    "    emp=emp,\n",
    "    relationships=(\n",
    "        \"base._altid_ @ emp.TAZ\",\n",
    "        \"base._caseid_ -> tour.CASE_ID\",\n",
    "        \"tour.HHID @ hh.HHID\",\n",
    "        \"tour.PERSONID @ person.PERSONID\",\n",
    "    ),\n",
    ")\n",
    "\n",
    "tree"
   ]
  },
  {
   "cell_type": "code",
   "execution_count": null,
   "metadata": {},
   "outputs": [],
   "source": [
    "tree.root_dataset"
   ]
  },
  {
   "cell_type": "code",
   "execution_count": null,
   "metadata": {},
   "outputs": [],
   "source": [
    "# dfs = larch.DataFrames(\n",
    "#     co=raw,\n",
    "#     ca=ca,\n",
    "#     alt_codes=skims.TAZ_ID, \n",
    "#     alt_names=[f'TAZ{i}' for i in skims.TAZ_ID],\n",
    "#     ch_name='DTAZ',\n",
    "#     av=1,\n",
    "# )"
   ]
  },
  {
   "cell_type": "code",
   "execution_count": null,
   "metadata": {},
   "outputs": [],
   "source": [
    "# dfs.info(1)"
   ]
  },
  {
   "cell_type": "markdown",
   "metadata": {},
   "source": [
    "## Model Definition"
   ]
  },
  {
   "cell_type": "code",
   "execution_count": null,
   "metadata": {},
   "outputs": [],
   "source": [
    "m = lx.Model(datatree=tree)\n",
    "m.title = \"Exampville Work Tour Destination Choice v1\""
   ]
  },
  {
   "cell_type": "code",
   "execution_count": null,
   "metadata": {},
   "outputs": [],
   "source": [
    "m.quantity_ca = (\n",
    "        + P.EmpRetail_HighInc * X('RETAIL_EMP * (INCOME>50000)')\n",
    "        + P.EmpNonRetail_HighInc * X('NONRETAIL_EMP') * X(\"INCOME>50000\")\n",
    "        + P.EmpRetail_LowInc * X('RETAIL_EMP') * X(\"INCOME<=50000\")\n",
    "        + P.EmpNonRetail_LowInc * X('NONRETAIL_EMP') * X(\"INCOME<=50000\")\n",
    ")\n",
    "\n",
    "m.quantity_scale = P.Theta\n"
   ]
  },
  {
   "cell_type": "code",
   "execution_count": null,
   "metadata": {},
   "outputs": [],
   "source": [
    "m.utility_ca = (\n",
    "    + P.logsum * X.logsum\n",
    "    + P.distance * X.distance\n",
    ")"
   ]
  },
  {
   "cell_type": "code",
   "execution_count": null,
   "metadata": {},
   "outputs": [],
   "source": [
    "m.lock_values(\n",
    "    EmpRetail_HighInc=0,\n",
    "    EmpRetail_LowInc=0,\n",
    ")"
   ]
  },
  {
   "cell_type": "markdown",
   "metadata": {},
   "source": [
    "## Model Estimation"
   ]
  },
  {
   "cell_type": "code",
   "execution_count": null,
   "metadata": {},
   "outputs": [],
   "source": [
    "m.load_data()"
   ]
  },
  {
   "cell_type": "code",
   "execution_count": null,
   "metadata": {},
   "outputs": [],
   "source": [
    "m.loglike()"
   ]
  },
  {
   "cell_type": "code",
   "execution_count": null,
   "metadata": {},
   "outputs": [],
   "source": [
    "m.maximize_loglike()"
   ]
  },
  {
   "cell_type": "code",
   "execution_count": null,
   "metadata": {},
   "outputs": [],
   "source": [
    "m.calculate_parameter_covariance()"
   ]
  },
  {
   "cell_type": "markdown",
   "metadata": {},
   "source": [
    "## Model Visualization\n",
    "\n",
    "For destination choice and similar type models, it might be beneficial to\n",
    "review the observed and modeled choices, and the relative distribution of\n",
    "these choices across different factors.  For example, we would probably want\n",
    "to see the distribution of travel distance.  The `Model` object includes\n",
    "a built-in method to create this kind of visualization."
   ]
  },
  {
   "cell_type": "code",
   "execution_count": null,
   "metadata": {},
   "outputs": [],
   "source": [
    "m.distribution_on_idca_variable('distance')"
   ]
  },
  {
   "cell_type": "markdown",
   "metadata": {},
   "source": [
    "The `distribution_on_idca_variable` has a variety of options,\n",
    "for example to control the number and range of the histogram bins:"
   ]
  },
  {
   "cell_type": "code",
   "execution_count": null,
   "metadata": {},
   "outputs": [],
   "source": [
    "m.distribution_on_idca_variable('distance', bins=40, range=(0,10))"
   ]
  },
  {
   "cell_type": "markdown",
   "metadata": {},
   "source": [
    "Alternatively, the histogram style can be swapped out for a smoothed kernel density\n",
    "function:"
   ]
  },
  {
   "cell_type": "code",
   "execution_count": null,
   "metadata": {},
   "outputs": [],
   "source": [
    "m.distribution_on_idca_variable(\n",
    "    'distance',\n",
    "    style='kde',\n",
    ")"
   ]
  },
  {
   "cell_type": "markdown",
   "metadata": {},
   "source": [
    "Subsets of the observations can be pulled out, to observe the \n",
    "distribution conditional on other `idco` factors, like income."
   ]
  },
  {
   "cell_type": "code",
   "execution_count": null,
   "metadata": {},
   "outputs": [],
   "source": [
    "m.distribution_on_idca_variable(\n",
    "    'distance',\n",
    "    xlabel=\"Distance (miles)\",\n",
    "    bins=26,\n",
    "    subselector='INCOME<10000',\n",
    "    range=(0,13),\n",
    "    header='Destination Distance, Very Low Income (<$10k) Households',\n",
    ")"
   ]
  },
  {
   "cell_type": "markdown",
   "metadata": {},
   "source": [
    "## Save and Report Model"
   ]
  },
  {
   "cell_type": "code",
   "execution_count": null,
   "metadata": {},
   "outputs": [],
   "source": [
    "report = larch.Reporter(title=m.title)"
   ]
  },
  {
   "cell_type": "code",
   "execution_count": null,
   "metadata": {},
   "outputs": [],
   "source": [
    "report << '# Parameter Summary' << m.parameter_summary()"
   ]
  },
  {
   "cell_type": "code",
   "execution_count": null,
   "metadata": {},
   "outputs": [],
   "source": [
    "report << \"# Estimation Statistics\" << m.estimation_statistics()"
   ]
  },
  {
   "cell_type": "code",
   "execution_count": null,
   "metadata": {},
   "outputs": [],
   "source": [
    "report << \"# Utility Functions\" << m.utility_functions()"
   ]
  },
  {
   "cell_type": "markdown",
   "metadata": {},
   "source": [
    "The figures shown above can also be inserted directly into reports."
   ]
  },
  {
   "cell_type": "code",
   "execution_count": null,
   "metadata": {},
   "outputs": [],
   "source": [
    "figure = m.distribution_on_idca_variable(\n",
    "    'distance', \n",
    "    xlabel=\"Distance (miles)\",\n",
    "    style='kde',\n",
    "    header='Destination Distance',\n",
    ")\n",
    "report << \"# Visualization\"\n",
    "report << figure"
   ]
  },
  {
   "cell_type": "code",
   "execution_count": null,
   "metadata": {},
   "outputs": [],
   "source": [
    "report.save(\n",
    "    '/tmp/exampville_dest_choice.html',\n",
    "    overwrite=True,\n",
    "    metadata=m,\n",
    ")"
   ]
  }
 ],
 "metadata": {
  "kernelspec": {
   "display_name": "Python 3 (ipykernel)",
   "language": "python",
   "name": "python3"
  },
  "language_info": {
   "codemirror_mode": {
    "name": "ipython",
    "version": 3
   },
   "file_extension": ".py",
   "mimetype": "text/x-python",
   "name": "python",
   "nbconvert_exporter": "python",
   "pygments_lexer": "ipython3",
   "version": "3.10.2"
  },
  "toc": {
   "base_numbering": 1,
   "nav_menu": {},
   "number_sections": true,
   "sideBar": true,
   "skip_h1_title": false,
   "title_cell": "Table of Contents",
   "title_sidebar": "Contents",
   "toc_cell": false,
   "toc_position": {},
   "toc_section_display": true,
   "toc_window_display": false
  }
 },
 "nbformat": 4,
 "nbformat_minor": 4
}
