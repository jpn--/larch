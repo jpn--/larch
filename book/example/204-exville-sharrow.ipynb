{
 "cells": [
  {
   "cell_type": "markdown",
   "id": "b0623392-2e9f-4ae3-bc64-80dafb9c6c18",
   "metadata": {
    "tags": []
   },
   "source": [
    "# Experimental\n",
    "\n",
    "This notebook demostrates the experimental next-generation Larch model,\n",
    "based on xarray data formats and the new numba choice model back end."
   ]
  },
  {
   "cell_type": "code",
   "execution_count": 1,
   "id": "1535dbe8",
   "metadata": {
    "ExecuteTime": {
     "end_time": "2021-06-30T14:36:35.686700Z",
     "start_time": "2021-06-30T14:36:32.047039Z"
    }
   },
   "outputs": [
    {
     "name": "stderr",
     "output_type": "stream",
     "text": [
      "/Users/jeffnewman/LocalGit/sharrow_pro/sharrow_pro/announce.py:4: ExtremelyDangerousMission: \n",
      "\n",
      "  good_news_everyone( ### sharrow advanced features are available ### )\n",
      "/Users/jeffnewman/LocalGit/larch/larch/numba/model.py:20: UserWarning: \n",
      "\n",
      "### larch.numba is experimental, and not feature-complete ###\n",
      " the first time you import on a new system, this package will\n",
      " compile optimized binaries for your machine, which may take \n",
      " a little while, please be patient \n",
      "\n",
      "  warnings.warn( ### EXPERIMENTAL ### )\n",
      "OMP: Info #271: omp_set_nested routine deprecated, please use omp_set_max_active_levels instead.\n"
     ]
    }
   ],
   "source": [
    "import larch.numba as lx\n",
    "from larch import P, X"
   ]
  },
  {
   "cell_type": "code",
   "execution_count": 2,
   "id": "19f92472",
   "metadata": {
    "ExecuteTime": {
     "end_time": "2021-06-30T14:36:36.061785Z",
     "start_time": "2021-06-30T14:36:35.689257Z"
    }
   },
   "outputs": [],
   "source": [
    "pool = lx.examples.EXAMPVILLE('datapool', cache_dir=\"_sharrow_cache_\")"
   ]
  },
  {
   "cell_type": "code",
   "execution_count": 3,
   "id": "bde88079-2d88-427f-91c5-2ed143669e2c",
   "metadata": {},
   "outputs": [
    {
     "data": {
      "text/plain": [
       "<larch.dataset.DataPool>\n",
       " subspaces: hh, pp, od, do"
      ]
     },
     "execution_count": 3,
     "metadata": {},
     "output_type": "execute_result"
    }
   ],
   "source": [
    "pool"
   ]
  },
  {
   "cell_type": "code",
   "execution_count": 4,
   "id": "342c62e4",
   "metadata": {
    "ExecuteTime": {
     "end_time": "2021-06-30T14:36:36.065808Z",
     "start_time": "2021-06-30T14:36:36.063882Z"
    }
   },
   "outputs": [],
   "source": [
    "# For clarity, we can define numbers as names for modes\n",
    "DA = 1\n",
    "SR = 2\n",
    "Walk = 3\n",
    "Bike = 4\n",
    "Transit = 5"
   ]
  },
  {
   "cell_type": "code",
   "execution_count": 5,
   "id": "4a5a3028",
   "metadata": {
    "ExecuteTime": {
     "end_time": "2021-06-30T14:36:36.071977Z",
     "start_time": "2021-06-30T14:36:36.067914Z"
    }
   },
   "outputs": [],
   "source": [
    "m = lx.Model(datapool=pool)\n",
    "m.title = \"Exampville Work Tour Mode Choice v1\""
   ]
  },
  {
   "cell_type": "code",
   "execution_count": 6,
   "id": "82151958",
   "metadata": {
    "ExecuteTime": {
     "end_time": "2021-06-30T14:36:36.078515Z",
     "start_time": "2021-06-30T14:36:36.073463Z"
    }
   },
   "outputs": [],
   "source": [
    "m.utility_co[DA] = (\n",
    "        + P.InVehTime * X(\"od.AUTO_TIME + do.AUTO_TIME\")\n",
    "        + P.Cost * X(\"od.AUTO_COST + do.AUTO_COST\") # dollars per mile\n",
    ")\n",
    "\n",
    "m.utility_co[SR] = (\n",
    "        + P.ASC_SR\n",
    "        + P.InVehTime * X(\"od.AUTO_TIME + do.AUTO_TIME\")\n",
    "        + P.Cost * X(\"od.AUTO_COST + do.AUTO_COST\") * 0.5 # dollars per mile, half share\n",
    "        + P(\"LogIncome:SR\") * X(\"log(INCOME)\")\n",
    ")\n",
    "\n",
    "m.utility_co[Walk] = (\n",
    "        + P.ASC_Walk\n",
    "        + P.NonMotorTime * X(\"od.WALK_TIME + do.WALK_TIME\")\n",
    "        + P(\"LogIncome:Walk\") * X(\"log(INCOME)\")\n",
    ")\n",
    "\n",
    "m.utility_co[Bike] = (\n",
    "        + P.ASC_Bike\n",
    "        + P.NonMotorTime * X(\"od.BIKE_TIME + do.BIKE_TIME\")\n",
    "        + P(\"LogIncome:Bike\") * X(\"log(INCOME)\")\n",
    ")\n",
    "\n",
    "m.utility_co[Transit] = (\n",
    "        + P.ASC_Transit\n",
    "        + P.InVehTime * X(\"od.TRANSIT_IVTT + do.TRANSIT_IVTT\")\n",
    "        + P.OutVehTime * X(\"od.TRANSIT_OVTT + do.TRANSIT_OVTT\")\n",
    "        + P.Cost * X(\"od.TRANSIT_FARE + do.TRANSIT_FARE\")\n",
    "        + P(\"LogIncome:Transit\") * X('log(INCOME)')\n",
    ")"
   ]
  },
  {
   "cell_type": "code",
   "execution_count": 7,
   "id": "2f73f060",
   "metadata": {
    "ExecuteTime": {
     "end_time": "2021-06-30T14:36:36.310882Z",
     "start_time": "2021-06-30T14:36:36.080079Z"
    }
   },
   "outputs": [
    {
     "data": {
      "text/html": [
       "<div xmlns=\"http://www.w3.org/2000/svg\"><svg width=\"477pt\" height=\"276pt\" viewBox=\"0.00 0.00 477.00 276.00\">\n",
       "<g id=\"graph0\" class=\"graph\" transform=\"scale(1 1) rotate(0) translate(4 272)\">\n",
       "<polygon fill=\"white\" stroke=\"transparent\" points=\"-4,4 -4,-272 473,-272 473,4 -4,4\"></polygon>\n",
       "<g id=\"clust1\" class=\"cluster\">\n",
       "<title>cluster_elemental</title>\n",
       "<path fill=\"lightgrey\" stroke=\"white\" d=\"M20,-8C20,-8 449,-8 449,-8 455,-8 461,-14 461,-20 461,-20 461,-48 461,-48 461,-54 455,-60 449,-60 449,-60 20,-60 20,-60 14,-60 8,-54 8,-48 8,-48 8,-20 8,-20 8,-14 14,-8 20,-8\"></path>\n",
       "</g>\n",
       "\n",
       "<g id=\"node1\" class=\"node\">\n",
       "<title>0</title>\n",
       "<polygon fill=\"none\" stroke=\"black\" points=\"169,-244.44 196,-232 223,-244.44 222.97,-264.56 169.03,-264.56 169,-244.44\"></polygon>\n",
       "<text text-anchor=\"middle\" x=\"196\" y=\"-246.3\" font-family=\"Times,serif\" font-size=\"14.00\">0</text>\n",
       "</g>\n",
       "\n",
       "<g id=\"node8\" class=\"node\">\n",
       "<title>7</title>\n",
       "<path fill=\"none\" stroke=\"black\" d=\"M177.5,-124C177.5,-124 112.5,-124 112.5,-124 106.5,-124 100.5,-118 100.5,-112 100.5,-112 100.5,-100 100.5,-100 100.5,-94 106.5,-88 112.5,-88 112.5,-88 177.5,-88 177.5,-88 183.5,-88 189.5,-94 189.5,-100 189.5,-100 189.5,-112 189.5,-112 189.5,-118 183.5,-124 177.5,-124\"></path>\n",
       "<text text-anchor=\"start\" x=\"108.5\" y=\"-107.3\" font-family=\"Times,serif\" font-size=\"9.00\" fill=\"#999999\">(7) </text>\n",
       "<text text-anchor=\"start\" x=\"121.5\" y=\"-107.3\" font-family=\"Times,serif\" font-size=\"14.00\">NonMotor</text>\n",
       "<text text-anchor=\"start\" x=\"118.5\" y=\"-97.3\" font-family=\"Times,serif\" font-style=\"italic\" font-size=\"9.00\" fill=\"#999999\">Mu:NonMotor</text>\n",
       "</g>\n",
       "\n",
       "<g id=\"edge1\" class=\"edge\">\n",
       "<title>0-&gt;7</title>\n",
       "<path fill=\"none\" stroke=\"black\" d=\"M190.73,-234.34C182.27,-210.76 165.49,-164.04 154.78,-134.22\"></path>\n",
       "<polygon fill=\"black\" stroke=\"black\" points=\"157.94,-132.67 151.26,-124.44 151.35,-135.04 157.94,-132.67\"></polygon>\n",
       "</g>\n",
       "\n",
       "<g id=\"node9\" class=\"node\">\n",
       "<title>8</title>\n",
       "<path fill=\"none\" stroke=\"black\" d=\"M266,-196C266,-196 226,-196 226,-196 220,-196 214,-190 214,-184 214,-184 214,-172 214,-172 214,-166 220,-160 226,-160 226,-160 266,-160 266,-160 272,-160 278,-166 278,-172 278,-172 278,-184 278,-184 278,-190 272,-196 266,-196\"></path>\n",
       "<text text-anchor=\"start\" x=\"222\" y=\"-179.3\" font-family=\"Times,serif\" font-size=\"9.00\" fill=\"#999999\">(8) </text>\n",
       "<text text-anchor=\"start\" x=\"235\" y=\"-179.3\" font-family=\"Times,serif\" font-size=\"14.00\">Motor</text>\n",
       "<text text-anchor=\"start\" x=\"227\" y=\"-169.3\" font-family=\"Times,serif\" font-style=\"italic\" font-size=\"9.00\" fill=\"#999999\">Mu:Motor</text>\n",
       "</g>\n",
       "\n",
       "<g id=\"edge2\" class=\"edge\">\n",
       "<title>0-&gt;8</title>\n",
       "<path fill=\"none\" stroke=\"black\" d=\"M205.17,-236.16C211.49,-227.32 220.1,-215.26 227.78,-204.51\"></path>\n",
       "<polygon fill=\"black\" stroke=\"black\" points=\"230.72,-206.41 233.68,-196.24 225.02,-202.34 230.72,-206.41\"></polygon>\n",
       "</g>\n",
       "\n",
       "<g id=\"node2\" class=\"node\">\n",
       "<title>1</title>\n",
       "<ellipse fill=\"white\" stroke=\"black\" cx=\"341\" cy=\"-34\" rx=\"32.49\" ry=\"18\"></ellipse>\n",
       "<text text-anchor=\"start\" x=\"324\" y=\"-31.3\" font-family=\"Times,serif\" font-size=\"9.00\" fill=\"#999999\">(1) </text>\n",
       "<text text-anchor=\"start\" x=\"337\" y=\"-31.3\" font-family=\"Times,serif\" font-size=\"14.00\">DA</text>\n",
       "</g>\n",
       "\n",
       "<g id=\"node3\" class=\"node\">\n",
       "<title>2</title>\n",
       "<ellipse fill=\"white\" stroke=\"black\" cx=\"422\" cy=\"-34\" rx=\"30.59\" ry=\"18\"></ellipse>\n",
       "<text text-anchor=\"start\" x=\"406.5\" y=\"-31.3\" font-family=\"Times,serif\" font-size=\"9.00\" fill=\"#999999\">(2) </text>\n",
       "<text text-anchor=\"start\" x=\"419.5\" y=\"-31.3\" font-family=\"Times,serif\" font-size=\"14.00\">SR</text>\n",
       "</g>\n",
       "\n",
       "<g id=\"node4\" class=\"node\">\n",
       "<title>3</title>\n",
       "<ellipse fill=\"white\" stroke=\"black\" cx=\"145\" cy=\"-34\" rx=\"38.19\" ry=\"18\"></ellipse>\n",
       "<text text-anchor=\"start\" x=\"123.5\" y=\"-31.3\" font-family=\"Times,serif\" font-size=\"9.00\" fill=\"#999999\">(3) </text>\n",
       "<text text-anchor=\"start\" x=\"136.5\" y=\"-31.3\" font-family=\"Times,serif\" font-size=\"14.00\">Walk</text>\n",
       "</g>\n",
       "\n",
       "<g id=\"node5\" class=\"node\">\n",
       "<title>4</title>\n",
       "<ellipse fill=\"white\" stroke=\"black\" cx=\"52\" cy=\"-34\" rx=\"36.29\" ry=\"18\"></ellipse>\n",
       "<text text-anchor=\"start\" x=\"32\" y=\"-31.3\" font-family=\"Times,serif\" font-size=\"9.00\" fill=\"#999999\">(4) </text>\n",
       "<text text-anchor=\"start\" x=\"45\" y=\"-31.3\" font-family=\"Times,serif\" font-size=\"14.00\">Bike</text>\n",
       "</g>\n",
       "\n",
       "<g id=\"node6\" class=\"node\">\n",
       "<title>5</title>\n",
       "<ellipse fill=\"white\" stroke=\"black\" cx=\"246\" cy=\"-34\" rx=\"44.69\" ry=\"18\"></ellipse>\n",
       "<text text-anchor=\"start\" x=\"219.5\" y=\"-31.3\" font-family=\"Times,serif\" font-size=\"9.00\" fill=\"#999999\">(5) </text>\n",
       "<text text-anchor=\"start\" x=\"232.5\" y=\"-31.3\" font-family=\"Times,serif\" font-size=\"14.00\">Transit</text>\n",
       "</g>\n",
       "\n",
       "<g id=\"node7\" class=\"node\">\n",
       "<title>6</title>\n",
       "<path fill=\"none\" stroke=\"black\" d=\"M356,-124C356,-124 326,-124 326,-124 320,-124 314,-118 314,-112 314,-112 314,-100 314,-100 314,-94 320,-88 326,-88 326,-88 356,-88 356,-88 362,-88 368,-94 368,-100 368,-100 368,-112 368,-112 368,-118 362,-124 356,-124\"></path>\n",
       "<text text-anchor=\"start\" x=\"324\" y=\"-107.3\" font-family=\"Times,serif\" font-size=\"9.00\" fill=\"#999999\">(6) </text>\n",
       "<text text-anchor=\"start\" x=\"337\" y=\"-107.3\" font-family=\"Times,serif\" font-size=\"14.00\">Car</text>\n",
       "<text text-anchor=\"start\" x=\"326.5\" y=\"-97.3\" font-family=\"Times,serif\" font-style=\"italic\" font-size=\"9.00\" fill=\"#999999\">Mu:Car</text>\n",
       "</g>\n",
       "\n",
       "<g id=\"edge3\" class=\"edge\">\n",
       "<title>6-&gt;1</title>\n",
       "<path fill=\"none\" stroke=\"black\" d=\"M341,-87.7C341,-79.98 341,-70.71 341,-62.11\"></path>\n",
       "<polygon fill=\"black\" stroke=\"black\" points=\"344.5,-62.1 341,-52.1 337.5,-62.1 344.5,-62.1\"></polygon>\n",
       "</g>\n",
       "\n",
       "<g id=\"edge4\" class=\"edge\">\n",
       "<title>6-&gt;2</title>\n",
       "<path fill=\"none\" stroke=\"black\" d=\"M361.02,-87.7C372.14,-78.09 386.04,-66.07 397.77,-55.94\"></path>\n",
       "<polygon fill=\"black\" stroke=\"black\" points=\"400.2,-58.47 405.48,-49.28 395.62,-53.17 400.2,-58.47\"></polygon>\n",
       "</g>\n",
       "\n",
       "<g id=\"edge5\" class=\"edge\">\n",
       "<title>7-&gt;3</title>\n",
       "<path fill=\"none\" stroke=\"black\" d=\"M145,-87.7C145,-79.98 145,-70.71 145,-62.11\"></path>\n",
       "<polygon fill=\"black\" stroke=\"black\" points=\"148.5,-62.1 145,-52.1 141.5,-62.1 148.5,-62.1\"></polygon>\n",
       "</g>\n",
       "\n",
       "<g id=\"edge6\" class=\"edge\">\n",
       "<title>7-&gt;4</title>\n",
       "<path fill=\"none\" stroke=\"black\" d=\"M122.01,-87.7C109.09,-77.97 92.89,-65.78 79.33,-55.57\"></path>\n",
       "<polygon fill=\"black\" stroke=\"black\" points=\"81.37,-52.73 71.27,-49.51 77.16,-58.32 81.37,-52.73\"></polygon>\n",
       "</g>\n",
       "\n",
       "<g id=\"edge8\" class=\"edge\">\n",
       "<title>8-&gt;5</title>\n",
       "<path fill=\"none\" stroke=\"black\" d=\"M246,-159.87C246,-135.67 246,-91.21 246,-62.39\"></path>\n",
       "<polygon fill=\"black\" stroke=\"black\" points=\"249.5,-62.19 246,-52.19 242.5,-62.19 249.5,-62.19\"></polygon>\n",
       "</g>\n",
       "\n",
       "<g id=\"edge7\" class=\"edge\">\n",
       "<title>8-&gt;6</title>\n",
       "<path fill=\"none\" stroke=\"black\" d=\"M269.48,-159.7C281.56,-150.8 296.45,-139.82 309.52,-130.2\"></path>\n",
       "<polygon fill=\"black\" stroke=\"black\" points=\"311.81,-132.85 317.79,-124.1 307.66,-127.22 311.81,-132.85\"></polygon>\n",
       "</g>\n",
       "</g>\n",
       "</svg></div>"
      ],
      "text/plain": [
       "<larch.model.tree.NestingTree at 0x13847f8e0>"
      ]
     },
     "execution_count": 7,
     "metadata": {},
     "output_type": "execute_result"
    }
   ],
   "source": [
    "Car = m.graph.new_node(parameter='Mu:Car', children=[DA,SR], name='Car')\n",
    "NonMotor = m.graph.new_node(parameter='Mu:NonMotor', children=[Walk,Bike], name='NonMotor')\n",
    "Motor = m.graph.new_node(parameter='Mu:Motor', children=[Car,Transit], name='Motor')\n",
    "m.graph"
   ]
  },
  {
   "cell_type": "code",
   "execution_count": 8,
   "id": "d74e9b39",
   "metadata": {
    "ExecuteTime": {
     "end_time": "2021-06-30T14:36:36.315261Z",
     "start_time": "2021-06-30T14:36:36.312901Z"
    }
   },
   "outputs": [],
   "source": [
    "m.choice_co_code = 'TOURMODE'\n",
    "\n",
    "m.availability_co_vars = {\n",
    "    DA: 'AGE >= 16',\n",
    "    SR: '1',\n",
    "    Walk: 'WALK_TIME < 60',\n",
    "    Bike: 'BIKE_TIME < 60',\n",
    "    Transit: 'TRANSIT_FARE>0',\n",
    "}\n"
   ]
  },
  {
   "cell_type": "code",
   "execution_count": 9,
   "id": "c73d117a",
   "metadata": {
    "ExecuteTime": {
     "end_time": "2021-06-30T14:36:36.321564Z",
     "start_time": "2021-06-30T14:36:36.317980Z"
    }
   },
   "outputs": [
    {
     "data": {
      "text/html": [
       "<div><table style=\"margin-top:1px;\"><tr><th>key</th><th style=\"text-align:left;\">value</th></tr><tr><td>co</td><td style=\"text-align:left;\"><pre>['log(INCOME)',\n",
       " 'od.AUTO_COST + do.AUTO_COST',\n",
       " 'od.AUTO_TIME + do.AUTO_TIME',\n",
       " 'od.BIKE_TIME + do.BIKE_TIME',\n",
       " 'od.TRANSIT_FARE + do.TRANSIT_FARE',\n",
       " 'od.TRANSIT_IVTT + do.TRANSIT_IVTT',\n",
       " 'od.TRANSIT_OVTT + do.TRANSIT_OVTT',\n",
       " 'od.WALK_TIME + do.WALK_TIME']</pre></td></tr><tr><td>choice_co_code</td><td style=\"text-align:left;\">'TOURMODE'</td></tr><tr><td>avail_co</td><td style=\"text-align:left;\"><pre>{1: 'AGE &gt;= 16',\n",
       " 2: '1',\n",
       " 3: 'WALK_TIME &lt; 60',\n",
       " 4: 'BIKE_TIME &lt; 60',\n",
       " 5: 'TRANSIT_FARE&gt;0'}</pre></td></tr></table></div>"
      ],
      "text/plain": [
       "┣             co: ['log(INCOME)',\n",
       "┃                  'od.AUTO_COST + do.AUTO_COST',\n",
       "┃                  'od.AUTO_TIME + do.AUTO_TIME',\n",
       "┃                  'od.BIKE_TIME + do.BIKE_TIME',\n",
       "┃                  'od.TRANSIT_FARE + do.TRANSIT_FARE',\n",
       "┃                  'od.TRANSIT_IVTT + do.TRANSIT_IVTT',\n",
       "┃                  'od.TRANSIT_OVTT + do.TRANSIT_OVTT',\n",
       "┃                  'od.WALK_TIME + do.WALK_TIME']\n",
       "┣ choice_co_code: 'TOURMODE'\n",
       "┣       avail_co: {1: 'AGE >= 16',\n",
       "┃                  2: '1',\n",
       "┃                  3: 'WALK_TIME < 60',\n",
       "┃                  4: 'BIKE_TIME < 60',\n",
       "┃                  5: 'TRANSIT_FARE>0'}"
      ]
     },
     "execution_count": 9,
     "metadata": {},
     "output_type": "execute_result"
    }
   ],
   "source": [
    "m.required_data()"
   ]
  },
  {
   "cell_type": "markdown",
   "id": "98fe0852-b2cf-48b7-825e-98f21f314c8e",
   "metadata": {},
   "source": [
    "The model is connected to a data pool to be used for estimation.  The \n",
    "first time we call the `loglike` function, it takes a few seconds to\n",
    "compile and run."
   ]
  },
  {
   "cell_type": "code",
   "execution_count": 10,
   "id": "5257a298",
   "metadata": {
    "ExecuteTime": {
     "end_time": "2021-06-30T14:36:46.307904Z",
     "start_time": "2021-06-30T14:36:39.084613Z"
    }
   },
   "outputs": [
    {
     "name": "stdout",
     "output_type": "stream",
     "text": [
      "CPU times: user 30.5 s, sys: 1.74 s, total: 32.2 s\n",
      "Wall time: 7.42 s\n"
     ]
    },
    {
     "data": {
      "text/plain": [
       "-28846.81581153095"
      ]
     },
     "execution_count": 10,
     "metadata": {},
     "output_type": "execute_result"
    }
   ],
   "source": [
    "%time m.loglike() # this take a few seconds on initial run"
   ]
  },
  {
   "cell_type": "code",
   "execution_count": 11,
   "id": "6acd8f49",
   "metadata": {
    "ExecuteTime": {
     "end_time": "2021-06-30T14:37:11.126257Z",
     "start_time": "2021-06-30T14:37:11.117951Z"
    }
   },
   "outputs": [
    {
     "name": "stdout",
     "output_type": "stream",
     "text": [
      "CPU times: user 46.9 ms, sys: 3.61 ms, total: 50.6 ms\n",
      "Wall time: 4.56 ms\n"
     ]
    },
    {
     "data": {
      "text/plain": [
       "-28846.81581153095"
      ]
     },
     "execution_count": 11,
     "metadata": {},
     "output_type": "execute_result"
    }
   ],
   "source": [
    "%time m.loglike() # but only milliseconds on re-run"
   ]
  },
  {
   "cell_type": "code",
   "execution_count": 12,
   "id": "0e54f6b8",
   "metadata": {
    "ExecuteTime": {
     "end_time": "2021-06-30T14:37:34.329216Z",
     "start_time": "2021-06-30T14:37:34.282030Z"
    }
   },
   "outputs": [
    {
     "name": "stdout",
     "output_type": "stream",
     "text": [
      "CPU times: user 453 ms, sys: 15 ms, total: 468 ms\n",
      "Wall time: 43.2 ms\n"
     ]
    },
    {
     "data": {
      "text/plain": [
       "array([-5.029350e+03, -2.692350e+03, -1.721100e+03, -2.211183e+03,  1.670510e+04,  1.269521e+05, -5.506872e+04,\n",
       "       -3.030432e+04, -1.933050e+04, -2.412038e+04,  5.825186e+03,  2.928708e+02, -3.319736e+03, -3.471825e+05,\n",
       "       -2.262344e+05])"
      ]
     },
     "execution_count": 12,
     "metadata": {},
     "output_type": "execute_result"
    }
   ],
   "source": [
    "%time m.d_loglike()"
   ]
  },
  {
   "cell_type": "code",
   "execution_count": 14,
   "id": "debb930a",
   "metadata": {
    "ExecuteTime": {
     "end_time": "2021-06-30T14:37:38.595684Z",
     "start_time": "2021-06-30T14:37:38.587889Z"
    }
   },
   "outputs": [],
   "source": [
    "m.set_cap(30)"
   ]
  },
  {
   "cell_type": "markdown",
   "id": "06681a68-8c3e-4298-b4cc-44bc9eb315e8",
   "metadata": {},
   "source": [
    "Other than the compile time, the optimization function now runs very fast."
   ]
  },
  {
   "cell_type": "code",
   "execution_count": 15,
   "id": "a6dc33f2",
   "metadata": {
    "ExecuteTime": {
     "end_time": "2021-06-30T14:37:42.553375Z",
     "start_time": "2021-06-30T14:37:40.993175Z"
    }
   },
   "outputs": [
    {
     "data": {
      "text/html": [
       "<h3>Iteration 033 [Optimization terminated successfully] </h3>"
      ],
      "text/plain": [
       "<IPython.core.display.HTML object>"
      ]
     },
     "metadata": {},
     "output_type": "display_data"
    },
    {
     "data": {
      "text/html": [
       "<p>Best LL = -8047.006193925807</p>"
      ],
      "text/plain": [
       "<IPython.core.display.HTML object>"
      ]
     },
     "metadata": {},
     "output_type": "display_data"
    },
    {
     "data": {
      "text/html": [
       "<div>\n",
       "<style scoped>\n",
       "    .dataframe tbody tr th:only-of-type {\n",
       "        vertical-align: middle;\n",
       "    }\n",
       "\n",
       "    .dataframe tbody tr th {\n",
       "        vertical-align: top;\n",
       "    }\n",
       "\n",
       "    .dataframe thead th {\n",
       "        text-align: right;\n",
       "    }\n",
       "</style>\n",
       "<table border=\"1\" class=\"dataframe\">\n",
       "  <thead>\n",
       "    <tr style=\"text-align: right;\">\n",
       "      <th></th>\n",
       "      <th>value</th>\n",
       "      <th>initvalue</th>\n",
       "      <th>nullvalue</th>\n",
       "      <th>minimum</th>\n",
       "      <th>maximum</th>\n",
       "      <th>holdfast</th>\n",
       "      <th>note</th>\n",
       "      <th>best</th>\n",
       "    </tr>\n",
       "  </thead>\n",
       "  <tbody>\n",
       "    <tr>\n",
       "      <th>ASC_Bike</th>\n",
       "      <td>1.020781</td>\n",
       "      <td>0.0</td>\n",
       "      <td>0.0</td>\n",
       "      <td>-30.000</td>\n",
       "      <td>30.0</td>\n",
       "      <td>0</td>\n",
       "      <td></td>\n",
       "      <td>1.020781</td>\n",
       "    </tr>\n",
       "    <tr>\n",
       "      <th>ASC_SR</th>\n",
       "      <td>2.989585</td>\n",
       "      <td>0.0</td>\n",
       "      <td>0.0</td>\n",
       "      <td>-30.000</td>\n",
       "      <td>30.0</td>\n",
       "      <td>0</td>\n",
       "      <td></td>\n",
       "      <td>2.989585</td>\n",
       "    </tr>\n",
       "    <tr>\n",
       "      <th>ASC_Transit</th>\n",
       "      <td>8.508747</td>\n",
       "      <td>0.0</td>\n",
       "      <td>0.0</td>\n",
       "      <td>-30.000</td>\n",
       "      <td>30.0</td>\n",
       "      <td>0</td>\n",
       "      <td></td>\n",
       "      <td>8.508747</td>\n",
       "    </tr>\n",
       "    <tr>\n",
       "      <th>ASC_Walk</th>\n",
       "      <td>7.473492</td>\n",
       "      <td>0.0</td>\n",
       "      <td>0.0</td>\n",
       "      <td>-30.000</td>\n",
       "      <td>30.0</td>\n",
       "      <td>0</td>\n",
       "      <td></td>\n",
       "      <td>7.473492</td>\n",
       "    </tr>\n",
       "    <tr>\n",
       "      <th>Cost</th>\n",
       "      <td>-0.177504</td>\n",
       "      <td>0.0</td>\n",
       "      <td>0.0</td>\n",
       "      <td>-30.000</td>\n",
       "      <td>30.0</td>\n",
       "      <td>0</td>\n",
       "      <td></td>\n",
       "      <td>-0.177504</td>\n",
       "    </tr>\n",
       "    <tr>\n",
       "      <th>InVehTime</th>\n",
       "      <td>-0.067607</td>\n",
       "      <td>0.0</td>\n",
       "      <td>0.0</td>\n",
       "      <td>-30.000</td>\n",
       "      <td>30.0</td>\n",
       "      <td>0</td>\n",
       "      <td></td>\n",
       "      <td>-0.067607</td>\n",
       "    </tr>\n",
       "    <tr>\n",
       "      <th>LogIncome:Bike</th>\n",
       "      <td>-0.364865</td>\n",
       "      <td>0.0</td>\n",
       "      <td>0.0</td>\n",
       "      <td>-30.000</td>\n",
       "      <td>30.0</td>\n",
       "      <td>0</td>\n",
       "      <td></td>\n",
       "      <td>-0.364865</td>\n",
       "    </tr>\n",
       "    <tr>\n",
       "      <th>LogIncome:SR</th>\n",
       "      <td>-0.422204</td>\n",
       "      <td>0.0</td>\n",
       "      <td>0.0</td>\n",
       "      <td>-30.000</td>\n",
       "      <td>30.0</td>\n",
       "      <td>0</td>\n",
       "      <td></td>\n",
       "      <td>-0.422204</td>\n",
       "    </tr>\n",
       "    <tr>\n",
       "      <th>LogIncome:Transit</th>\n",
       "      <td>-0.696068</td>\n",
       "      <td>0.0</td>\n",
       "      <td>0.0</td>\n",
       "      <td>-30.000</td>\n",
       "      <td>30.0</td>\n",
       "      <td>0</td>\n",
       "      <td></td>\n",
       "      <td>-0.696068</td>\n",
       "    </tr>\n",
       "    <tr>\n",
       "      <th>LogIncome:Walk</th>\n",
       "      <td>-0.454837</td>\n",
       "      <td>0.0</td>\n",
       "      <td>0.0</td>\n",
       "      <td>-30.000</td>\n",
       "      <td>30.0</td>\n",
       "      <td>0</td>\n",
       "      <td></td>\n",
       "      <td>-0.454837</td>\n",
       "    </tr>\n",
       "    <tr>\n",
       "      <th>Mu:Car</th>\n",
       "      <td>0.546660</td>\n",
       "      <td>1.0</td>\n",
       "      <td>1.0</td>\n",
       "      <td>0.001</td>\n",
       "      <td>1.0</td>\n",
       "      <td>0</td>\n",
       "      <td></td>\n",
       "      <td>0.546660</td>\n",
       "    </tr>\n",
       "    <tr>\n",
       "      <th>Mu:Motor</th>\n",
       "      <td>0.954063</td>\n",
       "      <td>1.0</td>\n",
       "      <td>1.0</td>\n",
       "      <td>0.001</td>\n",
       "      <td>1.0</td>\n",
       "      <td>0</td>\n",
       "      <td></td>\n",
       "      <td>0.954063</td>\n",
       "    </tr>\n",
       "    <tr>\n",
       "      <th>Mu:NonMotor</th>\n",
       "      <td>0.863651</td>\n",
       "      <td>1.0</td>\n",
       "      <td>1.0</td>\n",
       "      <td>0.001</td>\n",
       "      <td>1.0</td>\n",
       "      <td>0</td>\n",
       "      <td></td>\n",
       "      <td>0.863651</td>\n",
       "    </tr>\n",
       "    <tr>\n",
       "      <th>NonMotorTime</th>\n",
       "      <td>-0.126814</td>\n",
       "      <td>0.0</td>\n",
       "      <td>0.0</td>\n",
       "      <td>-30.000</td>\n",
       "      <td>30.0</td>\n",
       "      <td>0</td>\n",
       "      <td></td>\n",
       "      <td>-0.126814</td>\n",
       "    </tr>\n",
       "    <tr>\n",
       "      <th>OutVehTime</th>\n",
       "      <td>-0.147523</td>\n",
       "      <td>0.0</td>\n",
       "      <td>0.0</td>\n",
       "      <td>-30.000</td>\n",
       "      <td>30.0</td>\n",
       "      <td>0</td>\n",
       "      <td></td>\n",
       "      <td>-0.147523</td>\n",
       "    </tr>\n",
       "  </tbody>\n",
       "</table>\n",
       "</div>"
      ],
      "text/plain": [
       "                      value  initvalue  nullvalue  minimum  maximum  holdfast  \\\n",
       "ASC_Bike           1.020781        0.0        0.0  -30.000     30.0         0   \n",
       "ASC_SR             2.989585        0.0        0.0  -30.000     30.0         0   \n",
       "ASC_Transit        8.508747        0.0        0.0  -30.000     30.0         0   \n",
       "ASC_Walk           7.473492        0.0        0.0  -30.000     30.0         0   \n",
       "Cost              -0.177504        0.0        0.0  -30.000     30.0         0   \n",
       "InVehTime         -0.067607        0.0        0.0  -30.000     30.0         0   \n",
       "LogIncome:Bike    -0.364865        0.0        0.0  -30.000     30.0         0   \n",
       "LogIncome:SR      -0.422204        0.0        0.0  -30.000     30.0         0   \n",
       "LogIncome:Transit -0.696068        0.0        0.0  -30.000     30.0         0   \n",
       "LogIncome:Walk    -0.454837        0.0        0.0  -30.000     30.0         0   \n",
       "Mu:Car             0.546660        1.0        1.0    0.001      1.0         0   \n",
       "Mu:Motor           0.954063        1.0        1.0    0.001      1.0         0   \n",
       "Mu:NonMotor        0.863651        1.0        1.0    0.001      1.0         0   \n",
       "NonMotorTime      -0.126814        0.0        0.0  -30.000     30.0         0   \n",
       "OutVehTime        -0.147523        0.0        0.0  -30.000     30.0         0   \n",
       "\n",
       "                  note      best  \n",
       "ASC_Bike                1.020781  \n",
       "ASC_SR                  2.989585  \n",
       "ASC_Transit             8.508747  \n",
       "ASC_Walk                7.473492  \n",
       "Cost                   -0.177504  \n",
       "InVehTime              -0.067607  \n",
       "LogIncome:Bike         -0.364865  \n",
       "LogIncome:SR           -0.422204  \n",
       "LogIncome:Transit      -0.696068  \n",
       "LogIncome:Walk         -0.454837  \n",
       "Mu:Car                  0.546660  \n",
       "Mu:Motor                0.954063  \n",
       "Mu:NonMotor             0.863651  \n",
       "NonMotorTime           -0.126814  \n",
       "OutVehTime             -0.147523  "
      ]
     },
     "metadata": {},
     "output_type": "display_data"
    }
   ],
   "source": [
    "r = m.maximize_loglike(method='slsqp')"
   ]
  },
  {
   "cell_type": "code",
   "execution_count": 16,
   "id": "40c9e6f8",
   "metadata": {
    "ExecuteTime": {
     "end_time": "2021-06-30T14:37:46.839297Z",
     "start_time": "2021-06-30T14:37:46.829017Z"
    }
   },
   "outputs": [
    {
     "data": {
      "text/html": [
       "<div><table style=\"margin-top:1px;\"><tr><th>key</th><th style=\"text-align:left;\">value</th></tr><tr><td>x</td><td style=\"text-align:left;\"><table border=\"1\" class=\"dataframe\">\n",
       "  <thead>\n",
       "    <tr style=\"text-align: right;\">\n",
       "      <th></th>\n",
       "      <th>0</th>\n",
       "    </tr>\n",
       "  </thead>\n",
       "  <tbody>\n",
       "    <tr>\n",
       "      <th>ASC_Bike</th>\n",
       "      <td>1.020781</td>\n",
       "    </tr>\n",
       "    <tr>\n",
       "      <th>ASC_SR</th>\n",
       "      <td>2.989585</td>\n",
       "    </tr>\n",
       "    <tr>\n",
       "      <th>ASC_Transit</th>\n",
       "      <td>8.508747</td>\n",
       "    </tr>\n",
       "    <tr>\n",
       "      <th>ASC_Walk</th>\n",
       "      <td>7.473492</td>\n",
       "    </tr>\n",
       "    <tr>\n",
       "      <th>Cost</th>\n",
       "      <td>-0.177504</td>\n",
       "    </tr>\n",
       "    <tr>\n",
       "      <th>InVehTime</th>\n",
       "      <td>-0.067607</td>\n",
       "    </tr>\n",
       "    <tr>\n",
       "      <th>LogIncome:Bike</th>\n",
       "      <td>-0.364865</td>\n",
       "    </tr>\n",
       "    <tr>\n",
       "      <th>LogIncome:SR</th>\n",
       "      <td>-0.422204</td>\n",
       "    </tr>\n",
       "    <tr>\n",
       "      <th>LogIncome:Transit</th>\n",
       "      <td>-0.696068</td>\n",
       "    </tr>\n",
       "    <tr>\n",
       "      <th>LogIncome:Walk</th>\n",
       "      <td>-0.454837</td>\n",
       "    </tr>\n",
       "    <tr>\n",
       "      <th>Mu:Car</th>\n",
       "      <td>0.546660</td>\n",
       "    </tr>\n",
       "    <tr>\n",
       "      <th>Mu:Motor</th>\n",
       "      <td>0.954063</td>\n",
       "    </tr>\n",
       "    <tr>\n",
       "      <th>Mu:NonMotor</th>\n",
       "      <td>0.863651</td>\n",
       "    </tr>\n",
       "    <tr>\n",
       "      <th>NonMotorTime</th>\n",
       "      <td>-0.126814</td>\n",
       "    </tr>\n",
       "    <tr>\n",
       "      <th>OutVehTime</th>\n",
       "      <td>-0.147523</td>\n",
       "    </tr>\n",
       "  </tbody>\n",
       "</table></td></tr><tr><td>loglike</td><td style=\"text-align:left;\">-8047.006193925807</td></tr><tr><td>d_loglike</td><td style=\"text-align:left;\"><table border=\"1\" class=\"dataframe\">\n",
       "  <thead>\n",
       "    <tr style=\"text-align: right;\">\n",
       "      <th></th>\n",
       "      <th>0</th>\n",
       "    </tr>\n",
       "  </thead>\n",
       "  <tbody>\n",
       "    <tr>\n",
       "      <th>ASC_Bike</th>\n",
       "      <td>0.000971</td>\n",
       "    </tr>\n",
       "    <tr>\n",
       "      <th>ASC_SR</th>\n",
       "      <td>-0.022883</td>\n",
       "    </tr>\n",
       "    <tr>\n",
       "      <th>ASC_Transit</th>\n",
       "      <td>-0.002079</td>\n",
       "    </tr>\n",
       "    <tr>\n",
       "      <th>ASC_Walk</th>\n",
       "      <td>0.001642</td>\n",
       "    </tr>\n",
       "    <tr>\n",
       "      <th>Cost</th>\n",
       "      <td>0.029123</td>\n",
       "    </tr>\n",
       "    <tr>\n",
       "      <th>InVehTime</th>\n",
       "      <td>-0.007670</td>\n",
       "    </tr>\n",
       "    <tr>\n",
       "      <th>LogIncome:Bike</th>\n",
       "      <td>0.009175</td>\n",
       "    </tr>\n",
       "    <tr>\n",
       "      <th>LogIncome:SR</th>\n",
       "      <td>-0.245893</td>\n",
       "    </tr>\n",
       "    <tr>\n",
       "      <th>LogIncome:Transit</th>\n",
       "      <td>-0.022100</td>\n",
       "    </tr>\n",
       "    <tr>\n",
       "      <th>LogIncome:Walk</th>\n",
       "      <td>0.014978</td>\n",
       "    </tr>\n",
       "    <tr>\n",
       "      <th>Mu:Car</th>\n",
       "      <td>-0.049128</td>\n",
       "    </tr>\n",
       "    <tr>\n",
       "      <th>Mu:Motor</th>\n",
       "      <td>-0.007788</td>\n",
       "    </tr>\n",
       "    <tr>\n",
       "      <th>Mu:NonMotor</th>\n",
       "      <td>0.000834</td>\n",
       "    </tr>\n",
       "    <tr>\n",
       "      <th>NonMotorTime</th>\n",
       "      <td>0.122519</td>\n",
       "    </tr>\n",
       "    <tr>\n",
       "      <th>OutVehTime</th>\n",
       "      <td>-0.066977</td>\n",
       "    </tr>\n",
       "  </tbody>\n",
       "</table></td></tr><tr><td>nit</td><td style=\"text-align:left;\">33</td></tr><tr><td>nfev</td><td style=\"text-align:left;\">74</td></tr><tr><td>njev</td><td style=\"text-align:left;\">33</td></tr><tr><td>status</td><td style=\"text-align:left;\">0</td></tr><tr><td>message</td><td style=\"text-align:left;\">'Optimization terminated successfully'</td></tr><tr><td>success</td><td style=\"text-align:left;\">True</td></tr><tr><td>elapsed_time</td><td style=\"text-align:left;\">0:00:01.533182</td></tr><tr><td>method</td><td style=\"text-align:left;\">'slsqp'</td></tr><tr><td>n_cases</td><td style=\"text-align:left;\">20739</td></tr><tr><td>iteration_number</td><td style=\"text-align:left;\">33</td></tr><tr><td>logloss</td><td style=\"text-align:left;\">0.3880132211739142</td></tr></table></div>"
      ],
      "text/plain": [
       "┣                x: ASC_Bike             1.020781\n",
       "┃                   ASC_SR               2.989585\n",
       "┃                   ASC_Transit          8.508747\n",
       "┃                   ASC_Walk             7.473492\n",
       "┃                   Cost                -0.177504\n",
       "┃                   InVehTime           -0.067607\n",
       "┃                   LogIncome:Bike      -0.364865\n",
       "┃                   LogIncome:SR        -0.422204\n",
       "┃                   LogIncome:Transit   -0.696068\n",
       "┃                   LogIncome:Walk      -0.454837\n",
       "┃                   Mu:Car               0.546660\n",
       "┃                   Mu:Motor             0.954063\n",
       "┃                   Mu:NonMotor          0.863651\n",
       "┃                   NonMotorTime        -0.126814\n",
       "┃                   OutVehTime          -0.147523\n",
       "┃                   dtype: float64\n",
       "┣          loglike: -8047.006193925807\n",
       "┣        d_loglike: ASC_Bike             0.000971\n",
       "┃                   ASC_SR              -0.022883\n",
       "┃                   ASC_Transit         -0.002079\n",
       "┃                   ASC_Walk             0.001642\n",
       "┃                   Cost                 0.029123\n",
       "┃                   InVehTime           -0.007670\n",
       "┃                   LogIncome:Bike       0.009175\n",
       "┃                   LogIncome:SR        -0.245893\n",
       "┃                   LogIncome:Transit   -0.022100\n",
       "┃                   LogIncome:Walk       0.014978\n",
       "┃                   Mu:Car              -0.049128\n",
       "┃                   Mu:Motor            -0.007788\n",
       "┃                   Mu:NonMotor          0.000834\n",
       "┃                   NonMotorTime         0.122519\n",
       "┃                   OutVehTime          -0.066977\n",
       "┃                   dtype: float64\n",
       "┣              nit: 33\n",
       "┣             nfev: 74\n",
       "┣             njev: 33\n",
       "┣           status: 0\n",
       "┣          message: 'Optimization terminated successfully'\n",
       "┣          success: True\n",
       "┣     elapsed_time: datetime.timedelta(seconds=1, microseconds=533182)\n",
       "┣           method: 'slsqp'\n",
       "┣          n_cases: 20739\n",
       "┣ iteration_number: 33\n",
       "┣          logloss: 0.3880132211739142"
      ]
     },
     "execution_count": 16,
     "metadata": {},
     "output_type": "execute_result"
    }
   ],
   "source": [
    "r"
   ]
  },
  {
   "cell_type": "code",
   "execution_count": 17,
   "id": "5c6f2c03",
   "metadata": {
    "ExecuteTime": {
     "end_time": "2021-06-30T14:37:50.215177Z",
     "start_time": "2021-06-30T14:37:50.211389Z"
    }
   },
   "outputs": [
    {
     "data": {
      "text/plain": [
       "-8047.006193925807"
      ]
     },
     "execution_count": 17,
     "metadata": {},
     "output_type": "execute_result"
    }
   ],
   "source": [
    "r.loglike"
   ]
  },
  {
   "cell_type": "code",
   "execution_count": 26,
   "id": "c8a7341a-22ea-4037-af7e-d15de3609e35",
   "metadata": {},
   "outputs": [
    {
     "data": {
      "text/plain": [
       "20739"
      ]
     },
     "execution_count": 26,
     "metadata": {},
     "output_type": "execute_result"
    }
   ],
   "source": [
    "r.n_cases"
   ]
  },
  {
   "cell_type": "markdown",
   "id": "5a7b54ea-8c10-4e47-bdc0-64e132eaa74d",
   "metadata": {},
   "source": [
    "The new data structure allows for filtering or replacing the main datapool table."
   ]
  },
  {
   "cell_type": "code",
   "execution_count": 23,
   "id": "9d102556",
   "metadata": {
    "ExecuteTime": {
     "end_time": "2021-06-30T14:38:37.277155Z",
     "start_time": "2021-06-30T14:38:37.252647Z"
    }
   },
   "outputs": [
    {
     "data": {
      "text/html": [
       "<div><svg style=\"position: absolute; width: 0; height: 0; overflow: hidden\">\n",
       "<defs>\n",
       "<symbol id=\"icon-database\" viewBox=\"0 0 32 32\">\n",
       "<path d=\"M16 0c-8.837 0-16 2.239-16 5v4c0 2.761 7.163 5 16 5s16-2.239 16-5v-4c0-2.761-7.163-5-16-5z\"></path>\n",
       "<path d=\"M16 17c-8.837 0-16-2.239-16-5v6c0 2.761 7.163 5 16 5s16-2.239 16-5v-6c0 2.761-7.163 5-16 5z\"></path>\n",
       "<path d=\"M16 26c-8.837 0-16-2.239-16-5v6c0 2.761 7.163 5 16 5s16-2.239 16-5v-6c0 2.761-7.163 5-16 5z\"></path>\n",
       "</symbol>\n",
       "<symbol id=\"icon-file-text2\" viewBox=\"0 0 32 32\">\n",
       "<path d=\"M28.681 7.159c-0.694-0.947-1.662-2.053-2.724-3.116s-2.169-2.030-3.116-2.724c-1.612-1.182-2.393-1.319-2.841-1.319h-15.5c-1.378 0-2.5 1.121-2.5 2.5v27c0 1.378 1.122 2.5 2.5 2.5h23c1.378 0 2.5-1.122 2.5-2.5v-19.5c0-0.448-0.137-1.23-1.319-2.841zM24.543 5.457c0.959 0.959 1.712 1.825 2.268 2.543h-4.811v-4.811c0.718 0.556 1.584 1.309 2.543 2.268zM28 29.5c0 0.271-0.229 0.5-0.5 0.5h-23c-0.271 0-0.5-0.229-0.5-0.5v-27c0-0.271 0.229-0.5 0.5-0.5 0 0 15.499-0 15.5 0v7c0 0.552 0.448 1 1 1h7v19.5z\"></path>\n",
       "<path d=\"M23 26h-14c-0.552 0-1-0.448-1-1s0.448-1 1-1h14c0.552 0 1 0.448 1 1s-0.448 1-1 1z\"></path>\n",
       "<path d=\"M23 22h-14c-0.552 0-1-0.448-1-1s0.448-1 1-1h14c0.552 0 1 0.448 1 1s-0.448 1-1 1z\"></path>\n",
       "<path d=\"M23 18h-14c-0.552 0-1-0.448-1-1s0.448-1 1-1h14c0.552 0 1 0.448 1 1s-0.448 1-1 1z\"></path>\n",
       "</symbol>\n",
       "</defs>\n",
       "</svg>\n",
       "<style>/* CSS stylesheet for displaying xarray objects in jupyterlab.\n",
       " *\n",
       " */\n",
       "\n",
       ":root {\n",
       "  --xr-font-color0: var(--jp-content-font-color0, rgba(0, 0, 0, 1));\n",
       "  --xr-font-color2: var(--jp-content-font-color2, rgba(0, 0, 0, 0.54));\n",
       "  --xr-font-color3: var(--jp-content-font-color3, rgba(0, 0, 0, 0.38));\n",
       "  --xr-border-color: var(--jp-border-color2, #e0e0e0);\n",
       "  --xr-disabled-color: var(--jp-layout-color3, #bdbdbd);\n",
       "  --xr-background-color: var(--jp-layout-color0, white);\n",
       "  --xr-background-color-row-even: var(--jp-layout-color1, white);\n",
       "  --xr-background-color-row-odd: var(--jp-layout-color2, #eeeeee);\n",
       "}\n",
       "\n",
       "html[theme=dark],\n",
       "body.vscode-dark {\n",
       "  --xr-font-color0: rgba(255, 255, 255, 1);\n",
       "  --xr-font-color2: rgba(255, 255, 255, 0.54);\n",
       "  --xr-font-color3: rgba(255, 255, 255, 0.38);\n",
       "  --xr-border-color: #1F1F1F;\n",
       "  --xr-disabled-color: #515151;\n",
       "  --xr-background-color: #111111;\n",
       "  --xr-background-color-row-even: #111111;\n",
       "  --xr-background-color-row-odd: #313131;\n",
       "}\n",
       "\n",
       ".xr-wrap {\n",
       "  display: block;\n",
       "  min-width: 300px;\n",
       "  max-width: 700px;\n",
       "}\n",
       "\n",
       ".xr-text-repr-fallback {\n",
       "  /* fallback to plain text repr when CSS is not injected (untrusted notebook) */\n",
       "  display: none;\n",
       "}\n",
       "\n",
       ".xr-header {\n",
       "  padding-top: 6px;\n",
       "  padding-bottom: 6px;\n",
       "  margin-bottom: 4px;\n",
       "  border-bottom: solid 1px var(--xr-border-color);\n",
       "}\n",
       "\n",
       ".xr-header > div,\n",
       ".xr-header > ul {\n",
       "  display: inline;\n",
       "  margin-top: 0;\n",
       "  margin-bottom: 0;\n",
       "}\n",
       "\n",
       ".xr-obj-type,\n",
       ".xr-array-name {\n",
       "  margin-left: 2px;\n",
       "  margin-right: 10px;\n",
       "}\n",
       "\n",
       ".xr-obj-type {\n",
       "  color: var(--xr-font-color2);\n",
       "}\n",
       "\n",
       ".xr-sections {\n",
       "  padding-left: 0 !important;\n",
       "  display: grid;\n",
       "  grid-template-columns: 150px auto auto 1fr 20px 20px;\n",
       "}\n",
       "\n",
       ".xr-section-item {\n",
       "  display: contents;\n",
       "}\n",
       "\n",
       ".xr-section-item input {\n",
       "  display: none;\n",
       "}\n",
       "\n",
       ".xr-section-item input + label {\n",
       "  color: var(--xr-disabled-color);\n",
       "}\n",
       "\n",
       ".xr-section-item input:enabled + label {\n",
       "  cursor: pointer;\n",
       "  color: var(--xr-font-color2);\n",
       "}\n",
       "\n",
       ".xr-section-item input:enabled + label:hover {\n",
       "  color: var(--xr-font-color0);\n",
       "}\n",
       "\n",
       ".xr-section-summary {\n",
       "  grid-column: 1;\n",
       "  color: var(--xr-font-color2);\n",
       "  font-weight: 500;\n",
       "}\n",
       "\n",
       ".xr-section-summary > span {\n",
       "  display: inline-block;\n",
       "  padding-left: 0.5em;\n",
       "}\n",
       "\n",
       ".xr-section-summary-in:disabled + label {\n",
       "  color: var(--xr-font-color2);\n",
       "}\n",
       "\n",
       ".xr-section-summary-in + label:before {\n",
       "  display: inline-block;\n",
       "  content: '►';\n",
       "  font-size: 11px;\n",
       "  width: 15px;\n",
       "  text-align: center;\n",
       "}\n",
       "\n",
       ".xr-section-summary-in:disabled + label:before {\n",
       "  color: var(--xr-disabled-color);\n",
       "}\n",
       "\n",
       ".xr-section-summary-in:checked + label:before {\n",
       "  content: '▼';\n",
       "}\n",
       "\n",
       ".xr-section-summary-in:checked + label > span {\n",
       "  display: none;\n",
       "}\n",
       "\n",
       ".xr-section-summary,\n",
       ".xr-section-inline-details {\n",
       "  padding-top: 4px;\n",
       "  padding-bottom: 4px;\n",
       "}\n",
       "\n",
       ".xr-section-inline-details {\n",
       "  grid-column: 2 / -1;\n",
       "}\n",
       "\n",
       ".xr-section-details {\n",
       "  display: none;\n",
       "  grid-column: 1 / -1;\n",
       "  margin-bottom: 5px;\n",
       "}\n",
       "\n",
       ".xr-section-summary-in:checked ~ .xr-section-details {\n",
       "  display: contents;\n",
       "}\n",
       "\n",
       ".xr-array-wrap {\n",
       "  grid-column: 1 / -1;\n",
       "  display: grid;\n",
       "  grid-template-columns: 20px auto;\n",
       "}\n",
       "\n",
       ".xr-array-wrap > label {\n",
       "  grid-column: 1;\n",
       "  vertical-align: top;\n",
       "}\n",
       "\n",
       ".xr-preview {\n",
       "  color: var(--xr-font-color3);\n",
       "}\n",
       "\n",
       ".xr-array-preview,\n",
       ".xr-array-data {\n",
       "  padding: 0 5px !important;\n",
       "  grid-column: 2;\n",
       "}\n",
       "\n",
       ".xr-array-data,\n",
       ".xr-array-in:checked ~ .xr-array-preview {\n",
       "  display: none;\n",
       "}\n",
       "\n",
       ".xr-array-in:checked ~ .xr-array-data,\n",
       ".xr-array-preview {\n",
       "  display: inline-block;\n",
       "}\n",
       "\n",
       ".xr-dim-list {\n",
       "  display: inline-block !important;\n",
       "  list-style: none;\n",
       "  padding: 0 !important;\n",
       "  margin: 0;\n",
       "}\n",
       "\n",
       ".xr-dim-list li {\n",
       "  display: inline-block;\n",
       "  padding: 0;\n",
       "  margin: 0;\n",
       "}\n",
       "\n",
       ".xr-dim-list:before {\n",
       "  content: '(';\n",
       "}\n",
       "\n",
       ".xr-dim-list:after {\n",
       "  content: ')';\n",
       "}\n",
       "\n",
       ".xr-dim-list li:not(:last-child):after {\n",
       "  content: ',';\n",
       "  padding-right: 5px;\n",
       "}\n",
       "\n",
       ".xr-has-index {\n",
       "  font-weight: bold;\n",
       "}\n",
       "\n",
       ".xr-var-list,\n",
       ".xr-var-item {\n",
       "  display: contents;\n",
       "}\n",
       "\n",
       ".xr-var-item > div,\n",
       ".xr-var-item label,\n",
       ".xr-var-item > .xr-var-name span {\n",
       "  background-color: var(--xr-background-color-row-even);\n",
       "  margin-bottom: 0;\n",
       "}\n",
       "\n",
       ".xr-var-item > .xr-var-name:hover span {\n",
       "  padding-right: 5px;\n",
       "}\n",
       "\n",
       ".xr-var-list > li:nth-child(odd) > div,\n",
       ".xr-var-list > li:nth-child(odd) > label,\n",
       ".xr-var-list > li:nth-child(odd) > .xr-var-name span {\n",
       "  background-color: var(--xr-background-color-row-odd);\n",
       "}\n",
       "\n",
       ".xr-var-name {\n",
       "  grid-column: 1;\n",
       "}\n",
       "\n",
       ".xr-var-dims {\n",
       "  grid-column: 2;\n",
       "}\n",
       "\n",
       ".xr-var-dtype {\n",
       "  grid-column: 3;\n",
       "  text-align: right;\n",
       "  color: var(--xr-font-color2);\n",
       "}\n",
       "\n",
       ".xr-var-preview {\n",
       "  grid-column: 4;\n",
       "}\n",
       "\n",
       ".xr-var-name,\n",
       ".xr-var-dims,\n",
       ".xr-var-dtype,\n",
       ".xr-preview,\n",
       ".xr-attrs dt {\n",
       "  white-space: nowrap;\n",
       "  overflow: hidden;\n",
       "  text-overflow: ellipsis;\n",
       "  padding-right: 10px;\n",
       "}\n",
       "\n",
       ".xr-var-name:hover,\n",
       ".xr-var-dims:hover,\n",
       ".xr-var-dtype:hover,\n",
       ".xr-attrs dt:hover {\n",
       "  overflow: visible;\n",
       "  width: auto;\n",
       "  z-index: 1;\n",
       "}\n",
       "\n",
       ".xr-var-attrs,\n",
       ".xr-var-data {\n",
       "  display: none;\n",
       "  background-color: var(--xr-background-color) !important;\n",
       "  padding-bottom: 5px !important;\n",
       "}\n",
       "\n",
       ".xr-var-attrs-in:checked ~ .xr-var-attrs,\n",
       ".xr-var-data-in:checked ~ .xr-var-data {\n",
       "  display: block;\n",
       "}\n",
       "\n",
       ".xr-var-data > table {\n",
       "  float: right;\n",
       "}\n",
       "\n",
       ".xr-var-name span,\n",
       ".xr-var-data,\n",
       ".xr-attrs {\n",
       "  padding-left: 25px !important;\n",
       "}\n",
       "\n",
       ".xr-attrs,\n",
       ".xr-var-attrs,\n",
       ".xr-var-data {\n",
       "  grid-column: 1 / -1;\n",
       "}\n",
       "\n",
       "dl.xr-attrs {\n",
       "  padding: 0;\n",
       "  margin: 0;\n",
       "  display: grid;\n",
       "  grid-template-columns: 125px auto;\n",
       "}\n",
       "\n",
       ".xr-attrs dt,\n",
       ".xr-attrs dd {\n",
       "  padding: 0;\n",
       "  margin: 0;\n",
       "  float: left;\n",
       "  padding-right: 10px;\n",
       "  width: auto;\n",
       "}\n",
       "\n",
       ".xr-attrs dt {\n",
       "  font-weight: normal;\n",
       "  grid-column: 1;\n",
       "}\n",
       "\n",
       ".xr-attrs dt:hover span {\n",
       "  display: inline-block;\n",
       "  background: var(--xr-background-color);\n",
       "  padding-right: 10px;\n",
       "}\n",
       "\n",
       ".xr-attrs dd {\n",
       "  grid-column: 2;\n",
       "  white-space: pre-wrap;\n",
       "  word-break: break-all;\n",
       "}\n",
       "\n",
       ".xr-icon-database,\n",
       ".xr-icon-file-text2 {\n",
       "  display: inline-block;\n",
       "  vertical-align: middle;\n",
       "  width: 1em;\n",
       "  height: 1.5em !important;\n",
       "  stroke-width: 0;\n",
       "  stroke: currentColor;\n",
       "  fill: currentColor;\n",
       "}\n",
       "</style><pre class='xr-text-repr-fallback'>&lt;larch.Dataset&gt;\n",
       "Dimensions:      (_caseid_: 7564, _altid_: 5)\n",
       "Coordinates:\n",
       "    TOURID       (_caseid_) int64 0 1 3 7 10 ... 20728 20729 20731 20734 20736\n",
       "    altid        (_altid_) int64 1 2 3 4 5\n",
       "    altname      (_altid_) &lt;U7 &#x27;DA&#x27; &#x27;SR&#x27; &#x27;Walk&#x27; &#x27;Bike&#x27; &#x27;Transit&#x27;\n",
       "Dimensions without coordinates: _caseid_, _altid_\n",
       "Data variables:\n",
       "    HHID         (_caseid_) int64 50000 50000 50000 50001 ... 54997 54998 54999\n",
       "    PERSONID     (_caseid_) int64 60000 60001 60002 60004 ... 72342 72343 72345\n",
       "    DTAZ         (_caseid_) int64 22 4 20 25 25 4 19 22 ... 39 25 3 2 40 1 40 5\n",
       "    TOURMODE     (_caseid_) int64 1 1 1 1 1 1 1 1 1 1 1 ... 2 1 5 5 2 1 1 1 1 1\n",
       "    TOURPURP     (_caseid_) int64 1 1 1 1 1 1 1 1 1 1 1 ... 1 1 1 1 1 1 1 1 1 1\n",
       "    N_STOPS      (_caseid_) int64 0 0 0 2 1 0 0 0 0 0 0 ... 0 0 0 0 0 2 0 0 0 3\n",
       "    N_TRIPS      (_caseid_) int64 2 2 2 4 3 2 2 2 2 2 2 ... 2 2 2 2 2 4 2 2 2 5\n",
       "    N_TRIPS_HBW  (_caseid_) int64 2 2 2 1 1 2 2 2 2 2 2 ... 2 2 2 2 2 1 2 2 2 1\n",
       "    N_TRIPS_HBO  (_caseid_) int64 0 0 0 1 1 0 0 0 0 0 0 ... 0 0 0 0 0 1 0 0 0 1\n",
       "    N_TRIPS_NHB  (_caseid_) int64 0 0 0 2 1 0 0 0 0 0 0 ... 0 0 0 0 0 2 0 0 0 3</pre><div class='xr-wrap' hidden><div class='xr-header'><div class='xr-obj-type'>larch.Dataset</div></div><ul class='xr-sections'><li class='xr-section-item'><input id='section-908a3973-b418-4ec8-9c40-e4976863ec9d' class='xr-section-summary-in' type='checkbox' disabled ><label for='section-908a3973-b418-4ec8-9c40-e4976863ec9d' class='xr-section-summary'  title='Expand/collapse section'>Dimensions:</label><div class='xr-section-inline-details'><ul class='xr-dim-list'><li><span>_caseid_</span>: 7564</li><li><span>_altid_</span>: 5</li></ul></div><div class='xr-section-details'></div></li><li class='xr-section-item'><input id='section-556c52e9-b6d2-4fe7-add2-44e5a62057bc' class='xr-section-summary-in' type='checkbox'  checked><label for='section-556c52e9-b6d2-4fe7-add2-44e5a62057bc' class='xr-section-summary' >Coordinates: <span>(3)</span></label><div class='xr-section-inline-details'></div><div class='xr-section-details'><ul class='xr-var-list'><li class='xr-var-item'><div class='xr-var-name'><span>TOURID</span></div><div class='xr-var-dims'>(_caseid_)</div><div class='xr-var-dtype'>int64</div><div class='xr-var-preview xr-preview'>0 1 3 7 ... 20729 20731 20734 20736</div><input id='attrs-35ce56d0-7b53-44bf-bc53-6a4e3dca21c4' class='xr-var-attrs-in' type='checkbox' disabled><label for='attrs-35ce56d0-7b53-44bf-bc53-6a4e3dca21c4' title='Show/Hide attributes'><svg class='icon xr-icon-file-text2'><use xlink:href='#icon-file-text2'></use></svg></label><input id='data-b0124442-b173-4ebb-959c-84e031c7910f' class='xr-var-data-in' type='checkbox'><label for='data-b0124442-b173-4ebb-959c-84e031c7910f' title='Show/Hide data repr'><svg class='icon xr-icon-database'><use xlink:href='#icon-database'></use></svg></label><div class='xr-var-attrs'><dl class='xr-attrs'></dl></div><div class='xr-var-data'><pre>array([    0,     1,     3, ..., 20731, 20734, 20736])</pre></div></li><li class='xr-var-item'><div class='xr-var-name'><span>altid</span></div><div class='xr-var-dims'>(_altid_)</div><div class='xr-var-dtype'>int64</div><div class='xr-var-preview xr-preview'>1 2 3 4 5</div><input id='attrs-802a447e-483d-4818-bc63-50715fd8e57b' class='xr-var-attrs-in' type='checkbox' disabled><label for='attrs-802a447e-483d-4818-bc63-50715fd8e57b' title='Show/Hide attributes'><svg class='icon xr-icon-file-text2'><use xlink:href='#icon-file-text2'></use></svg></label><input id='data-ce673893-1827-4b00-adf5-42f33f071038' class='xr-var-data-in' type='checkbox'><label for='data-ce673893-1827-4b00-adf5-42f33f071038' title='Show/Hide data repr'><svg class='icon xr-icon-database'><use xlink:href='#icon-database'></use></svg></label><div class='xr-var-attrs'><dl class='xr-attrs'></dl></div><div class='xr-var-data'><pre>array([1, 2, 3, 4, 5])</pre></div></li><li class='xr-var-item'><div class='xr-var-name'><span>altname</span></div><div class='xr-var-dims'>(_altid_)</div><div class='xr-var-dtype'>&lt;U7</div><div class='xr-var-preview xr-preview'>&#x27;DA&#x27; &#x27;SR&#x27; &#x27;Walk&#x27; &#x27;Bike&#x27; &#x27;Transit&#x27;</div><input id='attrs-7221e858-acc0-4794-a946-b8094df8f6ca' class='xr-var-attrs-in' type='checkbox' disabled><label for='attrs-7221e858-acc0-4794-a946-b8094df8f6ca' title='Show/Hide attributes'><svg class='icon xr-icon-file-text2'><use xlink:href='#icon-file-text2'></use></svg></label><input id='data-1e97816c-08c9-450e-a04f-3ed93c1bf1fd' class='xr-var-data-in' type='checkbox'><label for='data-1e97816c-08c9-450e-a04f-3ed93c1bf1fd' title='Show/Hide data repr'><svg class='icon xr-icon-database'><use xlink:href='#icon-database'></use></svg></label><div class='xr-var-attrs'><dl class='xr-attrs'></dl></div><div class='xr-var-data'><pre>array([&#x27;DA&#x27;, &#x27;SR&#x27;, &#x27;Walk&#x27;, &#x27;Bike&#x27;, &#x27;Transit&#x27;], dtype=&#x27;&lt;U7&#x27;)</pre></div></li></ul></div></li><li class='xr-section-item'><input id='section-ef1066fa-03c0-407e-9eca-31331a6c9889' class='xr-section-summary-in' type='checkbox'  checked><label for='section-ef1066fa-03c0-407e-9eca-31331a6c9889' class='xr-section-summary' >Data variables: <span>(10)</span></label><div class='xr-section-inline-details'></div><div class='xr-section-details'><ul class='xr-var-list'><li class='xr-var-item'><div class='xr-var-name'><span>HHID</span></div><div class='xr-var-dims'>(_caseid_)</div><div class='xr-var-dtype'>int64</div><div class='xr-var-preview xr-preview'>50000 50000 50000 ... 54998 54999</div><input id='attrs-0b7d8bc3-c34f-499f-b767-a841cf99d2ff' class='xr-var-attrs-in' type='checkbox' disabled><label for='attrs-0b7d8bc3-c34f-499f-b767-a841cf99d2ff' title='Show/Hide attributes'><svg class='icon xr-icon-file-text2'><use xlink:href='#icon-file-text2'></use></svg></label><input id='data-9a66e6f2-939d-4a37-ae35-cc088484e42e' class='xr-var-data-in' type='checkbox'><label for='data-9a66e6f2-939d-4a37-ae35-cc088484e42e' title='Show/Hide data repr'><svg class='icon xr-icon-database'><use xlink:href='#icon-database'></use></svg></label><div class='xr-var-attrs'><dl class='xr-attrs'></dl></div><div class='xr-var-data'><pre>array([50000, 50000, 50000, 50001, 50003, ..., 54995, 54997, 54997, 54998, 54999])</pre></div></li><li class='xr-var-item'><div class='xr-var-name'><span>PERSONID</span></div><div class='xr-var-dims'>(_caseid_)</div><div class='xr-var-dtype'>int64</div><div class='xr-var-preview xr-preview'>60000 60001 60002 ... 72343 72345</div><input id='attrs-b3fcc5ef-9490-4ed4-a035-204acbb21484' class='xr-var-attrs-in' type='checkbox' disabled><label for='attrs-b3fcc5ef-9490-4ed4-a035-204acbb21484' title='Show/Hide attributes'><svg class='icon xr-icon-file-text2'><use xlink:href='#icon-file-text2'></use></svg></label><input id='data-449d6afe-13ab-45b7-b7b1-5cf6c739ad1a' class='xr-var-data-in' type='checkbox'><label for='data-449d6afe-13ab-45b7-b7b1-5cf6c739ad1a' title='Show/Hide data repr'><svg class='icon xr-icon-database'><use xlink:href='#icon-database'></use></svg></label><div class='xr-var-attrs'><dl class='xr-attrs'></dl></div><div class='xr-var-data'><pre>array([60000, 60001, 60002, 60004, 60006, ..., 72336, 72341, 72342, 72343, 72345])</pre></div></li><li class='xr-var-item'><div class='xr-var-name'><span>DTAZ</span></div><div class='xr-var-dims'>(_caseid_)</div><div class='xr-var-dtype'>int64</div><div class='xr-var-preview xr-preview'>22 4 20 25 25 4 ... 3 2 40 1 40 5</div><input id='attrs-141219f3-c752-43a7-b08c-fa005de19027' class='xr-var-attrs-in' type='checkbox' disabled><label for='attrs-141219f3-c752-43a7-b08c-fa005de19027' title='Show/Hide attributes'><svg class='icon xr-icon-file-text2'><use xlink:href='#icon-file-text2'></use></svg></label><input id='data-70509078-6115-44f2-9921-1820b5dc741f' class='xr-var-data-in' type='checkbox'><label for='data-70509078-6115-44f2-9921-1820b5dc741f' title='Show/Hide data repr'><svg class='icon xr-icon-database'><use xlink:href='#icon-database'></use></svg></label><div class='xr-var-attrs'><dl class='xr-attrs'></dl></div><div class='xr-var-data'><pre>array([22,  4, 20, 25, 25, ...,  2, 40,  1, 40,  5])</pre></div></li><li class='xr-var-item'><div class='xr-var-name'><span>TOURMODE</span></div><div class='xr-var-dims'>(_caseid_)</div><div class='xr-var-dtype'>int64</div><div class='xr-var-preview xr-preview'>1 1 1 1 1 1 1 1 ... 5 5 2 1 1 1 1 1</div><input id='attrs-3732ffe7-fa86-4bb0-a275-27bf600dba0f' class='xr-var-attrs-in' type='checkbox' disabled><label for='attrs-3732ffe7-fa86-4bb0-a275-27bf600dba0f' title='Show/Hide attributes'><svg class='icon xr-icon-file-text2'><use xlink:href='#icon-file-text2'></use></svg></label><input id='data-2bd15b3c-010f-4b12-beef-4a5bdec4189a' class='xr-var-data-in' type='checkbox'><label for='data-2bd15b3c-010f-4b12-beef-4a5bdec4189a' title='Show/Hide data repr'><svg class='icon xr-icon-database'><use xlink:href='#icon-database'></use></svg></label><div class='xr-var-attrs'><dl class='xr-attrs'></dl></div><div class='xr-var-data'><pre>array([1, 1, 1, 1, 1, ..., 1, 1, 1, 1, 1])</pre></div></li><li class='xr-var-item'><div class='xr-var-name'><span>TOURPURP</span></div><div class='xr-var-dims'>(_caseid_)</div><div class='xr-var-dtype'>int64</div><div class='xr-var-preview xr-preview'>1 1 1 1 1 1 1 1 ... 1 1 1 1 1 1 1 1</div><input id='attrs-cec9b4e2-2712-48fa-8fa4-db80e5e1e258' class='xr-var-attrs-in' type='checkbox' disabled><label for='attrs-cec9b4e2-2712-48fa-8fa4-db80e5e1e258' title='Show/Hide attributes'><svg class='icon xr-icon-file-text2'><use xlink:href='#icon-file-text2'></use></svg></label><input id='data-f0bcb088-faa3-4d94-8f93-ed1b323af296' class='xr-var-data-in' type='checkbox'><label for='data-f0bcb088-faa3-4d94-8f93-ed1b323af296' title='Show/Hide data repr'><svg class='icon xr-icon-database'><use xlink:href='#icon-database'></use></svg></label><div class='xr-var-attrs'><dl class='xr-attrs'></dl></div><div class='xr-var-data'><pre>array([1, 1, 1, 1, 1, ..., 1, 1, 1, 1, 1])</pre></div></li><li class='xr-var-item'><div class='xr-var-name'><span>N_STOPS</span></div><div class='xr-var-dims'>(_caseid_)</div><div class='xr-var-dtype'>int64</div><div class='xr-var-preview xr-preview'>0 0 0 2 1 0 0 0 ... 0 0 0 2 0 0 0 3</div><input id='attrs-c0adadbc-cdf9-4866-8344-f6899183b283' class='xr-var-attrs-in' type='checkbox' disabled><label for='attrs-c0adadbc-cdf9-4866-8344-f6899183b283' title='Show/Hide attributes'><svg class='icon xr-icon-file-text2'><use xlink:href='#icon-file-text2'></use></svg></label><input id='data-829c3625-ff76-41ce-96f9-40e1231c1961' class='xr-var-data-in' type='checkbox'><label for='data-829c3625-ff76-41ce-96f9-40e1231c1961' title='Show/Hide data repr'><svg class='icon xr-icon-database'><use xlink:href='#icon-database'></use></svg></label><div class='xr-var-attrs'><dl class='xr-attrs'></dl></div><div class='xr-var-data'><pre>array([0, 0, 0, 2, 1, ..., 2, 0, 0, 0, 3])</pre></div></li><li class='xr-var-item'><div class='xr-var-name'><span>N_TRIPS</span></div><div class='xr-var-dims'>(_caseid_)</div><div class='xr-var-dtype'>int64</div><div class='xr-var-preview xr-preview'>2 2 2 4 3 2 2 2 ... 2 2 2 4 2 2 2 5</div><input id='attrs-78e70013-1cc0-455c-aacb-ce83d45fdeda' class='xr-var-attrs-in' type='checkbox' disabled><label for='attrs-78e70013-1cc0-455c-aacb-ce83d45fdeda' title='Show/Hide attributes'><svg class='icon xr-icon-file-text2'><use xlink:href='#icon-file-text2'></use></svg></label><input id='data-84aeeb81-8128-4cbb-9233-373bd3d2ea54' class='xr-var-data-in' type='checkbox'><label for='data-84aeeb81-8128-4cbb-9233-373bd3d2ea54' title='Show/Hide data repr'><svg class='icon xr-icon-database'><use xlink:href='#icon-database'></use></svg></label><div class='xr-var-attrs'><dl class='xr-attrs'></dl></div><div class='xr-var-data'><pre>array([2, 2, 2, 4, 3, ..., 4, 2, 2, 2, 5])</pre></div></li><li class='xr-var-item'><div class='xr-var-name'><span>N_TRIPS_HBW</span></div><div class='xr-var-dims'>(_caseid_)</div><div class='xr-var-dtype'>int64</div><div class='xr-var-preview xr-preview'>2 2 2 1 1 2 2 2 ... 2 2 2 1 2 2 2 1</div><input id='attrs-465bd8e9-e8b1-41aa-9c5e-2c351921b14a' class='xr-var-attrs-in' type='checkbox' disabled><label for='attrs-465bd8e9-e8b1-41aa-9c5e-2c351921b14a' title='Show/Hide attributes'><svg class='icon xr-icon-file-text2'><use xlink:href='#icon-file-text2'></use></svg></label><input id='data-a594b634-63c3-420a-93f2-89c4a07ce385' class='xr-var-data-in' type='checkbox'><label for='data-a594b634-63c3-420a-93f2-89c4a07ce385' title='Show/Hide data repr'><svg class='icon xr-icon-database'><use xlink:href='#icon-database'></use></svg></label><div class='xr-var-attrs'><dl class='xr-attrs'></dl></div><div class='xr-var-data'><pre>array([2, 2, 2, 1, 1, ..., 1, 2, 2, 2, 1])</pre></div></li><li class='xr-var-item'><div class='xr-var-name'><span>N_TRIPS_HBO</span></div><div class='xr-var-dims'>(_caseid_)</div><div class='xr-var-dtype'>int64</div><div class='xr-var-preview xr-preview'>0 0 0 1 1 0 0 0 ... 0 0 0 1 0 0 0 1</div><input id='attrs-aea62785-208a-4d03-b001-7ed8e19a67c6' class='xr-var-attrs-in' type='checkbox' disabled><label for='attrs-aea62785-208a-4d03-b001-7ed8e19a67c6' title='Show/Hide attributes'><svg class='icon xr-icon-file-text2'><use xlink:href='#icon-file-text2'></use></svg></label><input id='data-b89c0a3c-cae5-43a9-add7-860ff9c6726d' class='xr-var-data-in' type='checkbox'><label for='data-b89c0a3c-cae5-43a9-add7-860ff9c6726d' title='Show/Hide data repr'><svg class='icon xr-icon-database'><use xlink:href='#icon-database'></use></svg></label><div class='xr-var-attrs'><dl class='xr-attrs'></dl></div><div class='xr-var-data'><pre>array([0, 0, 0, 1, 1, ..., 1, 0, 0, 0, 1])</pre></div></li><li class='xr-var-item'><div class='xr-var-name'><span>N_TRIPS_NHB</span></div><div class='xr-var-dims'>(_caseid_)</div><div class='xr-var-dtype'>int64</div><div class='xr-var-preview xr-preview'>0 0 0 2 1 0 0 0 ... 0 0 0 2 0 0 0 3</div><input id='attrs-0b537bc6-b517-4523-aaaf-266eae260c5a' class='xr-var-attrs-in' type='checkbox' disabled><label for='attrs-0b537bc6-b517-4523-aaaf-266eae260c5a' title='Show/Hide attributes'><svg class='icon xr-icon-file-text2'><use xlink:href='#icon-file-text2'></use></svg></label><input id='data-2ea89745-bed2-4996-84e6-1345acbd45c7' class='xr-var-data-in' type='checkbox'><label for='data-2ea89745-bed2-4996-84e6-1345acbd45c7' title='Show/Hide data repr'><svg class='icon xr-icon-database'><use xlink:href='#icon-database'></use></svg></label><div class='xr-var-attrs'><dl class='xr-attrs'></dl></div><div class='xr-var-data'><pre>array([0, 0, 0, 2, 1, ..., 2, 0, 0, 0, 3])</pre></div></li></ul></div></li><li class='xr-section-item'><input id='section-dbda3419-9b74-458a-bbf0-fec753b93071' class='xr-section-summary-in' type='checkbox' disabled ><label for='section-dbda3419-9b74-458a-bbf0-fec753b93071' class='xr-section-summary'  title='Expand/collapse section'>Attributes: <span>(0)</span></label><div class='xr-section-inline-details'></div><div class='xr-section-details'><dl class='xr-attrs'></dl></div></li></ul></div></div>"
      ],
      "text/plain": [
       "<larch.Dataset>\n",
       "Dimensions:      (_caseid_: 7564, _altid_: 5)\n",
       "Coordinates:\n",
       "    TOURID       (_caseid_) int64 0 1 3 7 10 ... 20728 20729 20731 20734 20736\n",
       "    altid        (_altid_) int64 1 2 3 4 5\n",
       "    altname      (_altid_) <U7 'DA' 'SR' 'Walk' 'Bike' 'Transit'\n",
       "Dimensions without coordinates: _caseid_, _altid_\n",
       "Data variables:\n",
       "    HHID         (_caseid_) int64 50000 50000 50000 50001 ... 54997 54998 54999\n",
       "    PERSONID     (_caseid_) int64 60000 60001 60002 60004 ... 72342 72343 72345\n",
       "    DTAZ         (_caseid_) int64 22 4 20 25 25 4 19 22 ... 39 25 3 2 40 1 40 5\n",
       "    TOURMODE     (_caseid_) int64 1 1 1 1 1 1 1 1 1 1 1 ... 2 1 5 5 2 1 1 1 1 1\n",
       "    TOURPURP     (_caseid_) int64 1 1 1 1 1 1 1 1 1 1 1 ... 1 1 1 1 1 1 1 1 1 1\n",
       "    N_STOPS      (_caseid_) int64 0 0 0 2 1 0 0 0 0 0 0 ... 0 0 0 0 0 2 0 0 0 3\n",
       "    N_TRIPS      (_caseid_) int64 2 2 2 4 3 2 2 2 2 2 2 ... 2 2 2 2 2 4 2 2 2 5\n",
       "    N_TRIPS_HBW  (_caseid_) int64 2 2 2 1 1 2 2 2 2 2 2 ... 2 2 2 2 2 1 2 2 2 1\n",
       "    N_TRIPS_HBO  (_caseid_) int64 0 0 0 1 1 0 0 0 0 0 0 ... 0 0 0 0 0 1 0 0 0 1\n",
       "    N_TRIPS_NHB  (_caseid_) int64 0 0 0 2 1 0 0 0 0 0 0 ... 0 0 0 0 0 2 0 0 0 3"
      ]
     },
     "execution_count": 23,
     "metadata": {},
     "output_type": "execute_result"
    }
   ],
   "source": [
    "worktours = pool.main.query_cases('TOURPURP==1')\n",
    "worktours"
   ]
  },
  {
   "cell_type": "code",
   "execution_count": 24,
   "id": "f2ec90f6",
   "metadata": {
    "ExecuteTime": {
     "end_time": "2021-06-30T14:38:38.552194Z",
     "start_time": "2021-06-30T14:38:38.549239Z"
    }
   },
   "outputs": [],
   "source": [
    "m.datapool_source = worktours"
   ]
  },
  {
   "cell_type": "code",
   "execution_count": 25,
   "id": "f5ba28da",
   "metadata": {
    "ExecuteTime": {
     "end_time": "2021-06-30T14:38:53.967701Z",
     "start_time": "2021-06-30T14:38:53.964678Z"
    }
   },
   "outputs": [
    {
     "data": {
      "text/plain": [
       "7564"
      ]
     },
     "execution_count": 25,
     "metadata": {},
     "output_type": "execute_result"
    }
   ],
   "source": [
    "m.n_cases"
   ]
  },
  {
   "cell_type": "code",
   "execution_count": 27,
   "id": "e4689d27",
   "metadata": {
    "ExecuteTime": {
     "end_time": "2021-06-30T14:40:23.397495Z",
     "start_time": "2021-06-30T14:40:23.391598Z"
    }
   },
   "outputs": [
    {
     "data": {
      "text/plain": [
       "-3527.6797690247113"
      ]
     },
     "execution_count": 27,
     "metadata": {},
     "output_type": "execute_result"
    }
   ],
   "source": [
    "m.loglike() # -3527.6797690247113"
   ]
  },
  {
   "cell_type": "code",
   "execution_count": 28,
   "id": "dc019808",
   "metadata": {
    "ExecuteTime": {
     "end_time": "2021-06-30T14:40:24.677198Z",
     "start_time": "2021-06-30T14:40:24.674537Z"
    }
   },
   "outputs": [],
   "source": [
    "assert m.n_cases == 7564"
   ]
  },
  {
   "cell_type": "code",
   "execution_count": 29,
   "id": "c87fa7ae",
   "metadata": {
    "ExecuteTime": {
     "end_time": "2021-06-30T14:40:25.153932Z",
     "start_time": "2021-06-30T14:40:25.150678Z"
    }
   },
   "outputs": [
    {
     "data": {
      "text/plain": [
       "7564"
      ]
     },
     "execution_count": 29,
     "metadata": {},
     "output_type": "execute_result"
    }
   ],
   "source": [
    "m.n_cases"
   ]
  },
  {
   "cell_type": "code",
   "execution_count": 30,
   "id": "ed7cc5a1",
   "metadata": {
    "ExecuteTime": {
     "end_time": "2021-06-30T14:40:26.906538Z",
     "start_time": "2021-06-30T14:40:26.903739Z"
    }
   },
   "outputs": [],
   "source": [
    "del m.datapool_source"
   ]
  },
  {
   "cell_type": "code",
   "execution_count": 31,
   "id": "db19e864",
   "metadata": {
    "ExecuteTime": {
     "end_time": "2021-06-30T14:40:28.390661Z",
     "start_time": "2021-06-30T14:40:28.272959Z"
    }
   },
   "outputs": [
    {
     "data": {
      "text/plain": [
       "-8047.006193925807"
      ]
     },
     "execution_count": 31,
     "metadata": {},
     "output_type": "execute_result"
    }
   ],
   "source": [
    "m.loglike()"
   ]
  },
  {
   "cell_type": "code",
   "execution_count": 32,
   "id": "89882c95",
   "metadata": {
    "ExecuteTime": {
     "end_time": "2021-06-30T14:40:34.098804Z",
     "start_time": "2021-06-30T14:40:34.095762Z"
    }
   },
   "outputs": [],
   "source": [
    "m.datapool_source = worktours"
   ]
  },
  {
   "cell_type": "code",
   "execution_count": 33,
   "id": "53e4d996",
   "metadata": {
    "ExecuteTime": {
     "end_time": "2021-06-30T14:40:35.359852Z",
     "start_time": "2021-06-30T14:40:35.218511Z"
    }
   },
   "outputs": [
    {
     "data": {
      "text/plain": [
       "-3527.6797690247113"
      ]
     },
     "execution_count": 33,
     "metadata": {},
     "output_type": "execute_result"
    }
   ],
   "source": [
    "m.loglike()"
   ]
  },
  {
   "cell_type": "code",
   "execution_count": 34,
   "id": "bf06d029",
   "metadata": {
    "ExecuteTime": {
     "end_time": "2021-06-30T14:40:40.224259Z",
     "start_time": "2021-06-30T14:40:40.218025Z"
    }
   },
   "outputs": [
    {
     "data": {
      "text/plain": [
       "numpy.float64"
      ]
     },
     "execution_count": 34,
     "metadata": {},
     "output_type": "execute_result"
    }
   ],
   "source": [
    "type(m.loglike()) ##64=-8047.102567806795\n"
   ]
  },
  {
   "cell_type": "code",
   "execution_count": 35,
   "id": "9bb9f598",
   "metadata": {
    "ExecuteTime": {
     "end_time": "2021-06-30T14:41:09.062614Z",
     "start_time": "2021-06-30T14:41:00.123211Z"
    }
   },
   "outputs": [
    {
     "name": "stdout",
     "output_type": "stream",
     "text": [
      "1.17 ms ± 20.5 µs per loop (mean ± std. dev. of 7 runs, 1000 loops each)\n"
     ]
    }
   ],
   "source": [
    "%timeit m.loglike()"
   ]
  }
 ],
 "metadata": {
  "kernelspec": {
   "display_name": "Python 3 (ipykernel)",
   "language": "python",
   "name": "python3"
  },
  "language_info": {
   "codemirror_mode": {
    "name": "ipython",
    "version": 3
   },
   "file_extension": ".py",
   "mimetype": "text/x-python",
   "name": "python",
   "nbconvert_exporter": "python",
   "pygments_lexer": "ipython3",
   "version": "3.9.6"
  },
  "toc": {
   "base_numbering": 1,
   "nav_menu": {},
   "number_sections": false,
   "sideBar": true,
   "skip_h1_title": false,
   "title_cell": "Table of Contents",
   "title_sidebar": "Contents",
   "toc_cell": false,
   "toc_position": {},
   "toc_section_display": true,
   "toc_window_display": false
  }
 },
 "nbformat": 4,
 "nbformat_minor": 5
}
