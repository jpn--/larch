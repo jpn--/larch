{
 "cells": [
  {
   "cell_type": "markdown",
   "id": "b0623392-2e9f-4ae3-bc64-80dafb9c6c18",
   "metadata": {
    "tags": []
   },
   "source": [
    "# Experimental\n",
    "\n",
    "This notebook demostrates the experimental next-generation Larch model,\n",
    "based on xarray data formats and the new numba choice model back end."
   ]
  },
  {
   "cell_type": "code",
   "execution_count": 1,
   "id": "1535dbe8",
   "metadata": {
    "ExecuteTime": {
     "end_time": "2021-11-29T19:16:15.539232Z",
     "start_time": "2021-11-29T19:16:00.989421Z"
    }
   },
   "outputs": [
    {
     "name": "stderr",
     "output_type": "stream",
     "text": [
      "/Users/jeffnewman/LocalGit/sharrow_pro/sharrow_pro/announce.py:4: ExtremelyDangerousMission: \n",
      "\n",
      "  good_news_everyone( ### sharrow advanced features are available ### )\n",
      "/Users/jeffnewman/LocalGit/larch/larch/numba/model.py:20: UserWarning: \n",
      "\n",
      "### larch.numba is experimental, and not feature-complete ###\n",
      " the first time you import on a new system, this package will\n",
      " compile optimized binaries for your machine, which may take \n",
      " a little while, please be patient \n",
      "\n",
      "  warnings.warn( ### EXPERIMENTAL ### )\n"
     ]
    }
   ],
   "source": [
    "import larch.numba as lx\n",
    "from larch import P, X"
   ]
  },
  {
   "cell_type": "code",
   "execution_count": 2,
   "id": "19f92472",
   "metadata": {
    "ExecuteTime": {
     "end_time": "2021-11-29T19:16:15.851919Z",
     "start_time": "2021-11-29T19:16:15.541722Z"
    }
   },
   "outputs": [],
   "source": [
    "tree = lx.examples.EXAMPVILLE('datatree', cache_dir=\"_sharrow_cache_\")"
   ]
  },
  {
   "cell_type": "code",
   "execution_count": 3,
   "id": "bde88079-2d88-427f-91c5-2ed143669e2c",
   "metadata": {
    "ExecuteTime": {
     "end_time": "2021-11-29T19:16:15.858353Z",
     "start_time": "2021-11-29T19:16:15.853957Z"
    }
   },
   "outputs": [
    {
     "data": {
      "text/plain": [
       "<larch.dataset.DataTree>\n",
       " datasets:\n",
       " - tours\n",
       " - hh\n",
       " - pp\n",
       " - od\n",
       " - do\n",
       " relationships:\n",
       " - by label: tours['HHID'] -> hh['HHID']\n",
       " - by label: tours['PERSONID'] -> pp['PERSONID']\n",
       " - by label: tours['DTAZ'] -> od['dtaz']\n",
       " - by label: tours['DTAZ'] -> do['otaz']\n",
       " - by label: hh['HOMETAZ'] -> od['otaz']\n",
       " - by label: hh['HOMETAZ'] -> do['dtaz']"
      ]
     },
     "execution_count": 3,
     "metadata": {},
     "output_type": "execute_result"
    }
   ],
   "source": [
    "tree"
   ]
  },
  {
   "cell_type": "code",
   "execution_count": 4,
   "id": "342c62e4",
   "metadata": {
    "ExecuteTime": {
     "end_time": "2021-11-29T19:16:15.862685Z",
     "start_time": "2021-11-29T19:16:15.860506Z"
    }
   },
   "outputs": [],
   "source": [
    "# For clarity, we can define numbers as names for modes\n",
    "DA = 1\n",
    "SR = 2\n",
    "Walk = 3\n",
    "Bike = 4\n",
    "Transit = 5"
   ]
  },
  {
   "cell_type": "code",
   "execution_count": 5,
   "id": "4a5a3028",
   "metadata": {
    "ExecuteTime": {
     "end_time": "2021-11-29T19:16:15.868247Z",
     "start_time": "2021-11-29T19:16:15.864012Z"
    }
   },
   "outputs": [],
   "source": [
    "m = lx.Model(datatree=tree)\n",
    "m.title = \"Exampville Work Tour Mode Choice v1\""
   ]
  },
  {
   "cell_type": "code",
   "execution_count": 6,
   "id": "82151958",
   "metadata": {
    "ExecuteTime": {
     "end_time": "2021-11-29T19:16:15.874623Z",
     "start_time": "2021-11-29T19:16:15.869594Z"
    }
   },
   "outputs": [],
   "source": [
    "m.utility_co[DA] = (\n",
    "        + P.InVehTime * X(\"od.AUTO_TIME + do.AUTO_TIME\")\n",
    "        + P.Cost * X(\"od.AUTO_COST + do.AUTO_COST\") # dollars per mile\n",
    ")\n",
    "\n",
    "m.utility_co[SR] = (\n",
    "        + P.ASC_SR\n",
    "        + P.InVehTime * X(\"od.AUTO_TIME + do.AUTO_TIME\")\n",
    "        + P.Cost * X(\"od.AUTO_COST + do.AUTO_COST\") * 0.5 # dollars per mile, half share\n",
    "        + P(\"LogIncome:SR\") * X(\"log(INCOME)\")\n",
    ")\n",
    "\n",
    "m.utility_co[Walk] = (\n",
    "        + P.ASC_Walk\n",
    "        + P.NonMotorTime * X(\"od.WALK_TIME + do.WALK_TIME\")\n",
    "        + P(\"LogIncome:Walk\") * X(\"log(INCOME)\")\n",
    ")\n",
    "\n",
    "m.utility_co[Bike] = (\n",
    "        + P.ASC_Bike\n",
    "        + P.NonMotorTime * X(\"od.BIKE_TIME + do.BIKE_TIME\")\n",
    "        + P(\"LogIncome:Bike\") * X(\"log(INCOME)\")\n",
    ")\n",
    "\n",
    "m.utility_co[Transit] = (\n",
    "        + P.ASC_Transit\n",
    "        + P.InVehTime * X(\"od.TRANSIT_IVTT + do.TRANSIT_IVTT\")\n",
    "        + P.OutVehTime * X(\"od.TRANSIT_OVTT + do.TRANSIT_OVTT\")\n",
    "        + P.Cost * X(\"od.TRANSIT_FARE + do.TRANSIT_FARE\")\n",
    "        + P(\"LogIncome:Transit\") * X('log(INCOME)')\n",
    ")"
   ]
  },
  {
   "cell_type": "code",
   "execution_count": 7,
   "id": "2f73f060",
   "metadata": {
    "ExecuteTime": {
     "end_time": "2021-11-29T19:16:16.118021Z",
     "start_time": "2021-11-29T19:16:15.876004Z"
    }
   },
   "outputs": [
    {
     "data": {
      "text/html": [
       "<div xmlns=\"http://www.w3.org/2000/svg\"><svg width=\"477pt\" height=\"276pt\" viewBox=\"0.00 0.00 477.00 276.00\">\n",
       "<g id=\"graph0\" class=\"graph\" transform=\"scale(1 1) rotate(0) translate(4 272)\">\n",
       "<polygon fill=\"white\" stroke=\"transparent\" points=\"-4,4 -4,-272 473,-272 473,4 -4,4\"></polygon>\n",
       "<g id=\"clust1\" class=\"cluster\">\n",
       "<title>cluster_elemental</title>\n",
       "<path fill=\"lightgrey\" stroke=\"white\" d=\"M20,-8C20,-8 449,-8 449,-8 455,-8 461,-14 461,-20 461,-20 461,-48 461,-48 461,-54 455,-60 449,-60 449,-60 20,-60 20,-60 14,-60 8,-54 8,-48 8,-48 8,-20 8,-20 8,-14 14,-8 20,-8\"></path>\n",
       "</g>\n",
       "\n",
       "<g id=\"node1\" class=\"node\">\n",
       "<title>0</title>\n",
       "<polygon fill=\"none\" stroke=\"black\" points=\"169,-244.44 196,-232 223,-244.44 222.97,-264.56 169.03,-264.56 169,-244.44\"></polygon>\n",
       "<text text-anchor=\"middle\" x=\"196\" y=\"-246.3\" font-family=\"Times,serif\" font-size=\"14.00\">0</text>\n",
       "</g>\n",
       "\n",
       "<g id=\"node8\" class=\"node\">\n",
       "<title>7</title>\n",
       "<path fill=\"none\" stroke=\"black\" d=\"M177.5,-124C177.5,-124 112.5,-124 112.5,-124 106.5,-124 100.5,-118 100.5,-112 100.5,-112 100.5,-100 100.5,-100 100.5,-94 106.5,-88 112.5,-88 112.5,-88 177.5,-88 177.5,-88 183.5,-88 189.5,-94 189.5,-100 189.5,-100 189.5,-112 189.5,-112 189.5,-118 183.5,-124 177.5,-124\"></path>\n",
       "<text text-anchor=\"start\" x=\"108.5\" y=\"-107.3\" font-family=\"Times,serif\" font-size=\"9.00\" fill=\"#999999\">(7) </text>\n",
       "<text text-anchor=\"start\" x=\"121.5\" y=\"-107.3\" font-family=\"Times,serif\" font-size=\"14.00\">NonMotor</text>\n",
       "<text text-anchor=\"start\" x=\"118.5\" y=\"-97.3\" font-family=\"Times,serif\" font-style=\"italic\" font-size=\"9.00\" fill=\"#999999\">Mu:NonMotor</text>\n",
       "</g>\n",
       "\n",
       "<g id=\"edge1\" class=\"edge\">\n",
       "<title>0-&gt;7</title>\n",
       "<path fill=\"none\" stroke=\"black\" d=\"M190.73,-234.34C182.27,-210.76 165.49,-164.04 154.78,-134.22\"></path>\n",
       "<polygon fill=\"black\" stroke=\"black\" points=\"157.94,-132.67 151.26,-124.44 151.35,-135.04 157.94,-132.67\"></polygon>\n",
       "</g>\n",
       "\n",
       "<g id=\"node9\" class=\"node\">\n",
       "<title>8</title>\n",
       "<path fill=\"none\" stroke=\"black\" d=\"M266,-196C266,-196 226,-196 226,-196 220,-196 214,-190 214,-184 214,-184 214,-172 214,-172 214,-166 220,-160 226,-160 226,-160 266,-160 266,-160 272,-160 278,-166 278,-172 278,-172 278,-184 278,-184 278,-190 272,-196 266,-196\"></path>\n",
       "<text text-anchor=\"start\" x=\"222\" y=\"-179.3\" font-family=\"Times,serif\" font-size=\"9.00\" fill=\"#999999\">(8) </text>\n",
       "<text text-anchor=\"start\" x=\"235\" y=\"-179.3\" font-family=\"Times,serif\" font-size=\"14.00\">Motor</text>\n",
       "<text text-anchor=\"start\" x=\"227\" y=\"-169.3\" font-family=\"Times,serif\" font-style=\"italic\" font-size=\"9.00\" fill=\"#999999\">Mu:Motor</text>\n",
       "</g>\n",
       "\n",
       "<g id=\"edge2\" class=\"edge\">\n",
       "<title>0-&gt;8</title>\n",
       "<path fill=\"none\" stroke=\"black\" d=\"M205.17,-236.16C211.49,-227.32 220.1,-215.26 227.78,-204.51\"></path>\n",
       "<polygon fill=\"black\" stroke=\"black\" points=\"230.72,-206.41 233.68,-196.24 225.02,-202.34 230.72,-206.41\"></polygon>\n",
       "</g>\n",
       "\n",
       "<g id=\"node2\" class=\"node\">\n",
       "<title>1</title>\n",
       "<ellipse fill=\"white\" stroke=\"black\" cx=\"341\" cy=\"-34\" rx=\"32.49\" ry=\"18\"></ellipse>\n",
       "<text text-anchor=\"start\" x=\"324\" y=\"-31.3\" font-family=\"Times,serif\" font-size=\"9.00\" fill=\"#999999\">(1) </text>\n",
       "<text text-anchor=\"start\" x=\"337\" y=\"-31.3\" font-family=\"Times,serif\" font-size=\"14.00\">DA</text>\n",
       "</g>\n",
       "\n",
       "<g id=\"node3\" class=\"node\">\n",
       "<title>2</title>\n",
       "<ellipse fill=\"white\" stroke=\"black\" cx=\"422\" cy=\"-34\" rx=\"30.59\" ry=\"18\"></ellipse>\n",
       "<text text-anchor=\"start\" x=\"406.5\" y=\"-31.3\" font-family=\"Times,serif\" font-size=\"9.00\" fill=\"#999999\">(2) </text>\n",
       "<text text-anchor=\"start\" x=\"419.5\" y=\"-31.3\" font-family=\"Times,serif\" font-size=\"14.00\">SR</text>\n",
       "</g>\n",
       "\n",
       "<g id=\"node4\" class=\"node\">\n",
       "<title>3</title>\n",
       "<ellipse fill=\"white\" stroke=\"black\" cx=\"145\" cy=\"-34\" rx=\"38.19\" ry=\"18\"></ellipse>\n",
       "<text text-anchor=\"start\" x=\"123.5\" y=\"-31.3\" font-family=\"Times,serif\" font-size=\"9.00\" fill=\"#999999\">(3) </text>\n",
       "<text text-anchor=\"start\" x=\"136.5\" y=\"-31.3\" font-family=\"Times,serif\" font-size=\"14.00\">Walk</text>\n",
       "</g>\n",
       "\n",
       "<g id=\"node5\" class=\"node\">\n",
       "<title>4</title>\n",
       "<ellipse fill=\"white\" stroke=\"black\" cx=\"52\" cy=\"-34\" rx=\"36.29\" ry=\"18\"></ellipse>\n",
       "<text text-anchor=\"start\" x=\"32\" y=\"-31.3\" font-family=\"Times,serif\" font-size=\"9.00\" fill=\"#999999\">(4) </text>\n",
       "<text text-anchor=\"start\" x=\"45\" y=\"-31.3\" font-family=\"Times,serif\" font-size=\"14.00\">Bike</text>\n",
       "</g>\n",
       "\n",
       "<g id=\"node6\" class=\"node\">\n",
       "<title>5</title>\n",
       "<ellipse fill=\"white\" stroke=\"black\" cx=\"246\" cy=\"-34\" rx=\"44.69\" ry=\"18\"></ellipse>\n",
       "<text text-anchor=\"start\" x=\"219.5\" y=\"-31.3\" font-family=\"Times,serif\" font-size=\"9.00\" fill=\"#999999\">(5) </text>\n",
       "<text text-anchor=\"start\" x=\"232.5\" y=\"-31.3\" font-family=\"Times,serif\" font-size=\"14.00\">Transit</text>\n",
       "</g>\n",
       "\n",
       "<g id=\"node7\" class=\"node\">\n",
       "<title>6</title>\n",
       "<path fill=\"none\" stroke=\"black\" d=\"M356,-124C356,-124 326,-124 326,-124 320,-124 314,-118 314,-112 314,-112 314,-100 314,-100 314,-94 320,-88 326,-88 326,-88 356,-88 356,-88 362,-88 368,-94 368,-100 368,-100 368,-112 368,-112 368,-118 362,-124 356,-124\"></path>\n",
       "<text text-anchor=\"start\" x=\"324\" y=\"-107.3\" font-family=\"Times,serif\" font-size=\"9.00\" fill=\"#999999\">(6) </text>\n",
       "<text text-anchor=\"start\" x=\"337\" y=\"-107.3\" font-family=\"Times,serif\" font-size=\"14.00\">Car</text>\n",
       "<text text-anchor=\"start\" x=\"326.5\" y=\"-97.3\" font-family=\"Times,serif\" font-style=\"italic\" font-size=\"9.00\" fill=\"#999999\">Mu:Car</text>\n",
       "</g>\n",
       "\n",
       "<g id=\"edge3\" class=\"edge\">\n",
       "<title>6-&gt;1</title>\n",
       "<path fill=\"none\" stroke=\"black\" d=\"M341,-87.7C341,-79.98 341,-70.71 341,-62.11\"></path>\n",
       "<polygon fill=\"black\" stroke=\"black\" points=\"344.5,-62.1 341,-52.1 337.5,-62.1 344.5,-62.1\"></polygon>\n",
       "</g>\n",
       "\n",
       "<g id=\"edge4\" class=\"edge\">\n",
       "<title>6-&gt;2</title>\n",
       "<path fill=\"none\" stroke=\"black\" d=\"M361.02,-87.7C372.14,-78.09 386.04,-66.07 397.77,-55.94\"></path>\n",
       "<polygon fill=\"black\" stroke=\"black\" points=\"400.2,-58.47 405.48,-49.28 395.62,-53.17 400.2,-58.47\"></polygon>\n",
       "</g>\n",
       "\n",
       "<g id=\"edge5\" class=\"edge\">\n",
       "<title>7-&gt;3</title>\n",
       "<path fill=\"none\" stroke=\"black\" d=\"M145,-87.7C145,-79.98 145,-70.71 145,-62.11\"></path>\n",
       "<polygon fill=\"black\" stroke=\"black\" points=\"148.5,-62.1 145,-52.1 141.5,-62.1 148.5,-62.1\"></polygon>\n",
       "</g>\n",
       "\n",
       "<g id=\"edge6\" class=\"edge\">\n",
       "<title>7-&gt;4</title>\n",
       "<path fill=\"none\" stroke=\"black\" d=\"M122.01,-87.7C109.09,-77.97 92.89,-65.78 79.33,-55.57\"></path>\n",
       "<polygon fill=\"black\" stroke=\"black\" points=\"81.37,-52.73 71.27,-49.51 77.16,-58.32 81.37,-52.73\"></polygon>\n",
       "</g>\n",
       "\n",
       "<g id=\"edge8\" class=\"edge\">\n",
       "<title>8-&gt;5</title>\n",
       "<path fill=\"none\" stroke=\"black\" d=\"M246,-159.87C246,-135.67 246,-91.21 246,-62.39\"></path>\n",
       "<polygon fill=\"black\" stroke=\"black\" points=\"249.5,-62.19 246,-52.19 242.5,-62.19 249.5,-62.19\"></polygon>\n",
       "</g>\n",
       "\n",
       "<g id=\"edge7\" class=\"edge\">\n",
       "<title>8-&gt;6</title>\n",
       "<path fill=\"none\" stroke=\"black\" d=\"M269.48,-159.7C281.56,-150.8 296.45,-139.82 309.52,-130.2\"></path>\n",
       "<polygon fill=\"black\" stroke=\"black\" points=\"311.81,-132.85 317.79,-124.1 307.66,-127.22 311.81,-132.85\"></polygon>\n",
       "</g>\n",
       "</g>\n",
       "</svg></div>"
      ],
      "text/plain": [
       "<larch.model.tree.NestingTree at 0x12f8be8b0>"
      ]
     },
     "execution_count": 7,
     "metadata": {},
     "output_type": "execute_result"
    }
   ],
   "source": [
    "Car = m.graph.new_node(parameter='Mu:Car', children=[DA,SR], name='Car')\n",
    "NonMotor = m.graph.new_node(parameter='Mu:NonMotor', children=[Walk,Bike], name='NonMotor')\n",
    "Motor = m.graph.new_node(parameter='Mu:Motor', children=[Car,Transit], name='Motor')\n",
    "m.graph"
   ]
  },
  {
   "cell_type": "code",
   "execution_count": 8,
   "id": "d74e9b39",
   "metadata": {
    "ExecuteTime": {
     "end_time": "2021-11-29T19:16:16.122616Z",
     "start_time": "2021-11-29T19:16:16.119931Z"
    }
   },
   "outputs": [],
   "source": [
    "m.choice_co_code = 'TOURMODE'\n",
    "\n",
    "m.availability_co_vars = {\n",
    "    DA: 'AGE >= 16',\n",
    "    SR: '1',\n",
    "    Walk: 'WALK_TIME < 60',\n",
    "    Bike: 'BIKE_TIME < 60',\n",
    "    Transit: 'TRANSIT_FARE>0',\n",
    "}\n"
   ]
  },
  {
   "cell_type": "code",
   "execution_count": 9,
   "id": "c73d117a",
   "metadata": {
    "ExecuteTime": {
     "end_time": "2021-11-29T19:16:16.127695Z",
     "start_time": "2021-11-29T19:16:16.124138Z"
    }
   },
   "outputs": [
    {
     "data": {
      "text/html": [
       "<div><table style=\"margin-top:1px;\"><tr><th>key</th><th style=\"text-align:left;\">value</th></tr><tr><td>co</td><td style=\"text-align:left;\"><pre>['log(INCOME)',\n",
       " 'od.AUTO_COST + do.AUTO_COST',\n",
       " 'od.AUTO_TIME + do.AUTO_TIME',\n",
       " 'od.BIKE_TIME + do.BIKE_TIME',\n",
       " 'od.TRANSIT_FARE + do.TRANSIT_FARE',\n",
       " 'od.TRANSIT_IVTT + do.TRANSIT_IVTT',\n",
       " 'od.TRANSIT_OVTT + do.TRANSIT_OVTT',\n",
       " 'od.WALK_TIME + do.WALK_TIME']</pre></td></tr><tr><td>choice_co_code</td><td style=\"text-align:left;\">'TOURMODE'</td></tr><tr><td>avail_co</td><td style=\"text-align:left;\"><pre>{1: 'AGE &gt;= 16',\n",
       " 2: '1',\n",
       " 3: 'WALK_TIME &lt; 60',\n",
       " 4: 'BIKE_TIME &lt; 60',\n",
       " 5: 'TRANSIT_FARE&gt;0'}</pre></td></tr></table></div>"
      ],
      "text/plain": [
       "┣             co: ['log(INCOME)',\n",
       "┃                  'od.AUTO_COST + do.AUTO_COST',\n",
       "┃                  'od.AUTO_TIME + do.AUTO_TIME',\n",
       "┃                  'od.BIKE_TIME + do.BIKE_TIME',\n",
       "┃                  'od.TRANSIT_FARE + do.TRANSIT_FARE',\n",
       "┃                  'od.TRANSIT_IVTT + do.TRANSIT_IVTT',\n",
       "┃                  'od.TRANSIT_OVTT + do.TRANSIT_OVTT',\n",
       "┃                  'od.WALK_TIME + do.WALK_TIME']\n",
       "┣ choice_co_code: 'TOURMODE'\n",
       "┣       avail_co: {1: 'AGE >= 16',\n",
       "┃                  2: '1',\n",
       "┃                  3: 'WALK_TIME < 60',\n",
       "┃                  4: 'BIKE_TIME < 60',\n",
       "┃                  5: 'TRANSIT_FARE>0'}"
      ]
     },
     "execution_count": 9,
     "metadata": {},
     "output_type": "execute_result"
    }
   ],
   "source": [
    "m.required_data()"
   ]
  },
  {
   "cell_type": "markdown",
   "id": "98fe0852-b2cf-48b7-825e-98f21f314c8e",
   "metadata": {},
   "source": [
    "The model is connected to a data pool to be used for estimation.  The \n",
    "first time we call the `loglike` function, it takes a few seconds to\n",
    "compile and run."
   ]
  },
  {
   "cell_type": "code",
   "execution_count": 10,
   "id": "5257a298",
   "metadata": {
    "ExecuteTime": {
     "end_time": "2021-11-29T19:16:20.638646Z",
     "start_time": "2021-11-29T19:16:16.131233Z"
    }
   },
   "outputs": [
    {
     "name": "stdout",
     "output_type": "stream",
     "text": [
      "CPU times: user 4.47 s, sys: 81.6 ms, total: 4.55 s\n",
      "Wall time: 4.5 s\n"
     ]
    },
    {
     "data": {
      "text/plain": [
       "-28846.81581153095"
      ]
     },
     "execution_count": 10,
     "metadata": {},
     "output_type": "execute_result"
    }
   ],
   "source": [
    "%time m.loglike() # this take a few seconds on initial run"
   ]
  },
  {
   "cell_type": "code",
   "execution_count": 11,
   "id": "6acd8f49",
   "metadata": {
    "ExecuteTime": {
     "end_time": "2021-11-29T19:16:20.648662Z",
     "start_time": "2021-11-29T19:16:20.641087Z"
    }
   },
   "outputs": [
    {
     "name": "stdout",
     "output_type": "stream",
     "text": [
      "CPU times: user 38.5 ms, sys: 1.89 ms, total: 40.4 ms\n",
      "Wall time: 3.44 ms\n"
     ]
    },
    {
     "data": {
      "text/plain": [
       "-28846.81581153095"
      ]
     },
     "execution_count": 11,
     "metadata": {},
     "output_type": "execute_result"
    }
   ],
   "source": [
    "%time m.loglike() # but only milliseconds on re-run"
   ]
  },
  {
   "cell_type": "code",
   "execution_count": 12,
   "id": "0e54f6b8",
   "metadata": {
    "ExecuteTime": {
     "end_time": "2021-11-29T19:16:20.691978Z",
     "start_time": "2021-11-29T19:16:20.650382Z"
    }
   },
   "outputs": [
    {
     "name": "stdout",
     "output_type": "stream",
     "text": [
      "CPU times: user 493 ms, sys: 3.9 ms, total: 497 ms\n",
      "Wall time: 35.9 ms\n"
     ]
    },
    {
     "data": {
      "text/plain": [
       "array([-5.029350e+03, -2.692350e+03, -1.721100e+03, -2.211183e+03,  1.670510e+04,  1.269521e+05, -5.506872e+04,\n",
       "       -3.030432e+04, -1.933050e+04, -2.412038e+04,  5.825186e+03,  2.928708e+02, -3.319736e+03, -3.471825e+05,\n",
       "       -2.262344e+05])"
      ]
     },
     "execution_count": 12,
     "metadata": {},
     "output_type": "execute_result"
    }
   ],
   "source": [
    "%time m.d_loglike()"
   ]
  },
  {
   "cell_type": "code",
   "execution_count": 13,
   "id": "debb930a",
   "metadata": {
    "ExecuteTime": {
     "end_time": "2021-11-29T19:16:20.698767Z",
     "start_time": "2021-11-29T19:16:20.693894Z"
    }
   },
   "outputs": [],
   "source": [
    "m.set_cap(30)"
   ]
  },
  {
   "cell_type": "markdown",
   "id": "06681a68-8c3e-4298-b4cc-44bc9eb315e8",
   "metadata": {},
   "source": [
    "Other than the compile time, the optimization function now runs very fast."
   ]
  },
  {
   "cell_type": "code",
   "execution_count": 14,
   "id": "a6dc33f2",
   "metadata": {
    "ExecuteTime": {
     "end_time": "2021-11-29T19:16:22.230408Z",
     "start_time": "2021-11-29T19:16:20.700313Z"
    }
   },
   "outputs": [
    {
     "data": {
      "text/html": [
       "<h3>Iteration 033 [Optimization terminated successfully] </h3>"
      ],
      "text/plain": [
       "<IPython.core.display.HTML object>"
      ]
     },
     "metadata": {},
     "output_type": "display_data"
    },
    {
     "data": {
      "text/html": [
       "<p>Best LL = -8047.006193925807</p>"
      ],
      "text/plain": [
       "<IPython.core.display.HTML object>"
      ]
     },
     "metadata": {},
     "output_type": "display_data"
    },
    {
     "data": {
      "text/html": [
       "<div>\n",
       "<style scoped>\n",
       "    .dataframe tbody tr th:only-of-type {\n",
       "        vertical-align: middle;\n",
       "    }\n",
       "\n",
       "    .dataframe tbody tr th {\n",
       "        vertical-align: top;\n",
       "    }\n",
       "\n",
       "    .dataframe thead th {\n",
       "        text-align: right;\n",
       "    }\n",
       "</style>\n",
       "<table border=\"1\" class=\"dataframe\">\n",
       "  <thead>\n",
       "    <tr style=\"text-align: right;\">\n",
       "      <th></th>\n",
       "      <th>value</th>\n",
       "      <th>initvalue</th>\n",
       "      <th>nullvalue</th>\n",
       "      <th>minimum</th>\n",
       "      <th>maximum</th>\n",
       "      <th>holdfast</th>\n",
       "      <th>note</th>\n",
       "      <th>best</th>\n",
       "    </tr>\n",
       "  </thead>\n",
       "  <tbody>\n",
       "    <tr>\n",
       "      <th>ASC_Bike</th>\n",
       "      <td>1.020781</td>\n",
       "      <td>0.0</td>\n",
       "      <td>0.0</td>\n",
       "      <td>-30.000</td>\n",
       "      <td>30.0</td>\n",
       "      <td>0</td>\n",
       "      <td></td>\n",
       "      <td>1.020781</td>\n",
       "    </tr>\n",
       "    <tr>\n",
       "      <th>ASC_SR</th>\n",
       "      <td>2.989585</td>\n",
       "      <td>0.0</td>\n",
       "      <td>0.0</td>\n",
       "      <td>-30.000</td>\n",
       "      <td>30.0</td>\n",
       "      <td>0</td>\n",
       "      <td></td>\n",
       "      <td>2.989585</td>\n",
       "    </tr>\n",
       "    <tr>\n",
       "      <th>ASC_Transit</th>\n",
       "      <td>8.508747</td>\n",
       "      <td>0.0</td>\n",
       "      <td>0.0</td>\n",
       "      <td>-30.000</td>\n",
       "      <td>30.0</td>\n",
       "      <td>0</td>\n",
       "      <td></td>\n",
       "      <td>8.508747</td>\n",
       "    </tr>\n",
       "    <tr>\n",
       "      <th>ASC_Walk</th>\n",
       "      <td>7.473492</td>\n",
       "      <td>0.0</td>\n",
       "      <td>0.0</td>\n",
       "      <td>-30.000</td>\n",
       "      <td>30.0</td>\n",
       "      <td>0</td>\n",
       "      <td></td>\n",
       "      <td>7.473492</td>\n",
       "    </tr>\n",
       "    <tr>\n",
       "      <th>Cost</th>\n",
       "      <td>-0.177504</td>\n",
       "      <td>0.0</td>\n",
       "      <td>0.0</td>\n",
       "      <td>-30.000</td>\n",
       "      <td>30.0</td>\n",
       "      <td>0</td>\n",
       "      <td></td>\n",
       "      <td>-0.177504</td>\n",
       "    </tr>\n",
       "    <tr>\n",
       "      <th>InVehTime</th>\n",
       "      <td>-0.067607</td>\n",
       "      <td>0.0</td>\n",
       "      <td>0.0</td>\n",
       "      <td>-30.000</td>\n",
       "      <td>30.0</td>\n",
       "      <td>0</td>\n",
       "      <td></td>\n",
       "      <td>-0.067607</td>\n",
       "    </tr>\n",
       "    <tr>\n",
       "      <th>LogIncome:Bike</th>\n",
       "      <td>-0.364865</td>\n",
       "      <td>0.0</td>\n",
       "      <td>0.0</td>\n",
       "      <td>-30.000</td>\n",
       "      <td>30.0</td>\n",
       "      <td>0</td>\n",
       "      <td></td>\n",
       "      <td>-0.364865</td>\n",
       "    </tr>\n",
       "    <tr>\n",
       "      <th>LogIncome:SR</th>\n",
       "      <td>-0.422204</td>\n",
       "      <td>0.0</td>\n",
       "      <td>0.0</td>\n",
       "      <td>-30.000</td>\n",
       "      <td>30.0</td>\n",
       "      <td>0</td>\n",
       "      <td></td>\n",
       "      <td>-0.422204</td>\n",
       "    </tr>\n",
       "    <tr>\n",
       "      <th>LogIncome:Transit</th>\n",
       "      <td>-0.696068</td>\n",
       "      <td>0.0</td>\n",
       "      <td>0.0</td>\n",
       "      <td>-30.000</td>\n",
       "      <td>30.0</td>\n",
       "      <td>0</td>\n",
       "      <td></td>\n",
       "      <td>-0.696068</td>\n",
       "    </tr>\n",
       "    <tr>\n",
       "      <th>LogIncome:Walk</th>\n",
       "      <td>-0.454837</td>\n",
       "      <td>0.0</td>\n",
       "      <td>0.0</td>\n",
       "      <td>-30.000</td>\n",
       "      <td>30.0</td>\n",
       "      <td>0</td>\n",
       "      <td></td>\n",
       "      <td>-0.454837</td>\n",
       "    </tr>\n",
       "    <tr>\n",
       "      <th>Mu:Car</th>\n",
       "      <td>0.546660</td>\n",
       "      <td>1.0</td>\n",
       "      <td>1.0</td>\n",
       "      <td>0.001</td>\n",
       "      <td>1.0</td>\n",
       "      <td>0</td>\n",
       "      <td></td>\n",
       "      <td>0.546660</td>\n",
       "    </tr>\n",
       "    <tr>\n",
       "      <th>Mu:Motor</th>\n",
       "      <td>0.954063</td>\n",
       "      <td>1.0</td>\n",
       "      <td>1.0</td>\n",
       "      <td>0.001</td>\n",
       "      <td>1.0</td>\n",
       "      <td>0</td>\n",
       "      <td></td>\n",
       "      <td>0.954063</td>\n",
       "    </tr>\n",
       "    <tr>\n",
       "      <th>Mu:NonMotor</th>\n",
       "      <td>0.863651</td>\n",
       "      <td>1.0</td>\n",
       "      <td>1.0</td>\n",
       "      <td>0.001</td>\n",
       "      <td>1.0</td>\n",
       "      <td>0</td>\n",
       "      <td></td>\n",
       "      <td>0.863651</td>\n",
       "    </tr>\n",
       "    <tr>\n",
       "      <th>NonMotorTime</th>\n",
       "      <td>-0.126814</td>\n",
       "      <td>0.0</td>\n",
       "      <td>0.0</td>\n",
       "      <td>-30.000</td>\n",
       "      <td>30.0</td>\n",
       "      <td>0</td>\n",
       "      <td></td>\n",
       "      <td>-0.126814</td>\n",
       "    </tr>\n",
       "    <tr>\n",
       "      <th>OutVehTime</th>\n",
       "      <td>-0.147523</td>\n",
       "      <td>0.0</td>\n",
       "      <td>0.0</td>\n",
       "      <td>-30.000</td>\n",
       "      <td>30.0</td>\n",
       "      <td>0</td>\n",
       "      <td></td>\n",
       "      <td>-0.147523</td>\n",
       "    </tr>\n",
       "  </tbody>\n",
       "</table>\n",
       "</div>"
      ],
      "text/plain": [
       "                      value  initvalue  nullvalue  minimum  maximum  holdfast  \\\n",
       "ASC_Bike           1.020781        0.0        0.0  -30.000     30.0         0   \n",
       "ASC_SR             2.989585        0.0        0.0  -30.000     30.0         0   \n",
       "ASC_Transit        8.508747        0.0        0.0  -30.000     30.0         0   \n",
       "ASC_Walk           7.473492        0.0        0.0  -30.000     30.0         0   \n",
       "Cost              -0.177504        0.0        0.0  -30.000     30.0         0   \n",
       "InVehTime         -0.067607        0.0        0.0  -30.000     30.0         0   \n",
       "LogIncome:Bike    -0.364865        0.0        0.0  -30.000     30.0         0   \n",
       "LogIncome:SR      -0.422204        0.0        0.0  -30.000     30.0         0   \n",
       "LogIncome:Transit -0.696068        0.0        0.0  -30.000     30.0         0   \n",
       "LogIncome:Walk    -0.454837        0.0        0.0  -30.000     30.0         0   \n",
       "Mu:Car             0.546660        1.0        1.0    0.001      1.0         0   \n",
       "Mu:Motor           0.954063        1.0        1.0    0.001      1.0         0   \n",
       "Mu:NonMotor        0.863651        1.0        1.0    0.001      1.0         0   \n",
       "NonMotorTime      -0.126814        0.0        0.0  -30.000     30.0         0   \n",
       "OutVehTime        -0.147523        0.0        0.0  -30.000     30.0         0   \n",
       "\n",
       "                  note      best  \n",
       "ASC_Bike                1.020781  \n",
       "ASC_SR                  2.989585  \n",
       "ASC_Transit             8.508747  \n",
       "ASC_Walk                7.473492  \n",
       "Cost                   -0.177504  \n",
       "InVehTime              -0.067607  \n",
       "LogIncome:Bike         -0.364865  \n",
       "LogIncome:SR           -0.422204  \n",
       "LogIncome:Transit      -0.696068  \n",
       "LogIncome:Walk         -0.454837  \n",
       "Mu:Car                  0.546660  \n",
       "Mu:Motor                0.954063  \n",
       "Mu:NonMotor             0.863651  \n",
       "NonMotorTime           -0.126814  \n",
       "OutVehTime             -0.147523  "
      ]
     },
     "metadata": {},
     "output_type": "display_data"
    }
   ],
   "source": [
    "r = m.maximize_loglike(method='slsqp')"
   ]
  },
  {
   "cell_type": "code",
   "execution_count": 15,
   "id": "40c9e6f8",
   "metadata": {
    "ExecuteTime": {
     "end_time": "2021-11-29T19:16:22.242506Z",
     "start_time": "2021-11-29T19:16:22.233052Z"
    }
   },
   "outputs": [
    {
     "data": {
      "text/html": [
       "<div><table style=\"margin-top:1px;\"><tr><th>key</th><th style=\"text-align:left;\">value</th></tr><tr><td>x</td><td style=\"text-align:left;\"><table border=\"1\" class=\"dataframe\">\n",
       "  <thead>\n",
       "    <tr style=\"text-align: right;\">\n",
       "      <th></th>\n",
       "      <th>0</th>\n",
       "    </tr>\n",
       "  </thead>\n",
       "  <tbody>\n",
       "    <tr>\n",
       "      <th>ASC_Bike</th>\n",
       "      <td>1.020781</td>\n",
       "    </tr>\n",
       "    <tr>\n",
       "      <th>ASC_SR</th>\n",
       "      <td>2.989585</td>\n",
       "    </tr>\n",
       "    <tr>\n",
       "      <th>ASC_Transit</th>\n",
       "      <td>8.508747</td>\n",
       "    </tr>\n",
       "    <tr>\n",
       "      <th>ASC_Walk</th>\n",
       "      <td>7.473492</td>\n",
       "    </tr>\n",
       "    <tr>\n",
       "      <th>Cost</th>\n",
       "      <td>-0.177504</td>\n",
       "    </tr>\n",
       "    <tr>\n",
       "      <th>InVehTime</th>\n",
       "      <td>-0.067607</td>\n",
       "    </tr>\n",
       "    <tr>\n",
       "      <th>LogIncome:Bike</th>\n",
       "      <td>-0.364865</td>\n",
       "    </tr>\n",
       "    <tr>\n",
       "      <th>LogIncome:SR</th>\n",
       "      <td>-0.422204</td>\n",
       "    </tr>\n",
       "    <tr>\n",
       "      <th>LogIncome:Transit</th>\n",
       "      <td>-0.696068</td>\n",
       "    </tr>\n",
       "    <tr>\n",
       "      <th>LogIncome:Walk</th>\n",
       "      <td>-0.454837</td>\n",
       "    </tr>\n",
       "    <tr>\n",
       "      <th>Mu:Car</th>\n",
       "      <td>0.546660</td>\n",
       "    </tr>\n",
       "    <tr>\n",
       "      <th>Mu:Motor</th>\n",
       "      <td>0.954063</td>\n",
       "    </tr>\n",
       "    <tr>\n",
       "      <th>Mu:NonMotor</th>\n",
       "      <td>0.863651</td>\n",
       "    </tr>\n",
       "    <tr>\n",
       "      <th>NonMotorTime</th>\n",
       "      <td>-0.126814</td>\n",
       "    </tr>\n",
       "    <tr>\n",
       "      <th>OutVehTime</th>\n",
       "      <td>-0.147523</td>\n",
       "    </tr>\n",
       "  </tbody>\n",
       "</table></td></tr><tr><td>loglike</td><td style=\"text-align:left;\">-8047.006193925807</td></tr><tr><td>d_loglike</td><td style=\"text-align:left;\"><table border=\"1\" class=\"dataframe\">\n",
       "  <thead>\n",
       "    <tr style=\"text-align: right;\">\n",
       "      <th></th>\n",
       "      <th>0</th>\n",
       "    </tr>\n",
       "  </thead>\n",
       "  <tbody>\n",
       "    <tr>\n",
       "      <th>ASC_Bike</th>\n",
       "      <td>0.000971</td>\n",
       "    </tr>\n",
       "    <tr>\n",
       "      <th>ASC_SR</th>\n",
       "      <td>-0.022883</td>\n",
       "    </tr>\n",
       "    <tr>\n",
       "      <th>ASC_Transit</th>\n",
       "      <td>-0.002079</td>\n",
       "    </tr>\n",
       "    <tr>\n",
       "      <th>ASC_Walk</th>\n",
       "      <td>0.001642</td>\n",
       "    </tr>\n",
       "    <tr>\n",
       "      <th>Cost</th>\n",
       "      <td>0.029123</td>\n",
       "    </tr>\n",
       "    <tr>\n",
       "      <th>InVehTime</th>\n",
       "      <td>-0.007670</td>\n",
       "    </tr>\n",
       "    <tr>\n",
       "      <th>LogIncome:Bike</th>\n",
       "      <td>0.009175</td>\n",
       "    </tr>\n",
       "    <tr>\n",
       "      <th>LogIncome:SR</th>\n",
       "      <td>-0.245893</td>\n",
       "    </tr>\n",
       "    <tr>\n",
       "      <th>LogIncome:Transit</th>\n",
       "      <td>-0.022100</td>\n",
       "    </tr>\n",
       "    <tr>\n",
       "      <th>LogIncome:Walk</th>\n",
       "      <td>0.014978</td>\n",
       "    </tr>\n",
       "    <tr>\n",
       "      <th>Mu:Car</th>\n",
       "      <td>-0.049128</td>\n",
       "    </tr>\n",
       "    <tr>\n",
       "      <th>Mu:Motor</th>\n",
       "      <td>-0.007788</td>\n",
       "    </tr>\n",
       "    <tr>\n",
       "      <th>Mu:NonMotor</th>\n",
       "      <td>0.000834</td>\n",
       "    </tr>\n",
       "    <tr>\n",
       "      <th>NonMotorTime</th>\n",
       "      <td>0.122519</td>\n",
       "    </tr>\n",
       "    <tr>\n",
       "      <th>OutVehTime</th>\n",
       "      <td>-0.066977</td>\n",
       "    </tr>\n",
       "  </tbody>\n",
       "</table></td></tr><tr><td>nit</td><td style=\"text-align:left;\">33</td></tr><tr><td>nfev</td><td style=\"text-align:left;\">74</td></tr><tr><td>njev</td><td style=\"text-align:left;\">33</td></tr><tr><td>status</td><td style=\"text-align:left;\">0</td></tr><tr><td>message</td><td style=\"text-align:left;\">'Optimization terminated successfully'</td></tr><tr><td>success</td><td style=\"text-align:left;\">True</td></tr><tr><td>elapsed_time</td><td style=\"text-align:left;\">0:00:01.512139</td></tr><tr><td>method</td><td style=\"text-align:left;\">'slsqp'</td></tr><tr><td>n_cases</td><td style=\"text-align:left;\">20739</td></tr><tr><td>iteration_number</td><td style=\"text-align:left;\">33</td></tr><tr><td>logloss</td><td style=\"text-align:left;\">0.3880132211739142</td></tr></table></div>"
      ],
      "text/plain": [
       "┣                x: ASC_Bike             1.020781\n",
       "┃                   ASC_SR               2.989585\n",
       "┃                   ASC_Transit          8.508747\n",
       "┃                   ASC_Walk             7.473492\n",
       "┃                   Cost                -0.177504\n",
       "┃                   InVehTime           -0.067607\n",
       "┃                   LogIncome:Bike      -0.364865\n",
       "┃                   LogIncome:SR        -0.422204\n",
       "┃                   LogIncome:Transit   -0.696068\n",
       "┃                   LogIncome:Walk      -0.454837\n",
       "┃                   Mu:Car               0.546660\n",
       "┃                   Mu:Motor             0.954063\n",
       "┃                   Mu:NonMotor          0.863651\n",
       "┃                   NonMotorTime        -0.126814\n",
       "┃                   OutVehTime          -0.147523\n",
       "┃                   dtype: float64\n",
       "┣          loglike: -8047.006193925807\n",
       "┣        d_loglike: ASC_Bike             0.000971\n",
       "┃                   ASC_SR              -0.022883\n",
       "┃                   ASC_Transit         -0.002079\n",
       "┃                   ASC_Walk             0.001642\n",
       "┃                   Cost                 0.029123\n",
       "┃                   InVehTime           -0.007670\n",
       "┃                   LogIncome:Bike       0.009175\n",
       "┃                   LogIncome:SR        -0.245893\n",
       "┃                   LogIncome:Transit   -0.022100\n",
       "┃                   LogIncome:Walk       0.014978\n",
       "┃                   Mu:Car              -0.049128\n",
       "┃                   Mu:Motor            -0.007788\n",
       "┃                   Mu:NonMotor          0.000834\n",
       "┃                   NonMotorTime         0.122519\n",
       "┃                   OutVehTime          -0.066977\n",
       "┃                   dtype: float64\n",
       "┣              nit: 33\n",
       "┣             nfev: 74\n",
       "┣             njev: 33\n",
       "┣           status: 0\n",
       "┣          message: 'Optimization terminated successfully'\n",
       "┣          success: True\n",
       "┣     elapsed_time: datetime.timedelta(seconds=1, microseconds=512139)\n",
       "┣           method: 'slsqp'\n",
       "┣          n_cases: 20739\n",
       "┣ iteration_number: 33\n",
       "┣          logloss: 0.3880132211739142"
      ]
     },
     "execution_count": 15,
     "metadata": {},
     "output_type": "execute_result"
    }
   ],
   "source": [
    "r"
   ]
  },
  {
   "cell_type": "code",
   "execution_count": 16,
   "id": "5c6f2c03",
   "metadata": {
    "ExecuteTime": {
     "end_time": "2021-11-29T19:16:22.247641Z",
     "start_time": "2021-11-29T19:16:22.244547Z"
    }
   },
   "outputs": [
    {
     "data": {
      "text/plain": [
       "-8047.006193925807"
      ]
     },
     "execution_count": 16,
     "metadata": {},
     "output_type": "execute_result"
    }
   ],
   "source": [
    "r.loglike"
   ]
  },
  {
   "cell_type": "code",
   "execution_count": 17,
   "id": "c8a7341a-22ea-4037-af7e-d15de3609e35",
   "metadata": {
    "ExecuteTime": {
     "end_time": "2021-11-29T19:16:22.252215Z",
     "start_time": "2021-11-29T19:16:22.249245Z"
    }
   },
   "outputs": [
    {
     "data": {
      "text/plain": [
       "20739"
      ]
     },
     "execution_count": 17,
     "metadata": {},
     "output_type": "execute_result"
    }
   ],
   "source": [
    "r.n_cases"
   ]
  },
  {
   "cell_type": "markdown",
   "id": "5a7b54ea-8c10-4e47-bdc0-64e132eaa74d",
   "metadata": {},
   "source": [
    "The new data structure allows for filtering or replacing tables in the datatree, including the root table."
   ]
  },
  {
   "cell_type": "code",
   "execution_count": 18,
   "id": "9d102556",
   "metadata": {
    "ExecuteTime": {
     "end_time": "2021-11-29T19:16:22.262799Z",
     "start_time": "2021-11-29T19:16:22.253675Z"
    }
   },
   "outputs": [
    {
     "data": {
      "text/plain": [
       "<larch.dataset.DataTree>\n",
       " datasets:\n",
       " - tours\n",
       " - hh\n",
       " - pp\n",
       " - od\n",
       " - do\n",
       " relationships:\n",
       " - by position: tours['digitizedOffsetHHID_hh_HHID'] -> hh['HHID']\n",
       " - by position: tours['digitizedOffsetPERSONID_pp_PERSONID'] -> pp['PERSONID']\n",
       " - by position: tours['digitizedOffsetDTAZ_od_dtaz'] -> od['dtaz']\n",
       " - by position: tours['digitizedOffsetDTAZ_od_dtaz'] -> do['otaz']\n",
       " - by position: hh['digitizedOffsetHOMETAZ_od_otaz'] -> od['otaz']\n",
       " - by position: hh['digitizedOffsetHOMETAZ_od_otaz'] -> do['dtaz']"
      ]
     },
     "execution_count": 18,
     "metadata": {},
     "output_type": "execute_result"
    }
   ],
   "source": [
    "worktours = tree.query_cases('TOURPURP==1')\n",
    "worktours"
   ]
  },
  {
   "cell_type": "code",
   "execution_count": 19,
   "id": "f2ec90f6",
   "metadata": {
    "ExecuteTime": {
     "end_time": "2021-11-29T19:16:22.267068Z",
     "start_time": "2021-11-29T19:16:22.264524Z"
    }
   },
   "outputs": [],
   "source": [
    "m.datatree = worktours"
   ]
  },
  {
   "cell_type": "code",
   "execution_count": 20,
   "id": "b70fa1f5",
   "metadata": {
    "ExecuteTime": {
     "end_time": "2021-11-29T19:16:22.272169Z",
     "start_time": "2021-11-29T19:16:22.268892Z"
    }
   },
   "outputs": [
    {
     "data": {
      "text/plain": [
       "True"
      ]
     },
     "execution_count": 20,
     "metadata": {},
     "output_type": "execute_result"
    }
   ],
   "source": [
    "m.dataset is None"
   ]
  },
  {
   "cell_type": "code",
   "execution_count": 21,
   "id": "e01c900f",
   "metadata": {
    "ExecuteTime": {
     "end_time": "2021-11-29T19:16:28.901837Z",
     "start_time": "2021-11-29T19:16:28.898755Z"
    }
   },
   "outputs": [
    {
     "data": {
      "text/plain": [
       "7564"
      ]
     },
     "execution_count": 21,
     "metadata": {},
     "output_type": "execute_result"
    }
   ],
   "source": [
    "m.datatree.n_cases"
   ]
  },
  {
   "cell_type": "code",
   "execution_count": 22,
   "id": "d9b37033",
   "metadata": {
    "ExecuteTime": {
     "end_time": "2021-11-29T19:16:30.017082Z",
     "start_time": "2021-11-29T19:16:30.014270Z"
    }
   },
   "outputs": [
    {
     "data": {
      "text/plain": [
       "7564"
      ]
     },
     "execution_count": 22,
     "metadata": {},
     "output_type": "execute_result"
    }
   ],
   "source": [
    "m.n_cases"
   ]
  },
  {
   "cell_type": "code",
   "execution_count": 23,
   "id": "f5ba28da",
   "metadata": {
    "ExecuteTime": {
     "end_time": "2021-11-29T19:16:31.157781Z",
     "start_time": "2021-11-29T19:16:31.154837Z"
    }
   },
   "outputs": [
    {
     "data": {
      "text/plain": [
       "7564"
      ]
     },
     "execution_count": 23,
     "metadata": {},
     "output_type": "execute_result"
    }
   ],
   "source": [
    "m.n_cases"
   ]
  },
  {
   "cell_type": "code",
   "execution_count": 24,
   "id": "e4689d27",
   "metadata": {
    "ExecuteTime": {
     "end_time": "2021-11-29T19:16:33.984003Z",
     "start_time": "2021-11-29T19:16:33.946537Z"
    }
   },
   "outputs": [
    {
     "data": {
      "text/plain": [
       "-3527.6797690247113"
      ]
     },
     "execution_count": 24,
     "metadata": {},
     "output_type": "execute_result"
    }
   ],
   "source": [
    "m.loglike() # -3527.6797690247113"
   ]
  },
  {
   "cell_type": "code",
   "execution_count": 25,
   "id": "dc019808",
   "metadata": {
    "ExecuteTime": {
     "end_time": "2021-11-29T19:16:42.972557Z",
     "start_time": "2021-11-29T19:16:42.969824Z"
    }
   },
   "outputs": [],
   "source": [
    "assert m.n_cases == 7564"
   ]
  },
  {
   "cell_type": "code",
   "execution_count": 26,
   "id": "c87fa7ae",
   "metadata": {
    "ExecuteTime": {
     "end_time": "2021-11-29T19:16:44.211064Z",
     "start_time": "2021-11-29T19:16:44.207758Z"
    }
   },
   "outputs": [
    {
     "data": {
      "text/plain": [
       "7564"
      ]
     },
     "execution_count": 26,
     "metadata": {},
     "output_type": "execute_result"
    }
   ],
   "source": [
    "m.n_cases"
   ]
  },
  {
   "cell_type": "code",
   "execution_count": 27,
   "id": "db19e864",
   "metadata": {
    "ExecuteTime": {
     "end_time": "2021-11-29T19:16:56.013022Z",
     "start_time": "2021-11-29T19:16:56.008553Z"
    }
   },
   "outputs": [
    {
     "data": {
      "text/plain": [
       "-3527.6797690247113"
      ]
     },
     "execution_count": 27,
     "metadata": {},
     "output_type": "execute_result"
    }
   ],
   "source": [
    "m.loglike()"
   ]
  },
  {
   "cell_type": "code",
   "execution_count": 28,
   "id": "89882c95",
   "metadata": {
    "ExecuteTime": {
     "end_time": "2021-11-29T19:17:01.396806Z",
     "start_time": "2021-11-29T19:17:01.394384Z"
    }
   },
   "outputs": [],
   "source": [
    "m.datapool_source = worktours"
   ]
  },
  {
   "cell_type": "code",
   "execution_count": 29,
   "id": "53e4d996",
   "metadata": {
    "ExecuteTime": {
     "end_time": "2021-11-29T19:17:02.925818Z",
     "start_time": "2021-11-29T19:17:02.919936Z"
    }
   },
   "outputs": [
    {
     "data": {
      "text/plain": [
       "-3527.6797690247113"
      ]
     },
     "execution_count": 29,
     "metadata": {},
     "output_type": "execute_result"
    }
   ],
   "source": [
    "m.loglike()"
   ]
  },
  {
   "cell_type": "code",
   "execution_count": 30,
   "id": "bf06d029",
   "metadata": {
    "ExecuteTime": {
     "end_time": "2021-11-29T19:17:06.445226Z",
     "start_time": "2021-11-29T19:17:06.439640Z"
    }
   },
   "outputs": [
    {
     "data": {
      "text/plain": [
       "numpy.float64"
      ]
     },
     "execution_count": 30,
     "metadata": {},
     "output_type": "execute_result"
    }
   ],
   "source": [
    "type(m.loglike()) ##64=-8047.102567806795\n"
   ]
  },
  {
   "cell_type": "code",
   "execution_count": 31,
   "id": "9bb9f598",
   "metadata": {
    "ExecuteTime": {
     "end_time": "2021-11-29T19:17:21.079670Z",
     "start_time": "2021-11-29T19:17:08.916366Z"
    }
   },
   "outputs": [
    {
     "name": "stdout",
     "output_type": "stream",
     "text": [
      "1.48 ms ± 64.6 µs per loop (mean ± std. dev. of 7 runs, 1000 loops each)\n"
     ]
    }
   ],
   "source": [
    "%timeit m.loglike()"
   ]
  },
  {
   "cell_type": "code",
   "execution_count": null,
   "id": "51c1d8d9",
   "metadata": {},
   "outputs": [],
   "source": []
  }
 ],
 "metadata": {
  "kernelspec": {
   "display_name": "Python 3 (ipykernel)",
   "language": "python",
   "name": "python3"
  },
  "language_info": {
   "codemirror_mode": {
    "name": "ipython",
    "version": 3
   },
   "file_extension": ".py",
   "mimetype": "text/x-python",
   "name": "python",
   "nbconvert_exporter": "python",
   "pygments_lexer": "ipython3",
   "version": "3.9.7"
  },
  "toc": {
   "base_numbering": 1,
   "nav_menu": {},
   "number_sections": false,
   "sideBar": true,
   "skip_h1_title": false,
   "title_cell": "Table of Contents",
   "title_sidebar": "Contents",
   "toc_cell": false,
   "toc_position": {},
   "toc_section_display": true,
   "toc_window_display": false
  }
 },
 "nbformat": 4,
 "nbformat_minor": 5
}
