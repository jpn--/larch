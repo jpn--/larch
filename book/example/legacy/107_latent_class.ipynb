{
 "cells": [
  {
   "cell_type": "markdown",
   "metadata": {},
   "source": [
    "# 107: Latent Class Models\n",
    "\n",
    "In this example, we will replicate the [latent class example model](http://biogeme.epfl.ch/examples/swissmetro/pandas/07discreteMixture.py)\n",
    "from Biogeme."
   ]
  },
  {
   "cell_type": "code",
   "execution_count": null,
   "metadata": {},
   "outputs": [],
   "source": [
    "import larch\n",
    "import pandas as pd\n",
    "from larch.roles import P,X"
   ]
  },
  {
   "cell_type": "markdown",
   "metadata": {},
   "source": [
    "The swissmetro dataset used in this example is conveniently bundled with Larch,\n",
    "accessible using the ``data_warehouse`` module.  We'll load this file using \n",
    "the pandas [``read_csv``](https://pandas.pydata.org/pandas-docs/stable/reference/api/pandas.read_csv.html) command."
   ]
  },
  {
   "cell_type": "code",
   "execution_count": null,
   "metadata": {},
   "outputs": [],
   "source": [
    "from larch import data_warehouse\n",
    "raw = pd.read_csv(larch.data_warehouse.example_file('swissmetro.csv.gz'))"
   ]
  },
  {
   "cell_type": "markdown",
   "metadata": {},
   "source": [
    "We can inspect a few rows of data to see what we have using the ``head`` method."
   ]
  },
  {
   "cell_type": "code",
   "execution_count": null,
   "metadata": {},
   "outputs": [],
   "source": [
    "raw.head()"
   ]
  },
  {
   "cell_type": "markdown",
   "metadata": {},
   "source": [
    "The Biogeme code includes a variety of commands to manipulate the data\n",
    "and create new variables.  Because Larch sits on top of pandas, a reasonable\n",
    "method to create new variables is to just create new columns in the \n",
    "source ``pandas.DataFrame`` in the usual manner for any ``DataFrame``."
   ]
  },
  {
   "cell_type": "code",
   "execution_count": null,
   "metadata": {},
   "outputs": [],
   "source": [
    "raw['SM_COST'] = raw['SM_CO'] * (raw[\"GA\"]==0) "
   ]
  },
  {
   "cell_type": "markdown",
   "metadata": {},
   "source": [
    "You can also use the ``eval`` method of pandas DataFrames.\n",
    "This method takes an expression as a string\n",
    "and evaluates it within a namespace that has already loaded the \n",
    "column names as variables."
   ]
  },
  {
   "cell_type": "code",
   "execution_count": null,
   "metadata": {},
   "outputs": [],
   "source": [
    "raw['TRAIN_COST'] = raw.eval(\"TRAIN_CO * (GA == 0)\") "
   ]
  },
  {
   "cell_type": "markdown",
   "metadata": {},
   "source": [
    "This can allow for writing data \n",
    "expressions more succinctly, as long as all your variable names \n",
    "are strings that can also be the names of variables in Python.\n",
    "If this isn't the case (e.g., if any variable names have spaces\n",
    "in the name) you'll be better off if you stay away from this \n",
    "feature."
   ]
  },
  {
   "cell_type": "markdown",
   "metadata": {},
   "source": [
    "We can mix and match between these two method to create new\n",
    "columns in any DataFrame as needed."
   ]
  },
  {
   "cell_type": "code",
   "execution_count": null,
   "metadata": {},
   "outputs": [],
   "source": [
    "raw['TRAIN_COST_SCALED'] = raw['TRAIN_COST'] / 100\n",
    "raw['TRAIN_TT_SCALED'] = raw['TRAIN_TT'] / 100\n",
    "\n",
    "raw['SM_COST_SCALED'] = raw.eval('SM_COST / 100')\n",
    "raw['SM_TT_SCALED'] = raw['SM_TT'] / 100\n",
    "\n",
    "raw['CAR_CO_SCALED'] = raw['CAR_CO'] / 100\n",
    "raw['CAR_TT_SCALED'] = raw['CAR_TT'] / 100"
   ]
  },
  {
   "cell_type": "code",
   "execution_count": null,
   "metadata": {},
   "outputs": [],
   "source": [
    "raw['CAR_AV_SP'] = raw.eval(\"CAR_AV * (SP!=0)\")\n",
    "raw['TRAIN_AV_SP'] = raw.eval(\"TRAIN_AV * (SP!=0)\")"
   ]
  },
  {
   "cell_type": "markdown",
   "metadata": {},
   "source": [
    "Removing some observations can also be done directly using pandas.\n",
    "Here we identify a subset of observations that we want to keep."
   ]
  },
  {
   "cell_type": "code",
   "execution_count": null,
   "metadata": {},
   "outputs": [],
   "source": [
    "keep = raw.eval(\"PURPOSE in (1,3) and CHOICE != 0\")"
   ]
  },
  {
   "cell_type": "markdown",
   "metadata": {},
   "source": [
    "You may note that we don't assign this value to a column within the\n",
    "``raw`` DataFrame.  This is perfectly acceptable, as the output from\n",
    "the ``eval`` method is just a normal pandas.Series, like any other\n",
    "single column output you might expect to get from a pandas method."
   ]
  },
  {
   "cell_type": "markdown",
   "metadata": {},
   "source": [
    "When you've created the data you need, you can pass the dataframe to\n",
    "the larch.DataFrames constructor.  Since the *swissmetro* data is in\n",
    "``idco`` format, we'll need to explicitly identify the alternative \n",
    "codes as well."
   ]
  },
  {
   "cell_type": "code",
   "execution_count": null,
   "metadata": {},
   "outputs": [],
   "source": [
    "dfs = larch.DataFrames(raw[keep], alt_codes=[1,2,3])"
   ]
  },
  {
   "cell_type": "markdown",
   "metadata": {},
   "source": [
    "The info method of the DataFrames object gives a short summary\n",
    "of the contents."
   ]
  },
  {
   "cell_type": "code",
   "execution_count": null,
   "metadata": {},
   "outputs": [],
   "source": [
    "dfs.info()"
   ]
  },
  {
   "cell_type": "markdown",
   "metadata": {},
   "source": [
    "A longer summary is available by setting verbose to True."
   ]
  },
  {
   "cell_type": "code",
   "execution_count": null,
   "metadata": {},
   "outputs": [],
   "source": [
    "dfs.info(verbose=True)"
   ]
  },
  {
   "cell_type": "markdown",
   "metadata": {},
   "source": [
    "You may have noticed that the info summary notes that this data is \"not computation-ready\".\n",
    "That's because some of the data columns are stored as integers, which can be observed by\n",
    "inspecting the info on the data_co dataframe."
   ]
  },
  {
   "cell_type": "code",
   "execution_count": null,
   "metadata": {},
   "outputs": [],
   "source": [
    "dfs.data_co.info()"
   ]
  },
  {
   "cell_type": "markdown",
   "metadata": {},
   "source": [
    "When computations are run, we'll need all the data to be in float format, but Larch knows this and will \n",
    "handle it for you later."
   ]
  },
  {
   "cell_type": "markdown",
   "metadata": {},
   "source": [
    "## Class Model Setup\n",
    "Having prepped our data, we're ready to set up discrete choices models \n",
    "for each class in the latent class model.  We'll reproduce the Biogeme\n",
    "example exactly here, as a technology demonstation.  Each of two classes\n",
    "will be set up with a simple MNL model."
   ]
  },
  {
   "cell_type": "code",
   "execution_count": null,
   "metadata": {},
   "outputs": [],
   "source": [
    "m1 = larch.Model(dataservice=dfs)\n",
    "m1.availability_co_vars = {\n",
    "    1: \"TRAIN_AV_SP\",\n",
    "    2: \"SM_AV\",\n",
    "    3: \"CAR_AV_SP\",\n",
    "}\n",
    "m1.choice_co_code = 'CHOICE'\n",
    "\n",
    "m1.utility_co[1] = P(\"ASC_TRAIN\") + X(\"TRAIN_COST_SCALED\") * P(\"B_COST\")\n",
    "m1.utility_co[2] = X(\"SM_COST_SCALED\") * P(\"B_COST\")\n",
    "m1.utility_co[3] = P(\"ASC_CAR\") + X(\"CAR_CO_SCALED\") * P(\"B_COST\")\n"
   ]
  },
  {
   "cell_type": "code",
   "execution_count": null,
   "metadata": {},
   "outputs": [],
   "source": [
    "m2 = larch.Model(dataservice=dfs)\n",
    "m2.availability_co_vars = {\n",
    "    1: \"TRAIN_AV_SP\",\n",
    "    2: \"SM_AV\",\n",
    "    3: \"CAR_AV_SP\",\n",
    "}\n",
    "m2.choice_co_code = 'CHOICE'\n",
    "\n",
    "m2.utility_co[1] = P(\"ASC_TRAIN\") + X(\"TRAIN_TT_SCALED\") * P(\"B_TIME\") + X(\"TRAIN_COST_SCALED\") * P(\"B_COST\")\n",
    "m2.utility_co[2] = X(\"SM_TT_SCALED\") * P(\"B_TIME\") + X(\"SM_COST_SCALED\") * P(\"B_COST\")\n",
    "m2.utility_co[3] = P(\"ASC_CAR\") + X(\"CAR_TT_SCALED\") * P(\"B_TIME\") + X(\"CAR_CO_SCALED\") * P(\"B_COST\")"
   ]
  },
  {
   "cell_type": "markdown",
   "metadata": {},
   "source": [
    "## Class Membership Model"
   ]
  },
  {
   "cell_type": "markdown",
   "metadata": {},
   "source": [
    "For Larch, the class membership model will be set up as yet another discrete choice model.\n",
    "In this case, the choices are not the ultimate choices, but instead are the latent classes.\n",
    "To remain consistent with the Biogeme example, we'll set up this model with only a single\n",
    "constant that determines class membership.  Unlike Biogeme, this class membership will\n",
    "be represented with an MNL model, not a simple direct probability."
   ]
  },
  {
   "cell_type": "code",
   "execution_count": null,
   "metadata": {},
   "outputs": [],
   "source": [
    "mk = larch.Model()\n",
    "mk.utility_co[2] = P(\"W_OTHER\")"
   ]
  },
  {
   "cell_type": "markdown",
   "metadata": {},
   "source": [
    "The utility function of the first class isn't written here, which means it will implicitly\n",
    "be set as 0."
   ]
  },
  {
   "cell_type": "markdown",
   "metadata": {},
   "source": [
    "## Latent Class Model\n",
    "\n",
    "Now we're ready to create the latent class model itself, by assembling the components\n",
    "we created above.  The constructor for the ``LatentClassModel`` takes two arguments,\n",
    "a class membership model, and a dictionary of class models, where the keys in the \n",
    "dictionary correspond to the identifying codes from the utility functions we wrote\n",
    "for the class membership model."
   ]
  },
  {
   "cell_type": "code",
   "execution_count": null,
   "metadata": {},
   "outputs": [],
   "source": [
    "from larch.model.latentclass import LatentClassModel\n",
    "m = LatentClassModel(mk, {1:m1, 2:m2})"
   ]
  },
  {
   "cell_type": "markdown",
   "metadata": {},
   "source": [
    "The we'll load the data needed for our models using the ``load_data`` method.\n",
    "This step will assemble the data needed, and convert it to floating point\n",
    "format as required."
   ]
  },
  {
   "cell_type": "code",
   "execution_count": null,
   "metadata": {},
   "outputs": [],
   "source": [
    "m.load_data()"
   ]
  },
  {
   "cell_type": "code",
   "execution_count": null,
   "metadata": {},
   "outputs": [],
   "source": [
    "m.dataframes.info(verbose=1)"
   ]
  },
  {
   "cell_type": "markdown",
   "metadata": {},
   "source": [
    "Only the data actually needed by the models has been converted, which may help\n",
    "keep memory usage down on larger models.  You may also note that the loaded\n",
    "dataframes no longer reports that it is \"not computational-ready\".\n",
    "\n",
    "To estimate the model, we'll use the ``maximize_loglike`` method.  When run\n",
    "in Jupyter, a live-view report of the parmeters and log likelihood is displayed."
   ]
  },
  {
   "cell_type": "code",
   "execution_count": null,
   "metadata": {
    "tags": [
     "nbval-ignore-output"
    ]
   },
   "outputs": [],
   "source": [
    "result = m.maximize_loglike()"
   ]
  },
  {
   "cell_type": "code",
   "execution_count": null,
   "metadata": {},
   "outputs": [],
   "source": [
    "result"
   ]
  },
  {
   "cell_type": "markdown",
   "metadata": {},
   "source": [
    "To complete our analysis, we can compute the log likelihood at \"null\" parameters."
   ]
  },
  {
   "cell_type": "code",
   "execution_count": null,
   "metadata": {},
   "outputs": [],
   "source": [
    "m.loglike_null()"
   ]
  },
  {
   "cell_type": "markdown",
   "metadata": {},
   "source": [
    "And the parameter covariance matrixes."
   ]
  },
  {
   "cell_type": "code",
   "execution_count": null,
   "metadata": {},
   "outputs": [],
   "source": [
    "m.calculate_parameter_covariance()"
   ]
  },
  {
   "cell_type": "code",
   "execution_count": null,
   "metadata": {},
   "outputs": [],
   "source": [
    "m.covariance_matrix"
   ]
  },
  {
   "cell_type": "code",
   "execution_count": null,
   "metadata": {},
   "outputs": [],
   "source": [
    "m.robust_covariance_matrix"
   ]
  },
  {
   "cell_type": "markdown",
   "metadata": {},
   "source": [
    "## Reporting Results"
   ]
  },
  {
   "cell_type": "markdown",
   "metadata": {},
   "source": [
    "And then generate a report of the estimation statistics.  Larch includes a ``Reporter`` class \n",
    "to help you assemble a report containing the relevant output you want."
   ]
  },
  {
   "cell_type": "code",
   "execution_count": null,
   "metadata": {},
   "outputs": [],
   "source": [
    "report = larch.Reporter(\"Latent Class Example\")"
   ]
  },
  {
   "cell_type": "markdown",
   "metadata": {},
   "source": [
    "Pipe into the report section headers in markdown format (use one hash for top level\n",
    "headings, two hashes for lower levels, etc.)"
   ]
  },
  {
   "cell_type": "code",
   "execution_count": null,
   "metadata": {},
   "outputs": [],
   "source": [
    "report << \"# Parameter Estimates\""
   ]
  },
  {
   "cell_type": "markdown",
   "metadata": {},
   "source": [
    "You can also pipe in dataframes directly, include the ``pf`` parameter frame from the model."
   ]
  },
  {
   "cell_type": "code",
   "execution_count": null,
   "metadata": {},
   "outputs": [],
   "source": [
    "report << m.pf"
   ]
  },
  {
   "cell_type": "markdown",
   "metadata": {},
   "source": [
    "And a selection of pre-formatted summary sections."
   ]
  },
  {
   "cell_type": "code",
   "execution_count": null,
   "metadata": {},
   "outputs": [],
   "source": [
    "report << \"# Estimation Statistics\"\n",
    "report << m.estimation_statistics()"
   ]
  },
  {
   "cell_type": "code",
   "execution_count": null,
   "metadata": {},
   "outputs": [],
   "source": [
    "report << \"# Parameter Covariance\"\n",
    "report << \"## Typical Parameter Covariance\"\n",
    "report << m.covariance_matrix\n",
    "report << \"## Robust Parameter Covariance\"\n",
    "report << m.robust_covariance_matrix"
   ]
  },
  {
   "cell_type": "code",
   "execution_count": null,
   "metadata": {},
   "outputs": [],
   "source": [
    "report << \"# Utility Functions\"\n",
    "report << \"## Class 1\"\n",
    "report << \"### Formulae\"\n",
    "report << m1.utility_functions(resolve_parameters=False)\n",
    "report << \"### Final Estimated Values\"\n",
    "report << m1.utility_functions(resolve_parameters=True)"
   ]
  },
  {
   "cell_type": "code",
   "execution_count": null,
   "metadata": {},
   "outputs": [],
   "source": [
    "report << \"## Class 2\"\n",
    "report << \"### Formulae\"\n",
    "report << m1.utility_functions(resolve_parameters=False)\n",
    "report << \"### Final Estimated Values\"\n",
    "report << m1.utility_functions(resolve_parameters=True)"
   ]
  },
  {
   "cell_type": "markdown",
   "metadata": {},
   "source": [
    "In addition to reviewing report sections in a Jupyter notebook, the \n",
    "entire report can be saved to an HTML file."
   ]
  },
  {
   "cell_type": "code",
   "execution_count": null,
   "metadata": {},
   "outputs": [],
   "source": [
    "report.save('latent-class-example-report.html', overwrite=True)"
   ]
  }
 ],
 "metadata": {
  "kernelspec": {
   "display_name": "Python 3 (ipykernel)",
   "language": "python",
   "name": "python3"
  },
  "language_info": {
   "codemirror_mode": {
    "name": "ipython",
    "version": 3
   },
   "file_extension": ".py",
   "mimetype": "text/x-python",
   "name": "python",
   "nbconvert_exporter": "python",
   "pygments_lexer": "ipython3",
   "version": "3.9.6"
  }
 },
 "nbformat": 4,
 "nbformat_minor": 4
}
