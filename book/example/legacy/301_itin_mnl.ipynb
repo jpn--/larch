{
 "cells": [
  {
   "cell_type": "markdown",
   "metadata": {},
   "source": [
    "# 301: Itinerary Choice using MNL"
   ]
  },
  {
   "cell_type": "code",
   "execution_count": null,
   "metadata": {},
   "outputs": [],
   "source": [
    "import larch\n",
    "larch.__version__"
   ]
  },
  {
   "cell_type": "markdown",
   "metadata": {},
   "source": [
    "This example is an itinerary choice model built using the example\n",
    "itinerary choice dataset included with Larch.  We'll begin by loading\n",
    "that example data."
   ]
  },
  {
   "cell_type": "code",
   "execution_count": null,
   "metadata": {},
   "outputs": [],
   "source": [
    "from larch.examples import example\n",
    "d = example(300, 'd')"
   ]
  },
  {
   "cell_type": "markdown",
   "metadata": {},
   "source": [
    "Now let's make our model.  We'll use a few variables to define our\n",
    "linear-in-parameters utility function."
   ]
  },
  {
   "cell_type": "code",
   "execution_count": null,
   "metadata": {},
   "outputs": [],
   "source": [
    "m = larch.Model(dataservice=d)\n",
    "\n",
    "v = [\n",
    "    \"timeperiod==2\",\n",
    "    \"timeperiod==3\",\n",
    "    \"timeperiod==4\",\n",
    "    \"timeperiod==5\",\n",
    "    \"timeperiod==6\",\n",
    "    \"timeperiod==7\",\n",
    "    \"timeperiod==8\",\n",
    "    \"timeperiod==9\",\n",
    "    \"carrier==2\",\n",
    "    \"carrier==3\",\n",
    "    \"carrier==4\",\n",
    "    \"carrier==5\",\n",
    "    \"equipment==2\",\n",
    "    \"fare_hy\",    \n",
    "    \"fare_ly\",    \n",
    "    \"elapsed_time\",  \n",
    "    \"nb_cnxs\",       \n",
    "]\n"
   ]
  },
  {
   "cell_type": "markdown",
   "metadata": {},
   "source": [
    "The `larch.roles` module defines a few convenient classes for declaring data and parameter.\n",
    "One we will use here is `PX` which creates a linear-in-parameter term that represents one data\n",
    "element (a column from our data, or an expression that can be evaluated on the data alone) multiplied\n",
    "by a parameter with the same name.\n"
   ]
  },
  {
   "cell_type": "code",
   "execution_count": null,
   "metadata": {},
   "outputs": [],
   "source": [
    "from larch.roles import PX\n",
    "m.utility_ca = sum(PX(i) for i in v)\n",
    "m.choice_ca_var = 'choice'"
   ]
  },
  {
   "cell_type": "markdown",
   "metadata": {},
   "source": [
    "Since we are estimating just an MNL model in this example, this is all we need to do to build\n",
    "our model, and we're ready to go.  To estimate the likelihood maximizing parameters, we give:\n"
   ]
  },
  {
   "cell_type": "code",
   "execution_count": null,
   "metadata": {},
   "outputs": [],
   "source": [
    "m.load_data()\n",
    "m.maximize_loglike()"
   ]
  }
 ],
 "metadata": {
  "kernelspec": {
   "display_name": "Python 3 (ipykernel)",
   "language": "python",
   "name": "python3"
  },
  "language_info": {
   "codemirror_mode": {
    "name": "ipython",
    "version": 3
   },
   "file_extension": ".py",
   "mimetype": "text/x-python",
   "name": "python",
   "nbconvert_exporter": "python",
   "pygments_lexer": "ipython3",
   "version": "3.9.6"
  }
 },
 "nbformat": 4,
 "nbformat_minor": 4
}
