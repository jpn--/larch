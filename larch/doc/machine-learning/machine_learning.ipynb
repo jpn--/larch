{
 "cells": [
  {
   "cell_type": "markdown",
   "metadata": {},
   "source": [
    "# Using Larch within Scikit-Learn"
   ]
  },
  {
   "cell_type": "raw",
   "metadata": {
    "raw_mimetype": "text/restructuredtext"
   },
   "source": [
    "Larch is (mostly) compatible with the `scikit-learn <https://scikit-learn.org>`__ stucture for machine learning.\n",
    "Within this structure, the larch.Model object can be used as an :term:`sklearn:estimator`\n",
    "and a :term:`sklearn:predictor`."
   ]
  },
  {
   "cell_type": "code",
   "execution_count": null,
   "metadata": {},
   "outputs": [],
   "source": [
    "import larch\n",
    "import pandas as pd\n",
    "\n",
    "from larch import PX, P, X"
   ]
  },
  {
   "cell_type": "code",
   "execution_count": null,
   "metadata": {},
   "outputs": [],
   "source": [
    "from larch.data_warehouse import example_file\n",
    "df = pd.read_csv(example_file(\"MTCwork.csv.gz\"))\n",
    "df.set_index(['casenum','altnum'], inplace=True, drop=False)"
   ]
  },
  {
   "cell_type": "code",
   "execution_count": null,
   "metadata": {},
   "outputs": [],
   "source": [
    "m = larch.Model()\n",
    "\n",
    "m.utility_ca = (\n",
    "    PX('tottime') \n",
    "    + PX('totcost') \n",
    "    + sum(P(f'ASC_{i}') * X(f'altnum=={i}') for i in [2,3,4,5,6])\n",
    "    + sum(P(f'HHINC#{i}') * X(f'(altnum=={i})*hhinc') for i in [2,3,4,5,6])\n",
    ")"
   ]
  },
  {
   "cell_type": "raw",
   "metadata": {
    "raw_mimetype": "text/restructuredtext"
   },
   "source": [
    "Because the larch.Model object is an estimator, if offers a :term:`sklearn:fit`\n",
    "method to estimate the fitted (likelihood maximizing) parameters.  This method\n",
    "for model estimation takes a plain old pandas.DataFrame as the `X` input. Because\n",
    "this is a regular DataFrame, the data does not internally identify which column[s]\n",
    "contain the observed choice values, so that data must be explictly identified\n",
    "in the method call:"
   ]
  },
  {
   "cell_type": "code",
   "execution_count": null,
   "metadata": {},
   "outputs": [],
   "source": [
    "m.fit(df, y=df.chose)"
   ]
  },
  {
   "cell_type": "raw",
   "metadata": {
    "raw_mimetype": "text/restructuredtext"
   },
   "source": [
    "Unlike most scikit-learn estimators, the :meth:`fit <larch.Model.fit>` method cannot\n",
    "accept a numpy ndarray, because Larch needs the column names to be able \n",
    "to match up the data to the pre-defined utility function."
   ]
  },
  {
   "cell_type": "code",
   "execution_count": null,
   "metadata": {},
   "outputs": [],
   "source": [
    "proba = m.predict_proba(df)\n",
    "proba.head(10)"
   ]
  },
  {
   "cell_type": "code",
   "execution_count": null,
   "metadata": {},
   "outputs": [],
   "source": [
    "score = m.score(df, y=df.chose)\n",
    "score"
   ]
  },
  {
   "cell_type": "code",
   "execution_count": null,
   "metadata": {},
   "outputs": [],
   "source": [
    "score * m.dataframes.n_cases"
   ]
  }
 ],
 "metadata": {
  "kernelspec": {
   "display_name": "Python 3 (ipykernel)",
   "language": "python",
   "name": "python3"
  },
  "language_info": {
   "codemirror_mode": {
    "name": "ipython",
    "version": 3
   },
   "file_extension": ".py",
   "mimetype": "text/x-python",
   "name": "python",
   "nbconvert_exporter": "python",
   "pygments_lexer": "ipython3",
   "version": "3.9.9"
  },
  "toc": {
   "base_numbering": 1,
   "nav_menu": {},
   "number_sections": false,
   "sideBar": true,
   "skip_h1_title": false,
   "title_cell": "Table of Contents",
   "title_sidebar": "Contents",
   "toc_cell": false,
   "toc_position": {},
   "toc_section_display": true,
   "toc_window_display": false
  }
 },
 "nbformat": 4,
 "nbformat_minor": 2
}
